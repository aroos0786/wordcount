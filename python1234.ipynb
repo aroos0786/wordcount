{
  "cells": [
    {
      "cell_type": "markdown",
      "metadata": {
        "id": "view-in-github",
        "colab_type": "text"
      },
      "source": [
        "<a href=\"https://colab.research.google.com/github/aroos0786/wordcount/blob/master/python1234.ipynb\" target=\"_parent\"><img src=\"https://colab.research.google.com/assets/colab-badge.svg\" alt=\"Open In Colab\"/></a>"
      ]
    },
    {
      "cell_type": "code",
      "execution_count": null,
      "metadata": {
        "id": "cTF7mZBW4x0q"
      },
      "outputs": [],
      "source": [
        "import pandas as pd\n",
        "import numpy as np\n",
        "import matplotlib.pyplot as plt\n",
        "from sklearn import preprocessing\n",
        "from IPython.display import display\n",
        "from sklearn.model_selection import StratifiedKFold\n",
        "from sklearn.ensemble import RandomForestClassifier\n",
        "from sklearn.metrics import confusion_matrix, ConfusionMatrixDisplay, silhouette_score, pairwise_distances\n",
        "from sklearn.cluster import KMeans"
      ]
    },
    {
      "cell_type": "code",
      "execution_count": null,
      "metadata": {
        "id": "XLfPgarP4x1L"
      },
      "outputs": [],
      "source": [
        "def readingDatasets(file_path, columns_options=None, header_options=None):\n",
        "    obtained_dataset = pd.read_csv(file_path, header=header_options, names=columns_options)\n",
        "    display(obtained_dataset.head())\n",
        "    return obtained_dataset\n",
        "\n",
        "def analyzing_datasets(req_dataset, column_labels):\n",
        "    display(req_dataset.describe())\n",
        "    special_classes = req_dataset[column_labels].unique() #uniques_classes\n",
        "    print(f\"\\nThe Classes exists in dataset: {special_classes}\\n\")\n",
        "    print(\"No of Data Rows having each class:\")\n",
        "    for datalabels in special_classes:\n",
        "        rows = len(req_dataset[req_dataset[column_labels] == datalabels])\n",
        "        print(f\"{rows} number of data rows for {datalabels} class.\")\n",
        "    \n",
        "def datasets_preprocessing(req_dataset, columns_label):   #preprocess _  datasets\n",
        "    dataset_columns = req_dataset.columns\n",
        "    for columns in dataset_columns:\n",
        "        if columns != columns_label:\n",
        "            req_dataset[columns] = req_dataset[columns] / req_dataset[columns].max()\n",
        "    \n",
        "    display(req_dataset)\n",
        "    return req_dataset\n",
        "\n",
        "def ploting_charts_of_classes(req_dataset, label_column):\n",
        "    class_labels = req_dataset[label_column].unique()\n",
        "    class_rows = {}\n",
        "    for class_label in class_labels:\n",
        "        class_rows[class_label] = len(req_dataset[req_dataset[label_column] == class_label])\n",
        "\n",
        "    class_names = [name for name, _ in class_rows.items()]\n",
        "    class_count = [count for _, count in class_rows.items()]\n",
        "\n",
        "    fig, ax = plt.subplots(figsize=(15, 5))\n",
        "    ax.barh(class_names, class_count, color=\"darkorange\")\n",
        "\n",
        "    plt.xlabel(\"Number of Data Rows per Class\")\n",
        "    plt.ylabel(\"Class Name\")\n",
        "    ax.set_title(\"Number of Data for each Class in the Dataset\")\n",
        "    ax.set_yticks([0, 1, 2])\n",
        "\n",
        "    ax.spines['top'].set_visible(False)\n",
        "    ax.spines['right'].set_visible(False)\n",
        "    ax.grid(color=\"grey\", linestyle='-', linewidth=0.25, alpha=0.85)    "
      ]
    },
    {
      "cell_type": "code",
      "execution_count": null,
      "metadata": {
        "id": "n3HUsiAT4x1b"
      },
      "outputs": [],
      "source": [
        "def get_Class_With_Highest_DataRows(req_dataset, label_column):\n",
        "    class_rows = {}\n",
        "    for data_label in req_dataset[label_column].unique():\n",
        "        class_rows[data_label] = len(req_dataset[req_dataset[label_column] == data_label])\n",
        "    \n",
        "    sorted_class_rows = sorted(class_rows.items(), key=lambda x:x[1], reverse=True)\n",
        "    return sorted_class_rows[0]\n",
        "\n",
        "\n",
        "def getting_DataRows_Length(class_with_most_data, imbalance_percentage, remaining_classes):\n",
        "    new_dataset_total_rows = round((class_with_most_data[1] / imbalance_percentage) * 100)\n",
        "    remaining_percentage_of_classes = 100 - imbalance_percentage\n",
        "    remaining_data_of_classes = round(((new_dataset_total_rows / 100) * remaining_percentage_of_classes) / remaining_classes ) \n",
        "    \n",
        "    return remaining_data_of_classes\n",
        "\n",
        "\n",
        "def save_Data_Frame(req_dataset, obt_dataset, last_index, limit=None):\n",
        "    dataset_columns = req_dataset.columns\n",
        "    current_index = last_index\n",
        "    for _, data in req_dataset.iterrows():\n",
        "        if current_index <= (limit + last_index):\n",
        "            for column in dataset_columns:\n",
        "                obt_dataset.at[current_index, column] = data[column]\n",
        "\n",
        "            current_index += 1\n",
        "     \n",
        "    return obt_dataset, current_index\n",
        "\n",
        "\n",
        "def creating_Subset(req_dataset, class_with_most_data, remaining_classes_rows, remaining_classes, label_column):\n",
        "    new_dataset = pd.DataFrame(columns=req_dataset.columns)\n",
        "    index = 0\n",
        "    most_class_data = req_dataset[req_dataset[label_column] == class_with_most_data[0]]\n",
        "    new_dataset, index = save_Data_Frame(req_dataset, most_class_data, last_index=index, limit=class_with_most_data[1])\n",
        "    \n",
        "    for datalabels in remaining_classes:\n",
        "        dataset_class_data = req_dataset[req_dataset[label_column] == datalabels]\n",
        "        obt_dataset, index = save_Data_Frame(dataset_class_data, new_dataset, last_index=index, limit=remaining_classes_rows)\n",
        "    \n",
        "    return obt_dataset\n",
        "\n",
        "def getImbalanceSubset(dataset, label_column, imbalance_percentage):\n",
        "    class_with_most_data = get_Class_With_Highest_DataRows(dataset, label_column)\n",
        "    remaining_classes = list(dataset[label_column].unique())\n",
        "    remaining_classes.remove(class_with_most_data[0])\n",
        "    \n",
        "    remaining_classes_rows = getting_DataRows_Length(class_with_most_data, imbalance_percentage, len(remaining_classes))\n",
        "    imbalance_dataset = creating_Subset(dataset, class_with_most_data, remaining_classes_rows, remaining_classes, label_column)\n",
        "    \n",
        "    analyzing_datasets(imbalance_dataset, column_labels=label_column)\n",
        "    \n",
        "    return imbalance_dataset"
      ]
    },
    {
      "cell_type": "code",
      "execution_count": null,
      "metadata": {
        "colab": {
          "base_uri": "https://localhost:8080/",
          "height": 787
        },
        "id": "E6kKXKTR4x1z",
        "outputId": "062df516-7cbd-40b8-8372-4c60932855a9"
      },
      "outputs": [
        {
          "output_type": "display_data",
          "data": {
            "text/html": [
              "\n",
              "  <div id=\"df-c2f68c45-b192-4f72-a622-ac48bf28d822\">\n",
              "    <div class=\"colab-df-container\">\n",
              "      <div>\n",
              "<style scoped>\n",
              "    .dataframe tbody tr th:only-of-type {\n",
              "        vertical-align: middle;\n",
              "    }\n",
              "\n",
              "    .dataframe tbody tr th {\n",
              "        vertical-align: top;\n",
              "    }\n",
              "\n",
              "    .dataframe thead th {\n",
              "        text-align: right;\n",
              "    }\n",
              "</style>\n",
              "<table border=\"1\" class=\"dataframe\">\n",
              "  <thead>\n",
              "    <tr style=\"text-align: right;\">\n",
              "      <th></th>\n",
              "      <th>class</th>\n",
              "      <th>hair</th>\n",
              "      <th>feathers</th>\n",
              "      <th>eggs</th>\n",
              "      <th>milk</th>\n",
              "      <th>airborne</th>\n",
              "      <th>aquatic</th>\n",
              "      <th>predator</th>\n",
              "      <th>toothed</th>\n",
              "      <th>backbone</th>\n",
              "      <th>breathes</th>\n",
              "      <th>venomous</th>\n",
              "      <th>fins</th>\n",
              "      <th>legs</th>\n",
              "      <th>tail</th>\n",
              "      <th>domestic</th>\n",
              "      <th>catsize</th>\n",
              "      <th>type</th>\n",
              "    </tr>\n",
              "  </thead>\n",
              "  <tbody>\n",
              "    <tr>\n",
              "      <th>0</th>\n",
              "      <td>aardvark</td>\n",
              "      <td>1</td>\n",
              "      <td>0</td>\n",
              "      <td>0</td>\n",
              "      <td>1</td>\n",
              "      <td>0</td>\n",
              "      <td>0</td>\n",
              "      <td>1</td>\n",
              "      <td>1</td>\n",
              "      <td>1</td>\n",
              "      <td>1</td>\n",
              "      <td>0</td>\n",
              "      <td>0</td>\n",
              "      <td>4</td>\n",
              "      <td>0</td>\n",
              "      <td>0</td>\n",
              "      <td>1</td>\n",
              "      <td>1</td>\n",
              "    </tr>\n",
              "    <tr>\n",
              "      <th>1</th>\n",
              "      <td>antelope</td>\n",
              "      <td>1</td>\n",
              "      <td>0</td>\n",
              "      <td>0</td>\n",
              "      <td>1</td>\n",
              "      <td>0</td>\n",
              "      <td>0</td>\n",
              "      <td>0</td>\n",
              "      <td>1</td>\n",
              "      <td>1</td>\n",
              "      <td>1</td>\n",
              "      <td>0</td>\n",
              "      <td>0</td>\n",
              "      <td>4</td>\n",
              "      <td>1</td>\n",
              "      <td>0</td>\n",
              "      <td>1</td>\n",
              "      <td>1</td>\n",
              "    </tr>\n",
              "    <tr>\n",
              "      <th>2</th>\n",
              "      <td>bass</td>\n",
              "      <td>0</td>\n",
              "      <td>0</td>\n",
              "      <td>1</td>\n",
              "      <td>0</td>\n",
              "      <td>0</td>\n",
              "      <td>1</td>\n",
              "      <td>1</td>\n",
              "      <td>1</td>\n",
              "      <td>1</td>\n",
              "      <td>0</td>\n",
              "      <td>0</td>\n",
              "      <td>1</td>\n",
              "      <td>0</td>\n",
              "      <td>1</td>\n",
              "      <td>0</td>\n",
              "      <td>0</td>\n",
              "      <td>4</td>\n",
              "    </tr>\n",
              "    <tr>\n",
              "      <th>3</th>\n",
              "      <td>bear</td>\n",
              "      <td>1</td>\n",
              "      <td>0</td>\n",
              "      <td>0</td>\n",
              "      <td>1</td>\n",
              "      <td>0</td>\n",
              "      <td>0</td>\n",
              "      <td>1</td>\n",
              "      <td>1</td>\n",
              "      <td>1</td>\n",
              "      <td>1</td>\n",
              "      <td>0</td>\n",
              "      <td>0</td>\n",
              "      <td>4</td>\n",
              "      <td>0</td>\n",
              "      <td>0</td>\n",
              "      <td>1</td>\n",
              "      <td>1</td>\n",
              "    </tr>\n",
              "    <tr>\n",
              "      <th>4</th>\n",
              "      <td>boar</td>\n",
              "      <td>1</td>\n",
              "      <td>0</td>\n",
              "      <td>0</td>\n",
              "      <td>1</td>\n",
              "      <td>0</td>\n",
              "      <td>0</td>\n",
              "      <td>1</td>\n",
              "      <td>1</td>\n",
              "      <td>1</td>\n",
              "      <td>1</td>\n",
              "      <td>0</td>\n",
              "      <td>0</td>\n",
              "      <td>4</td>\n",
              "      <td>1</td>\n",
              "      <td>0</td>\n",
              "      <td>1</td>\n",
              "      <td>1</td>\n",
              "    </tr>\n",
              "  </tbody>\n",
              "</table>\n",
              "</div>\n",
              "      <button class=\"colab-df-convert\" onclick=\"convertToInteractive('df-c2f68c45-b192-4f72-a622-ac48bf28d822')\"\n",
              "              title=\"Convert this dataframe to an interactive table.\"\n",
              "              style=\"display:none;\">\n",
              "        \n",
              "  <svg xmlns=\"http://www.w3.org/2000/svg\" height=\"24px\"viewBox=\"0 0 24 24\"\n",
              "       width=\"24px\">\n",
              "    <path d=\"M0 0h24v24H0V0z\" fill=\"none\"/>\n",
              "    <path d=\"M18.56 5.44l.94 2.06.94-2.06 2.06-.94-2.06-.94-.94-2.06-.94 2.06-2.06.94zm-11 1L8.5 8.5l.94-2.06 2.06-.94-2.06-.94L8.5 2.5l-.94 2.06-2.06.94zm10 10l.94 2.06.94-2.06 2.06-.94-2.06-.94-.94-2.06-.94 2.06-2.06.94z\"/><path d=\"M17.41 7.96l-1.37-1.37c-.4-.4-.92-.59-1.43-.59-.52 0-1.04.2-1.43.59L10.3 9.45l-7.72 7.72c-.78.78-.78 2.05 0 2.83L4 21.41c.39.39.9.59 1.41.59.51 0 1.02-.2 1.41-.59l7.78-7.78 2.81-2.81c.8-.78.8-2.07 0-2.86zM5.41 20L4 18.59l7.72-7.72 1.47 1.35L5.41 20z\"/>\n",
              "  </svg>\n",
              "      </button>\n",
              "      \n",
              "  <style>\n",
              "    .colab-df-container {\n",
              "      display:flex;\n",
              "      flex-wrap:wrap;\n",
              "      gap: 12px;\n",
              "    }\n",
              "\n",
              "    .colab-df-convert {\n",
              "      background-color: #E8F0FE;\n",
              "      border: none;\n",
              "      border-radius: 50%;\n",
              "      cursor: pointer;\n",
              "      display: none;\n",
              "      fill: #1967D2;\n",
              "      height: 32px;\n",
              "      padding: 0 0 0 0;\n",
              "      width: 32px;\n",
              "    }\n",
              "\n",
              "    .colab-df-convert:hover {\n",
              "      background-color: #E2EBFA;\n",
              "      box-shadow: 0px 1px 2px rgba(60, 64, 67, 0.3), 0px 1px 3px 1px rgba(60, 64, 67, 0.15);\n",
              "      fill: #174EA6;\n",
              "    }\n",
              "\n",
              "    [theme=dark] .colab-df-convert {\n",
              "      background-color: #3B4455;\n",
              "      fill: #D2E3FC;\n",
              "    }\n",
              "\n",
              "    [theme=dark] .colab-df-convert:hover {\n",
              "      background-color: #434B5C;\n",
              "      box-shadow: 0px 1px 3px 1px rgba(0, 0, 0, 0.15);\n",
              "      filter: drop-shadow(0px 1px 2px rgba(0, 0, 0, 0.3));\n",
              "      fill: #FFFFFF;\n",
              "    }\n",
              "  </style>\n",
              "\n",
              "      <script>\n",
              "        const buttonEl =\n",
              "          document.querySelector('#df-c2f68c45-b192-4f72-a622-ac48bf28d822 button.colab-df-convert');\n",
              "        buttonEl.style.display =\n",
              "          google.colab.kernel.accessAllowed ? 'block' : 'none';\n",
              "\n",
              "        async function convertToInteractive(key) {\n",
              "          const element = document.querySelector('#df-c2f68c45-b192-4f72-a622-ac48bf28d822');\n",
              "          const dataTable =\n",
              "            await google.colab.kernel.invokeFunction('convertToInteractive',\n",
              "                                                     [key], {});\n",
              "          if (!dataTable) return;\n",
              "\n",
              "          const docLinkHtml = 'Like what you see? Visit the ' +\n",
              "            '<a target=\"_blank\" href=https://colab.research.google.com/notebooks/data_table.ipynb>data table notebook</a>'\n",
              "            + ' to learn more about interactive tables.';\n",
              "          element.innerHTML = '';\n",
              "          dataTable['output_type'] = 'display_data';\n",
              "          await google.colab.output.renderOutput(dataTable, element);\n",
              "          const docLink = document.createElement('div');\n",
              "          docLink.innerHTML = docLinkHtml;\n",
              "          element.appendChild(docLink);\n",
              "        }\n",
              "      </script>\n",
              "    </div>\n",
              "  </div>\n",
              "  "
            ],
            "text/plain": [
              "      class  hair  feathers  eggs  milk  ...  legs  tail  domestic  catsize  type\n",
              "0  aardvark     1         0     0     1  ...     4     0         0        1     1\n",
              "1  antelope     1         0     0     1  ...     4     1         0        1     1\n",
              "2      bass     0         0     1     0  ...     0     1         0        0     4\n",
              "3      bear     1         0     0     1  ...     4     0         0        1     1\n",
              "4      boar     1         0     0     1  ...     4     1         0        1     1\n",
              "\n",
              "[5 rows x 18 columns]"
            ]
          },
          "metadata": {}
        },
        {
          "output_type": "display_data",
          "data": {
            "text/html": [
              "\n",
              "  <div id=\"df-87dbbe27-b984-41ab-a10a-5629f83e18c7\">\n",
              "    <div class=\"colab-df-container\">\n",
              "      <div>\n",
              "<style scoped>\n",
              "    .dataframe tbody tr th:only-of-type {\n",
              "        vertical-align: middle;\n",
              "    }\n",
              "\n",
              "    .dataframe tbody tr th {\n",
              "        vertical-align: top;\n",
              "    }\n",
              "\n",
              "    .dataframe thead th {\n",
              "        text-align: right;\n",
              "    }\n",
              "</style>\n",
              "<table border=\"1\" class=\"dataframe\">\n",
              "  <thead>\n",
              "    <tr style=\"text-align: right;\">\n",
              "      <th></th>\n",
              "      <th>class</th>\n",
              "      <th>age</th>\n",
              "      <th>menopause</th>\n",
              "      <th>tumor-size</th>\n",
              "      <th>inv-nodes</th>\n",
              "      <th>node-caps</th>\n",
              "      <th>deg-malig</th>\n",
              "      <th>breast</th>\n",
              "      <th>breast-quad</th>\n",
              "      <th>irradiat</th>\n",
              "    </tr>\n",
              "  </thead>\n",
              "  <tbody>\n",
              "    <tr>\n",
              "      <th>0</th>\n",
              "      <td>no-recurrence-events</td>\n",
              "      <td>30-39</td>\n",
              "      <td>premeno</td>\n",
              "      <td>30-34</td>\n",
              "      <td>0-2</td>\n",
              "      <td>no</td>\n",
              "      <td>3</td>\n",
              "      <td>left</td>\n",
              "      <td>left_low</td>\n",
              "      <td>no</td>\n",
              "    </tr>\n",
              "    <tr>\n",
              "      <th>1</th>\n",
              "      <td>no-recurrence-events</td>\n",
              "      <td>40-49</td>\n",
              "      <td>premeno</td>\n",
              "      <td>20-24</td>\n",
              "      <td>0-2</td>\n",
              "      <td>no</td>\n",
              "      <td>2</td>\n",
              "      <td>right</td>\n",
              "      <td>right_up</td>\n",
              "      <td>no</td>\n",
              "    </tr>\n",
              "    <tr>\n",
              "      <th>2</th>\n",
              "      <td>no-recurrence-events</td>\n",
              "      <td>40-49</td>\n",
              "      <td>premeno</td>\n",
              "      <td>20-24</td>\n",
              "      <td>0-2</td>\n",
              "      <td>no</td>\n",
              "      <td>2</td>\n",
              "      <td>left</td>\n",
              "      <td>left_low</td>\n",
              "      <td>no</td>\n",
              "    </tr>\n",
              "    <tr>\n",
              "      <th>3</th>\n",
              "      <td>no-recurrence-events</td>\n",
              "      <td>60-69</td>\n",
              "      <td>ge40</td>\n",
              "      <td>15-19</td>\n",
              "      <td>0-2</td>\n",
              "      <td>no</td>\n",
              "      <td>2</td>\n",
              "      <td>right</td>\n",
              "      <td>left_up</td>\n",
              "      <td>no</td>\n",
              "    </tr>\n",
              "    <tr>\n",
              "      <th>4</th>\n",
              "      <td>no-recurrence-events</td>\n",
              "      <td>40-49</td>\n",
              "      <td>premeno</td>\n",
              "      <td>0-4</td>\n",
              "      <td>0-2</td>\n",
              "      <td>no</td>\n",
              "      <td>2</td>\n",
              "      <td>right</td>\n",
              "      <td>right_low</td>\n",
              "      <td>no</td>\n",
              "    </tr>\n",
              "  </tbody>\n",
              "</table>\n",
              "</div>\n",
              "      <button class=\"colab-df-convert\" onclick=\"convertToInteractive('df-87dbbe27-b984-41ab-a10a-5629f83e18c7')\"\n",
              "              title=\"Convert this dataframe to an interactive table.\"\n",
              "              style=\"display:none;\">\n",
              "        \n",
              "  <svg xmlns=\"http://www.w3.org/2000/svg\" height=\"24px\"viewBox=\"0 0 24 24\"\n",
              "       width=\"24px\">\n",
              "    <path d=\"M0 0h24v24H0V0z\" fill=\"none\"/>\n",
              "    <path d=\"M18.56 5.44l.94 2.06.94-2.06 2.06-.94-2.06-.94-.94-2.06-.94 2.06-2.06.94zm-11 1L8.5 8.5l.94-2.06 2.06-.94-2.06-.94L8.5 2.5l-.94 2.06-2.06.94zm10 10l.94 2.06.94-2.06 2.06-.94-2.06-.94-.94-2.06-.94 2.06-2.06.94z\"/><path d=\"M17.41 7.96l-1.37-1.37c-.4-.4-.92-.59-1.43-.59-.52 0-1.04.2-1.43.59L10.3 9.45l-7.72 7.72c-.78.78-.78 2.05 0 2.83L4 21.41c.39.39.9.59 1.41.59.51 0 1.02-.2 1.41-.59l7.78-7.78 2.81-2.81c.8-.78.8-2.07 0-2.86zM5.41 20L4 18.59l7.72-7.72 1.47 1.35L5.41 20z\"/>\n",
              "  </svg>\n",
              "      </button>\n",
              "      \n",
              "  <style>\n",
              "    .colab-df-container {\n",
              "      display:flex;\n",
              "      flex-wrap:wrap;\n",
              "      gap: 12px;\n",
              "    }\n",
              "\n",
              "    .colab-df-convert {\n",
              "      background-color: #E8F0FE;\n",
              "      border: none;\n",
              "      border-radius: 50%;\n",
              "      cursor: pointer;\n",
              "      display: none;\n",
              "      fill: #1967D2;\n",
              "      height: 32px;\n",
              "      padding: 0 0 0 0;\n",
              "      width: 32px;\n",
              "    }\n",
              "\n",
              "    .colab-df-convert:hover {\n",
              "      background-color: #E2EBFA;\n",
              "      box-shadow: 0px 1px 2px rgba(60, 64, 67, 0.3), 0px 1px 3px 1px rgba(60, 64, 67, 0.15);\n",
              "      fill: #174EA6;\n",
              "    }\n",
              "\n",
              "    [theme=dark] .colab-df-convert {\n",
              "      background-color: #3B4455;\n",
              "      fill: #D2E3FC;\n",
              "    }\n",
              "\n",
              "    [theme=dark] .colab-df-convert:hover {\n",
              "      background-color: #434B5C;\n",
              "      box-shadow: 0px 1px 3px 1px rgba(0, 0, 0, 0.15);\n",
              "      filter: drop-shadow(0px 1px 2px rgba(0, 0, 0, 0.3));\n",
              "      fill: #FFFFFF;\n",
              "    }\n",
              "  </style>\n",
              "\n",
              "      <script>\n",
              "        const buttonEl =\n",
              "          document.querySelector('#df-87dbbe27-b984-41ab-a10a-5629f83e18c7 button.colab-df-convert');\n",
              "        buttonEl.style.display =\n",
              "          google.colab.kernel.accessAllowed ? 'block' : 'none';\n",
              "\n",
              "        async function convertToInteractive(key) {\n",
              "          const element = document.querySelector('#df-87dbbe27-b984-41ab-a10a-5629f83e18c7');\n",
              "          const dataTable =\n",
              "            await google.colab.kernel.invokeFunction('convertToInteractive',\n",
              "                                                     [key], {});\n",
              "          if (!dataTable) return;\n",
              "\n",
              "          const docLinkHtml = 'Like what you see? Visit the ' +\n",
              "            '<a target=\"_blank\" href=https://colab.research.google.com/notebooks/data_table.ipynb>data table notebook</a>'\n",
              "            + ' to learn more about interactive tables.';\n",
              "          element.innerHTML = '';\n",
              "          dataTable['output_type'] = 'display_data';\n",
              "          await google.colab.output.renderOutput(dataTable, element);\n",
              "          const docLink = document.createElement('div');\n",
              "          docLink.innerHTML = docLinkHtml;\n",
              "          element.appendChild(docLink);\n",
              "        }\n",
              "      </script>\n",
              "    </div>\n",
              "  </div>\n",
              "  "
            ],
            "text/plain": [
              "                  class    age menopause  ... breast breast-quad irradiat\n",
              "0  no-recurrence-events  30-39   premeno  ...   left    left_low       no\n",
              "1  no-recurrence-events  40-49   premeno  ...  right    right_up       no\n",
              "2  no-recurrence-events  40-49   premeno  ...   left    left_low       no\n",
              "3  no-recurrence-events  60-69      ge40  ...  right     left_up       no\n",
              "4  no-recurrence-events  40-49   premeno  ...  right   right_low       no\n",
              "\n",
              "[5 rows x 10 columns]"
            ]
          },
          "metadata": {}
        },
        {
          "output_type": "display_data",
          "data": {
            "text/html": [
              "\n",
              "  <div id=\"df-9a92d2bb-2f86-425d-838b-2eb9d37e6740\">\n",
              "    <div class=\"colab-df-container\">\n",
              "      <div>\n",
              "<style scoped>\n",
              "    .dataframe tbody tr th:only-of-type {\n",
              "        vertical-align: middle;\n",
              "    }\n",
              "\n",
              "    .dataframe tbody tr th {\n",
              "        vertical-align: top;\n",
              "    }\n",
              "\n",
              "    .dataframe thead th {\n",
              "        text-align: right;\n",
              "    }\n",
              "</style>\n",
              "<table border=\"1\" class=\"dataframe\">\n",
              "  <thead>\n",
              "    <tr style=\"text-align: right;\">\n",
              "      <th></th>\n",
              "      <th>class</th>\n",
              "      <th>Alcohol</th>\n",
              "      <th>Malic acid</th>\n",
              "      <th>Ash</th>\n",
              "      <th>Alcalinity of ash</th>\n",
              "      <th>Magnesium</th>\n",
              "      <th>Total phenols</th>\n",
              "      <th>Flavanoids</th>\n",
              "      <th>Nonflavanoid phenols</th>\n",
              "      <th>Proanthocyanins</th>\n",
              "      <th>Color intensity</th>\n",
              "      <th>Hue</th>\n",
              "      <th>OD280/OD315 of diluted wines</th>\n",
              "      <th>Proline</th>\n",
              "    </tr>\n",
              "  </thead>\n",
              "  <tbody>\n",
              "    <tr>\n",
              "      <th>0</th>\n",
              "      <td>1</td>\n",
              "      <td>14.23</td>\n",
              "      <td>1.71</td>\n",
              "      <td>2.43</td>\n",
              "      <td>15.6</td>\n",
              "      <td>127</td>\n",
              "      <td>2.80</td>\n",
              "      <td>3.06</td>\n",
              "      <td>0.28</td>\n",
              "      <td>2.29</td>\n",
              "      <td>5.64</td>\n",
              "      <td>1.04</td>\n",
              "      <td>3.92</td>\n",
              "      <td>1065</td>\n",
              "    </tr>\n",
              "    <tr>\n",
              "      <th>1</th>\n",
              "      <td>1</td>\n",
              "      <td>13.20</td>\n",
              "      <td>1.78</td>\n",
              "      <td>2.14</td>\n",
              "      <td>11.2</td>\n",
              "      <td>100</td>\n",
              "      <td>2.65</td>\n",
              "      <td>2.76</td>\n",
              "      <td>0.26</td>\n",
              "      <td>1.28</td>\n",
              "      <td>4.38</td>\n",
              "      <td>1.05</td>\n",
              "      <td>3.40</td>\n",
              "      <td>1050</td>\n",
              "    </tr>\n",
              "    <tr>\n",
              "      <th>2</th>\n",
              "      <td>1</td>\n",
              "      <td>13.16</td>\n",
              "      <td>2.36</td>\n",
              "      <td>2.67</td>\n",
              "      <td>18.6</td>\n",
              "      <td>101</td>\n",
              "      <td>2.80</td>\n",
              "      <td>3.24</td>\n",
              "      <td>0.30</td>\n",
              "      <td>2.81</td>\n",
              "      <td>5.68</td>\n",
              "      <td>1.03</td>\n",
              "      <td>3.17</td>\n",
              "      <td>1185</td>\n",
              "    </tr>\n",
              "    <tr>\n",
              "      <th>3</th>\n",
              "      <td>1</td>\n",
              "      <td>14.37</td>\n",
              "      <td>1.95</td>\n",
              "      <td>2.50</td>\n",
              "      <td>16.8</td>\n",
              "      <td>113</td>\n",
              "      <td>3.85</td>\n",
              "      <td>3.49</td>\n",
              "      <td>0.24</td>\n",
              "      <td>2.18</td>\n",
              "      <td>7.80</td>\n",
              "      <td>0.86</td>\n",
              "      <td>3.45</td>\n",
              "      <td>1480</td>\n",
              "    </tr>\n",
              "    <tr>\n",
              "      <th>4</th>\n",
              "      <td>1</td>\n",
              "      <td>13.24</td>\n",
              "      <td>2.59</td>\n",
              "      <td>2.87</td>\n",
              "      <td>21.0</td>\n",
              "      <td>118</td>\n",
              "      <td>2.80</td>\n",
              "      <td>2.69</td>\n",
              "      <td>0.39</td>\n",
              "      <td>1.82</td>\n",
              "      <td>4.32</td>\n",
              "      <td>1.04</td>\n",
              "      <td>2.93</td>\n",
              "      <td>735</td>\n",
              "    </tr>\n",
              "  </tbody>\n",
              "</table>\n",
              "</div>\n",
              "      <button class=\"colab-df-convert\" onclick=\"convertToInteractive('df-9a92d2bb-2f86-425d-838b-2eb9d37e6740')\"\n",
              "              title=\"Convert this dataframe to an interactive table.\"\n",
              "              style=\"display:none;\">\n",
              "        \n",
              "  <svg xmlns=\"http://www.w3.org/2000/svg\" height=\"24px\"viewBox=\"0 0 24 24\"\n",
              "       width=\"24px\">\n",
              "    <path d=\"M0 0h24v24H0V0z\" fill=\"none\"/>\n",
              "    <path d=\"M18.56 5.44l.94 2.06.94-2.06 2.06-.94-2.06-.94-.94-2.06-.94 2.06-2.06.94zm-11 1L8.5 8.5l.94-2.06 2.06-.94-2.06-.94L8.5 2.5l-.94 2.06-2.06.94zm10 10l.94 2.06.94-2.06 2.06-.94-2.06-.94-.94-2.06-.94 2.06-2.06.94z\"/><path d=\"M17.41 7.96l-1.37-1.37c-.4-.4-.92-.59-1.43-.59-.52 0-1.04.2-1.43.59L10.3 9.45l-7.72 7.72c-.78.78-.78 2.05 0 2.83L4 21.41c.39.39.9.59 1.41.59.51 0 1.02-.2 1.41-.59l7.78-7.78 2.81-2.81c.8-.78.8-2.07 0-2.86zM5.41 20L4 18.59l7.72-7.72 1.47 1.35L5.41 20z\"/>\n",
              "  </svg>\n",
              "      </button>\n",
              "      \n",
              "  <style>\n",
              "    .colab-df-container {\n",
              "      display:flex;\n",
              "      flex-wrap:wrap;\n",
              "      gap: 12px;\n",
              "    }\n",
              "\n",
              "    .colab-df-convert {\n",
              "      background-color: #E8F0FE;\n",
              "      border: none;\n",
              "      border-radius: 50%;\n",
              "      cursor: pointer;\n",
              "      display: none;\n",
              "      fill: #1967D2;\n",
              "      height: 32px;\n",
              "      padding: 0 0 0 0;\n",
              "      width: 32px;\n",
              "    }\n",
              "\n",
              "    .colab-df-convert:hover {\n",
              "      background-color: #E2EBFA;\n",
              "      box-shadow: 0px 1px 2px rgba(60, 64, 67, 0.3), 0px 1px 3px 1px rgba(60, 64, 67, 0.15);\n",
              "      fill: #174EA6;\n",
              "    }\n",
              "\n",
              "    [theme=dark] .colab-df-convert {\n",
              "      background-color: #3B4455;\n",
              "      fill: #D2E3FC;\n",
              "    }\n",
              "\n",
              "    [theme=dark] .colab-df-convert:hover {\n",
              "      background-color: #434B5C;\n",
              "      box-shadow: 0px 1px 3px 1px rgba(0, 0, 0, 0.15);\n",
              "      filter: drop-shadow(0px 1px 2px rgba(0, 0, 0, 0.3));\n",
              "      fill: #FFFFFF;\n",
              "    }\n",
              "  </style>\n",
              "\n",
              "      <script>\n",
              "        const buttonEl =\n",
              "          document.querySelector('#df-9a92d2bb-2f86-425d-838b-2eb9d37e6740 button.colab-df-convert');\n",
              "        buttonEl.style.display =\n",
              "          google.colab.kernel.accessAllowed ? 'block' : 'none';\n",
              "\n",
              "        async function convertToInteractive(key) {\n",
              "          const element = document.querySelector('#df-9a92d2bb-2f86-425d-838b-2eb9d37e6740');\n",
              "          const dataTable =\n",
              "            await google.colab.kernel.invokeFunction('convertToInteractive',\n",
              "                                                     [key], {});\n",
              "          if (!dataTable) return;\n",
              "\n",
              "          const docLinkHtml = 'Like what you see? Visit the ' +\n",
              "            '<a target=\"_blank\" href=https://colab.research.google.com/notebooks/data_table.ipynb>data table notebook</a>'\n",
              "            + ' to learn more about interactive tables.';\n",
              "          element.innerHTML = '';\n",
              "          dataTable['output_type'] = 'display_data';\n",
              "          await google.colab.output.renderOutput(dataTable, element);\n",
              "          const docLink = document.createElement('div');\n",
              "          docLink.innerHTML = docLinkHtml;\n",
              "          element.appendChild(docLink);\n",
              "        }\n",
              "      </script>\n",
              "    </div>\n",
              "  </div>\n",
              "  "
            ],
            "text/plain": [
              "   class  Alcohol  Malic acid  ...   Hue  OD280/OD315 of diluted wines  Proline\n",
              "0      1    14.23        1.71  ...  1.04                          3.92     1065\n",
              "1      1    13.20        1.78  ...  1.05                          3.40     1050\n",
              "2      1    13.16        2.36  ...  1.03                          3.17     1185\n",
              "3      1    14.37        1.95  ...  0.86                          3.45     1480\n",
              "4      1    13.24        2.59  ...  1.04                          2.93      735\n",
              "\n",
              "[5 rows x 14 columns]"
            ]
          },
          "metadata": {}
        }
      ],
      "source": [
        "# Yahan dataset read karna  ok \n",
        "#yahan pr uodate krna hey columns k name \n",
        "wine_columns = [\"class\", \"Alcohol\",\n",
        " \t\"Malic acid\",\n",
        " \t\"Ash\",\n",
        "\t\"Alcalinity of ash\",  \n",
        " \t\"Magnesium\",\n",
        "\t\"Total phenols\",\n",
        " \t\"Flavanoids\",\n",
        " \t\"Nonflavanoid phenols\",\n",
        " \t\"Proanthocyanins\",\n",
        "\t\"Color intensity\",\n",
        " \t\"Hue\",\n",
        " \t\"OD280/OD315 of diluted wines\", \"Proline\"\n",
        "] \n",
        "\t \n",
        "zoo_columns = [\"class\",\n",
        "\t \"hair\",\n",
        "\t \"feathers\",\n",
        "\t \"eggs\",\n",
        "\t \"milk\",\n",
        "\t \"airborne\",\n",
        "\t \"aquatic\",\n",
        "\t \"predator\",\n",
        "\t \"toothed\",\n",
        "\t \"backbone\",\n",
        "\t \"breathes\",\n",
        "\t \"venomous\",\n",
        "\t \"fins\",\n",
        "\t \"legs\",\n",
        "\t \"tail\",\n",
        "\t \"domestic\",\n",
        "\t \"catsize\",\n",
        "\t \"type\"\n",
        "]\n",
        "\n",
        "breast_cancer_columns = [\n",
        "\t\"class\",\n",
        "\t\"age\",\n",
        "\t\"menopause\",\n",
        "\t\"tumor-size\",\n",
        "\t\"inv-nodes\",\n",
        "\t\"node-caps\",\n",
        "\t\"deg-malig\",\n",
        "\t\"breast\",\n",
        "\t\"breast-quad\",\n",
        "\t\"irradiat\"\n",
        "]\t \n",
        "# Yeah hai read-dataset, dataset read ka function\n",
        "zoo_dataset = readingDatasets(file_path=\"zoo.data\", columns_options=zoo_columns)\n",
        "breast_cancer_dataset = readingDatasets(file_path=\"breast-cancer.data\", columns_options= breast_cancer_columns)\n",
        "wine_dataset = readingDatasets(file_path=\"wine.data\", columns_options=wine_columns)"
      ]
    },
    {
      "cell_type": "code",
      "execution_count": null,
      "metadata": {
        "colab": {
          "base_uri": "https://localhost:8080/",
          "height": 1000
        },
        "id": "mCeT651Z4x13",
        "outputId": "ca0ba902-c78e-4aaa-c41b-599f188f5431"
      },
      "outputs": [
        {
          "output_type": "display_data",
          "data": {
            "text/html": [
              "\n",
              "  <div id=\"df-388a5daa-e013-4dd9-9fb5-befef6e68c60\">\n",
              "    <div class=\"colab-df-container\">\n",
              "      <div>\n",
              "<style scoped>\n",
              "    .dataframe tbody tr th:only-of-type {\n",
              "        vertical-align: middle;\n",
              "    }\n",
              "\n",
              "    .dataframe tbody tr th {\n",
              "        vertical-align: top;\n",
              "    }\n",
              "\n",
              "    .dataframe thead th {\n",
              "        text-align: right;\n",
              "    }\n",
              "</style>\n",
              "<table border=\"1\" class=\"dataframe\">\n",
              "  <thead>\n",
              "    <tr style=\"text-align: right;\">\n",
              "      <th></th>\n",
              "      <th>class</th>\n",
              "      <th>Alcohol</th>\n",
              "      <th>Malic acid</th>\n",
              "      <th>Ash</th>\n",
              "      <th>Alcalinity of ash</th>\n",
              "      <th>Magnesium</th>\n",
              "      <th>Total phenols</th>\n",
              "      <th>Flavanoids</th>\n",
              "      <th>Nonflavanoid phenols</th>\n",
              "      <th>Proanthocyanins</th>\n",
              "      <th>Color intensity</th>\n",
              "      <th>Hue</th>\n",
              "      <th>OD280/OD315 of diluted wines</th>\n",
              "      <th>Proline</th>\n",
              "    </tr>\n",
              "  </thead>\n",
              "  <tbody>\n",
              "    <tr>\n",
              "      <th>count</th>\n",
              "      <td>178.000000</td>\n",
              "      <td>178.000000</td>\n",
              "      <td>178.000000</td>\n",
              "      <td>178.000000</td>\n",
              "      <td>178.000000</td>\n",
              "      <td>178.000000</td>\n",
              "      <td>178.000000</td>\n",
              "      <td>178.000000</td>\n",
              "      <td>178.000000</td>\n",
              "      <td>178.000000</td>\n",
              "      <td>178.000000</td>\n",
              "      <td>178.000000</td>\n",
              "      <td>178.000000</td>\n",
              "      <td>178.000000</td>\n",
              "    </tr>\n",
              "    <tr>\n",
              "      <th>mean</th>\n",
              "      <td>1.938202</td>\n",
              "      <td>13.000618</td>\n",
              "      <td>2.336348</td>\n",
              "      <td>2.366517</td>\n",
              "      <td>19.494944</td>\n",
              "      <td>99.741573</td>\n",
              "      <td>2.295112</td>\n",
              "      <td>2.029270</td>\n",
              "      <td>0.361854</td>\n",
              "      <td>1.590899</td>\n",
              "      <td>5.058090</td>\n",
              "      <td>0.957449</td>\n",
              "      <td>2.611685</td>\n",
              "      <td>746.893258</td>\n",
              "    </tr>\n",
              "    <tr>\n",
              "      <th>std</th>\n",
              "      <td>0.775035</td>\n",
              "      <td>0.811827</td>\n",
              "      <td>1.117146</td>\n",
              "      <td>0.274344</td>\n",
              "      <td>3.339564</td>\n",
              "      <td>14.282484</td>\n",
              "      <td>0.625851</td>\n",
              "      <td>0.998859</td>\n",
              "      <td>0.124453</td>\n",
              "      <td>0.572359</td>\n",
              "      <td>2.318286</td>\n",
              "      <td>0.228572</td>\n",
              "      <td>0.709990</td>\n",
              "      <td>314.907474</td>\n",
              "    </tr>\n",
              "    <tr>\n",
              "      <th>min</th>\n",
              "      <td>1.000000</td>\n",
              "      <td>11.030000</td>\n",
              "      <td>0.740000</td>\n",
              "      <td>1.360000</td>\n",
              "      <td>10.600000</td>\n",
              "      <td>70.000000</td>\n",
              "      <td>0.980000</td>\n",
              "      <td>0.340000</td>\n",
              "      <td>0.130000</td>\n",
              "      <td>0.410000</td>\n",
              "      <td>1.280000</td>\n",
              "      <td>0.480000</td>\n",
              "      <td>1.270000</td>\n",
              "      <td>278.000000</td>\n",
              "    </tr>\n",
              "    <tr>\n",
              "      <th>25%</th>\n",
              "      <td>1.000000</td>\n",
              "      <td>12.362500</td>\n",
              "      <td>1.602500</td>\n",
              "      <td>2.210000</td>\n",
              "      <td>17.200000</td>\n",
              "      <td>88.000000</td>\n",
              "      <td>1.742500</td>\n",
              "      <td>1.205000</td>\n",
              "      <td>0.270000</td>\n",
              "      <td>1.250000</td>\n",
              "      <td>3.220000</td>\n",
              "      <td>0.782500</td>\n",
              "      <td>1.937500</td>\n",
              "      <td>500.500000</td>\n",
              "    </tr>\n",
              "    <tr>\n",
              "      <th>50%</th>\n",
              "      <td>2.000000</td>\n",
              "      <td>13.050000</td>\n",
              "      <td>1.865000</td>\n",
              "      <td>2.360000</td>\n",
              "      <td>19.500000</td>\n",
              "      <td>98.000000</td>\n",
              "      <td>2.355000</td>\n",
              "      <td>2.135000</td>\n",
              "      <td>0.340000</td>\n",
              "      <td>1.555000</td>\n",
              "      <td>4.690000</td>\n",
              "      <td>0.965000</td>\n",
              "      <td>2.780000</td>\n",
              "      <td>673.500000</td>\n",
              "    </tr>\n",
              "    <tr>\n",
              "      <th>75%</th>\n",
              "      <td>3.000000</td>\n",
              "      <td>13.677500</td>\n",
              "      <td>3.082500</td>\n",
              "      <td>2.557500</td>\n",
              "      <td>21.500000</td>\n",
              "      <td>107.000000</td>\n",
              "      <td>2.800000</td>\n",
              "      <td>2.875000</td>\n",
              "      <td>0.437500</td>\n",
              "      <td>1.950000</td>\n",
              "      <td>6.200000</td>\n",
              "      <td>1.120000</td>\n",
              "      <td>3.170000</td>\n",
              "      <td>985.000000</td>\n",
              "    </tr>\n",
              "    <tr>\n",
              "      <th>max</th>\n",
              "      <td>3.000000</td>\n",
              "      <td>14.830000</td>\n",
              "      <td>5.800000</td>\n",
              "      <td>3.230000</td>\n",
              "      <td>30.000000</td>\n",
              "      <td>162.000000</td>\n",
              "      <td>3.880000</td>\n",
              "      <td>5.080000</td>\n",
              "      <td>0.660000</td>\n",
              "      <td>3.580000</td>\n",
              "      <td>13.000000</td>\n",
              "      <td>1.710000</td>\n",
              "      <td>4.000000</td>\n",
              "      <td>1680.000000</td>\n",
              "    </tr>\n",
              "  </tbody>\n",
              "</table>\n",
              "</div>\n",
              "      <button class=\"colab-df-convert\" onclick=\"convertToInteractive('df-388a5daa-e013-4dd9-9fb5-befef6e68c60')\"\n",
              "              title=\"Convert this dataframe to an interactive table.\"\n",
              "              style=\"display:none;\">\n",
              "        \n",
              "  <svg xmlns=\"http://www.w3.org/2000/svg\" height=\"24px\"viewBox=\"0 0 24 24\"\n",
              "       width=\"24px\">\n",
              "    <path d=\"M0 0h24v24H0V0z\" fill=\"none\"/>\n",
              "    <path d=\"M18.56 5.44l.94 2.06.94-2.06 2.06-.94-2.06-.94-.94-2.06-.94 2.06-2.06.94zm-11 1L8.5 8.5l.94-2.06 2.06-.94-2.06-.94L8.5 2.5l-.94 2.06-2.06.94zm10 10l.94 2.06.94-2.06 2.06-.94-2.06-.94-.94-2.06-.94 2.06-2.06.94z\"/><path d=\"M17.41 7.96l-1.37-1.37c-.4-.4-.92-.59-1.43-.59-.52 0-1.04.2-1.43.59L10.3 9.45l-7.72 7.72c-.78.78-.78 2.05 0 2.83L4 21.41c.39.39.9.59 1.41.59.51 0 1.02-.2 1.41-.59l7.78-7.78 2.81-2.81c.8-.78.8-2.07 0-2.86zM5.41 20L4 18.59l7.72-7.72 1.47 1.35L5.41 20z\"/>\n",
              "  </svg>\n",
              "      </button>\n",
              "      \n",
              "  <style>\n",
              "    .colab-df-container {\n",
              "      display:flex;\n",
              "      flex-wrap:wrap;\n",
              "      gap: 12px;\n",
              "    }\n",
              "\n",
              "    .colab-df-convert {\n",
              "      background-color: #E8F0FE;\n",
              "      border: none;\n",
              "      border-radius: 50%;\n",
              "      cursor: pointer;\n",
              "      display: none;\n",
              "      fill: #1967D2;\n",
              "      height: 32px;\n",
              "      padding: 0 0 0 0;\n",
              "      width: 32px;\n",
              "    }\n",
              "\n",
              "    .colab-df-convert:hover {\n",
              "      background-color: #E2EBFA;\n",
              "      box-shadow: 0px 1px 2px rgba(60, 64, 67, 0.3), 0px 1px 3px 1px rgba(60, 64, 67, 0.15);\n",
              "      fill: #174EA6;\n",
              "    }\n",
              "\n",
              "    [theme=dark] .colab-df-convert {\n",
              "      background-color: #3B4455;\n",
              "      fill: #D2E3FC;\n",
              "    }\n",
              "\n",
              "    [theme=dark] .colab-df-convert:hover {\n",
              "      background-color: #434B5C;\n",
              "      box-shadow: 0px 1px 3px 1px rgba(0, 0, 0, 0.15);\n",
              "      filter: drop-shadow(0px 1px 2px rgba(0, 0, 0, 0.3));\n",
              "      fill: #FFFFFF;\n",
              "    }\n",
              "  </style>\n",
              "\n",
              "      <script>\n",
              "        const buttonEl =\n",
              "          document.querySelector('#df-388a5daa-e013-4dd9-9fb5-befef6e68c60 button.colab-df-convert');\n",
              "        buttonEl.style.display =\n",
              "          google.colab.kernel.accessAllowed ? 'block' : 'none';\n",
              "\n",
              "        async function convertToInteractive(key) {\n",
              "          const element = document.querySelector('#df-388a5daa-e013-4dd9-9fb5-befef6e68c60');\n",
              "          const dataTable =\n",
              "            await google.colab.kernel.invokeFunction('convertToInteractive',\n",
              "                                                     [key], {});\n",
              "          if (!dataTable) return;\n",
              "\n",
              "          const docLinkHtml = 'Like what you see? Visit the ' +\n",
              "            '<a target=\"_blank\" href=https://colab.research.google.com/notebooks/data_table.ipynb>data table notebook</a>'\n",
              "            + ' to learn more about interactive tables.';\n",
              "          element.innerHTML = '';\n",
              "          dataTable['output_type'] = 'display_data';\n",
              "          await google.colab.output.renderOutput(dataTable, element);\n",
              "          const docLink = document.createElement('div');\n",
              "          docLink.innerHTML = docLinkHtml;\n",
              "          element.appendChild(docLink);\n",
              "        }\n",
              "      </script>\n",
              "    </div>\n",
              "  </div>\n",
              "  "
            ],
            "text/plain": [
              "            class     Alcohol  ...  OD280/OD315 of diluted wines      Proline\n",
              "count  178.000000  178.000000  ...                    178.000000   178.000000\n",
              "mean     1.938202   13.000618  ...                      2.611685   746.893258\n",
              "std      0.775035    0.811827  ...                      0.709990   314.907474\n",
              "min      1.000000   11.030000  ...                      1.270000   278.000000\n",
              "25%      1.000000   12.362500  ...                      1.937500   500.500000\n",
              "50%      2.000000   13.050000  ...                      2.780000   673.500000\n",
              "75%      3.000000   13.677500  ...                      3.170000   985.000000\n",
              "max      3.000000   14.830000  ...                      4.000000  1680.000000\n",
              "\n",
              "[8 rows x 14 columns]"
            ]
          },
          "metadata": {}
        },
        {
          "output_type": "stream",
          "name": "stdout",
          "text": [
            "\n",
            "The Classes exists in dataset: [1 2 3]\n",
            "\n",
            "No of Data Rows having each class:\n",
            "59 number of data rows for 1 class.\n",
            "71 number of data rows for 2 class.\n",
            "48 number of data rows for 3 class.\n"
          ]
        },
        {
          "output_type": "display_data",
          "data": {
            "text/html": [
              "\n",
              "  <div id=\"df-2bcbd5ca-8881-4029-8d77-c2c03d18db7f\">\n",
              "    <div class=\"colab-df-container\">\n",
              "      <div>\n",
              "<style scoped>\n",
              "    .dataframe tbody tr th:only-of-type {\n",
              "        vertical-align: middle;\n",
              "    }\n",
              "\n",
              "    .dataframe tbody tr th {\n",
              "        vertical-align: top;\n",
              "    }\n",
              "\n",
              "    .dataframe thead th {\n",
              "        text-align: right;\n",
              "    }\n",
              "</style>\n",
              "<table border=\"1\" class=\"dataframe\">\n",
              "  <thead>\n",
              "    <tr style=\"text-align: right;\">\n",
              "      <th></th>\n",
              "      <th>hair</th>\n",
              "      <th>feathers</th>\n",
              "      <th>eggs</th>\n",
              "      <th>milk</th>\n",
              "      <th>airborne</th>\n",
              "      <th>aquatic</th>\n",
              "      <th>predator</th>\n",
              "      <th>toothed</th>\n",
              "      <th>backbone</th>\n",
              "      <th>breathes</th>\n",
              "      <th>venomous</th>\n",
              "      <th>fins</th>\n",
              "      <th>legs</th>\n",
              "      <th>tail</th>\n",
              "      <th>domestic</th>\n",
              "      <th>catsize</th>\n",
              "      <th>type</th>\n",
              "    </tr>\n",
              "  </thead>\n",
              "  <tbody>\n",
              "    <tr>\n",
              "      <th>count</th>\n",
              "      <td>101.000000</td>\n",
              "      <td>101.000000</td>\n",
              "      <td>101.000000</td>\n",
              "      <td>101.000000</td>\n",
              "      <td>101.000000</td>\n",
              "      <td>101.000000</td>\n",
              "      <td>101.000000</td>\n",
              "      <td>101.000000</td>\n",
              "      <td>101.000000</td>\n",
              "      <td>101.000000</td>\n",
              "      <td>101.000000</td>\n",
              "      <td>101.000000</td>\n",
              "      <td>101.000000</td>\n",
              "      <td>101.000000</td>\n",
              "      <td>101.000000</td>\n",
              "      <td>101.000000</td>\n",
              "      <td>101.000000</td>\n",
              "    </tr>\n",
              "    <tr>\n",
              "      <th>mean</th>\n",
              "      <td>0.425743</td>\n",
              "      <td>0.198020</td>\n",
              "      <td>0.584158</td>\n",
              "      <td>0.405941</td>\n",
              "      <td>0.237624</td>\n",
              "      <td>0.356436</td>\n",
              "      <td>0.554455</td>\n",
              "      <td>0.603960</td>\n",
              "      <td>0.821782</td>\n",
              "      <td>0.792079</td>\n",
              "      <td>0.079208</td>\n",
              "      <td>0.168317</td>\n",
              "      <td>2.841584</td>\n",
              "      <td>0.742574</td>\n",
              "      <td>0.128713</td>\n",
              "      <td>0.435644</td>\n",
              "      <td>2.831683</td>\n",
              "    </tr>\n",
              "    <tr>\n",
              "      <th>std</th>\n",
              "      <td>0.496921</td>\n",
              "      <td>0.400495</td>\n",
              "      <td>0.495325</td>\n",
              "      <td>0.493522</td>\n",
              "      <td>0.427750</td>\n",
              "      <td>0.481335</td>\n",
              "      <td>0.499505</td>\n",
              "      <td>0.491512</td>\n",
              "      <td>0.384605</td>\n",
              "      <td>0.407844</td>\n",
              "      <td>0.271410</td>\n",
              "      <td>0.376013</td>\n",
              "      <td>2.033385</td>\n",
              "      <td>0.439397</td>\n",
              "      <td>0.336552</td>\n",
              "      <td>0.498314</td>\n",
              "      <td>2.102709</td>\n",
              "    </tr>\n",
              "    <tr>\n",
              "      <th>min</th>\n",
              "      <td>0.000000</td>\n",
              "      <td>0.000000</td>\n",
              "      <td>0.000000</td>\n",
              "      <td>0.000000</td>\n",
              "      <td>0.000000</td>\n",
              "      <td>0.000000</td>\n",
              "      <td>0.000000</td>\n",
              "      <td>0.000000</td>\n",
              "      <td>0.000000</td>\n",
              "      <td>0.000000</td>\n",
              "      <td>0.000000</td>\n",
              "      <td>0.000000</td>\n",
              "      <td>0.000000</td>\n",
              "      <td>0.000000</td>\n",
              "      <td>0.000000</td>\n",
              "      <td>0.000000</td>\n",
              "      <td>1.000000</td>\n",
              "    </tr>\n",
              "    <tr>\n",
              "      <th>25%</th>\n",
              "      <td>0.000000</td>\n",
              "      <td>0.000000</td>\n",
              "      <td>0.000000</td>\n",
              "      <td>0.000000</td>\n",
              "      <td>0.000000</td>\n",
              "      <td>0.000000</td>\n",
              "      <td>0.000000</td>\n",
              "      <td>0.000000</td>\n",
              "      <td>1.000000</td>\n",
              "      <td>1.000000</td>\n",
              "      <td>0.000000</td>\n",
              "      <td>0.000000</td>\n",
              "      <td>2.000000</td>\n",
              "      <td>0.000000</td>\n",
              "      <td>0.000000</td>\n",
              "      <td>0.000000</td>\n",
              "      <td>1.000000</td>\n",
              "    </tr>\n",
              "    <tr>\n",
              "      <th>50%</th>\n",
              "      <td>0.000000</td>\n",
              "      <td>0.000000</td>\n",
              "      <td>1.000000</td>\n",
              "      <td>0.000000</td>\n",
              "      <td>0.000000</td>\n",
              "      <td>0.000000</td>\n",
              "      <td>1.000000</td>\n",
              "      <td>1.000000</td>\n",
              "      <td>1.000000</td>\n",
              "      <td>1.000000</td>\n",
              "      <td>0.000000</td>\n",
              "      <td>0.000000</td>\n",
              "      <td>4.000000</td>\n",
              "      <td>1.000000</td>\n",
              "      <td>0.000000</td>\n",
              "      <td>0.000000</td>\n",
              "      <td>2.000000</td>\n",
              "    </tr>\n",
              "    <tr>\n",
              "      <th>75%</th>\n",
              "      <td>1.000000</td>\n",
              "      <td>0.000000</td>\n",
              "      <td>1.000000</td>\n",
              "      <td>1.000000</td>\n",
              "      <td>0.000000</td>\n",
              "      <td>1.000000</td>\n",
              "      <td>1.000000</td>\n",
              "      <td>1.000000</td>\n",
              "      <td>1.000000</td>\n",
              "      <td>1.000000</td>\n",
              "      <td>0.000000</td>\n",
              "      <td>0.000000</td>\n",
              "      <td>4.000000</td>\n",
              "      <td>1.000000</td>\n",
              "      <td>0.000000</td>\n",
              "      <td>1.000000</td>\n",
              "      <td>4.000000</td>\n",
              "    </tr>\n",
              "    <tr>\n",
              "      <th>max</th>\n",
              "      <td>1.000000</td>\n",
              "      <td>1.000000</td>\n",
              "      <td>1.000000</td>\n",
              "      <td>1.000000</td>\n",
              "      <td>1.000000</td>\n",
              "      <td>1.000000</td>\n",
              "      <td>1.000000</td>\n",
              "      <td>1.000000</td>\n",
              "      <td>1.000000</td>\n",
              "      <td>1.000000</td>\n",
              "      <td>1.000000</td>\n",
              "      <td>1.000000</td>\n",
              "      <td>8.000000</td>\n",
              "      <td>1.000000</td>\n",
              "      <td>1.000000</td>\n",
              "      <td>1.000000</td>\n",
              "      <td>7.000000</td>\n",
              "    </tr>\n",
              "  </tbody>\n",
              "</table>\n",
              "</div>\n",
              "      <button class=\"colab-df-convert\" onclick=\"convertToInteractive('df-2bcbd5ca-8881-4029-8d77-c2c03d18db7f')\"\n",
              "              title=\"Convert this dataframe to an interactive table.\"\n",
              "              style=\"display:none;\">\n",
              "        \n",
              "  <svg xmlns=\"http://www.w3.org/2000/svg\" height=\"24px\"viewBox=\"0 0 24 24\"\n",
              "       width=\"24px\">\n",
              "    <path d=\"M0 0h24v24H0V0z\" fill=\"none\"/>\n",
              "    <path d=\"M18.56 5.44l.94 2.06.94-2.06 2.06-.94-2.06-.94-.94-2.06-.94 2.06-2.06.94zm-11 1L8.5 8.5l.94-2.06 2.06-.94-2.06-.94L8.5 2.5l-.94 2.06-2.06.94zm10 10l.94 2.06.94-2.06 2.06-.94-2.06-.94-.94-2.06-.94 2.06-2.06.94z\"/><path d=\"M17.41 7.96l-1.37-1.37c-.4-.4-.92-.59-1.43-.59-.52 0-1.04.2-1.43.59L10.3 9.45l-7.72 7.72c-.78.78-.78 2.05 0 2.83L4 21.41c.39.39.9.59 1.41.59.51 0 1.02-.2 1.41-.59l7.78-7.78 2.81-2.81c.8-.78.8-2.07 0-2.86zM5.41 20L4 18.59l7.72-7.72 1.47 1.35L5.41 20z\"/>\n",
              "  </svg>\n",
              "      </button>\n",
              "      \n",
              "  <style>\n",
              "    .colab-df-container {\n",
              "      display:flex;\n",
              "      flex-wrap:wrap;\n",
              "      gap: 12px;\n",
              "    }\n",
              "\n",
              "    .colab-df-convert {\n",
              "      background-color: #E8F0FE;\n",
              "      border: none;\n",
              "      border-radius: 50%;\n",
              "      cursor: pointer;\n",
              "      display: none;\n",
              "      fill: #1967D2;\n",
              "      height: 32px;\n",
              "      padding: 0 0 0 0;\n",
              "      width: 32px;\n",
              "    }\n",
              "\n",
              "    .colab-df-convert:hover {\n",
              "      background-color: #E2EBFA;\n",
              "      box-shadow: 0px 1px 2px rgba(60, 64, 67, 0.3), 0px 1px 3px 1px rgba(60, 64, 67, 0.15);\n",
              "      fill: #174EA6;\n",
              "    }\n",
              "\n",
              "    [theme=dark] .colab-df-convert {\n",
              "      background-color: #3B4455;\n",
              "      fill: #D2E3FC;\n",
              "    }\n",
              "\n",
              "    [theme=dark] .colab-df-convert:hover {\n",
              "      background-color: #434B5C;\n",
              "      box-shadow: 0px 1px 3px 1px rgba(0, 0, 0, 0.15);\n",
              "      filter: drop-shadow(0px 1px 2px rgba(0, 0, 0, 0.3));\n",
              "      fill: #FFFFFF;\n",
              "    }\n",
              "  </style>\n",
              "\n",
              "      <script>\n",
              "        const buttonEl =\n",
              "          document.querySelector('#df-2bcbd5ca-8881-4029-8d77-c2c03d18db7f button.colab-df-convert');\n",
              "        buttonEl.style.display =\n",
              "          google.colab.kernel.accessAllowed ? 'block' : 'none';\n",
              "\n",
              "        async function convertToInteractive(key) {\n",
              "          const element = document.querySelector('#df-2bcbd5ca-8881-4029-8d77-c2c03d18db7f');\n",
              "          const dataTable =\n",
              "            await google.colab.kernel.invokeFunction('convertToInteractive',\n",
              "                                                     [key], {});\n",
              "          if (!dataTable) return;\n",
              "\n",
              "          const docLinkHtml = 'Like what you see? Visit the ' +\n",
              "            '<a target=\"_blank\" href=https://colab.research.google.com/notebooks/data_table.ipynb>data table notebook</a>'\n",
              "            + ' to learn more about interactive tables.';\n",
              "          element.innerHTML = '';\n",
              "          dataTable['output_type'] = 'display_data';\n",
              "          await google.colab.output.renderOutput(dataTable, element);\n",
              "          const docLink = document.createElement('div');\n",
              "          docLink.innerHTML = docLinkHtml;\n",
              "          element.appendChild(docLink);\n",
              "        }\n",
              "      </script>\n",
              "    </div>\n",
              "  </div>\n",
              "  "
            ],
            "text/plain": [
              "             hair    feathers        eggs  ...    domestic     catsize        type\n",
              "count  101.000000  101.000000  101.000000  ...  101.000000  101.000000  101.000000\n",
              "mean     0.425743    0.198020    0.584158  ...    0.128713    0.435644    2.831683\n",
              "std      0.496921    0.400495    0.495325  ...    0.336552    0.498314    2.102709\n",
              "min      0.000000    0.000000    0.000000  ...    0.000000    0.000000    1.000000\n",
              "25%      0.000000    0.000000    0.000000  ...    0.000000    0.000000    1.000000\n",
              "50%      0.000000    0.000000    1.000000  ...    0.000000    0.000000    2.000000\n",
              "75%      1.000000    0.000000    1.000000  ...    0.000000    1.000000    4.000000\n",
              "max      1.000000    1.000000    1.000000  ...    1.000000    1.000000    7.000000\n",
              "\n",
              "[8 rows x 17 columns]"
            ]
          },
          "metadata": {}
        },
        {
          "output_type": "stream",
          "name": "stdout",
          "text": [
            "\n",
            "The Classes exists in dataset: ['aardvark' 'antelope' 'bass' 'bear' 'boar' 'buffalo' 'calf' 'carp'\n",
            " 'catfish' 'cavy' 'cheetah' 'chicken' 'chub' 'clam' 'crab' 'crayfish'\n",
            " 'crow' 'deer' 'dogfish' 'dolphin' 'dove' 'duck' 'elephant' 'flamingo'\n",
            " 'flea' 'frog' 'fruitbat' 'giraffe' 'girl' 'gnat' 'goat' 'gorilla' 'gull'\n",
            " 'haddock' 'hamster' 'hare' 'hawk' 'herring' 'honeybee' 'housefly' 'kiwi'\n",
            " 'ladybird' 'lark' 'leopard' 'lion' 'lobster' 'lynx' 'mink' 'mole'\n",
            " 'mongoose' 'moth' 'newt' 'octopus' 'opossum' 'oryx' 'ostrich' 'parakeet'\n",
            " 'penguin' 'pheasant' 'pike' 'piranha' 'pitviper' 'platypus' 'polecat'\n",
            " 'pony' 'porpoise' 'puma' 'pussycat' 'raccoon' 'reindeer' 'rhea'\n",
            " 'scorpion' 'seahorse' 'seal' 'sealion' 'seasnake' 'seawasp' 'skimmer'\n",
            " 'skua' 'slowworm' 'slug' 'sole' 'sparrow' 'squirrel' 'starfish'\n",
            " 'stingray' 'swan' 'termite' 'toad' 'tortoise' 'tuatara' 'tuna' 'vampire'\n",
            " 'vole' 'vulture' 'wallaby' 'wasp' 'wolf' 'worm' 'wren']\n",
            "\n",
            "No of Data Rows having each class:\n",
            "1 number of data rows for aardvark class.\n",
            "1 number of data rows for antelope class.\n",
            "1 number of data rows for bass class.\n",
            "1 number of data rows for bear class.\n",
            "1 number of data rows for boar class.\n",
            "1 number of data rows for buffalo class.\n",
            "1 number of data rows for calf class.\n",
            "1 number of data rows for carp class.\n",
            "1 number of data rows for catfish class.\n",
            "1 number of data rows for cavy class.\n",
            "1 number of data rows for cheetah class.\n",
            "1 number of data rows for chicken class.\n",
            "1 number of data rows for chub class.\n",
            "1 number of data rows for clam class.\n",
            "1 number of data rows for crab class.\n",
            "1 number of data rows for crayfish class.\n",
            "1 number of data rows for crow class.\n",
            "1 number of data rows for deer class.\n",
            "1 number of data rows for dogfish class.\n",
            "1 number of data rows for dolphin class.\n",
            "1 number of data rows for dove class.\n",
            "1 number of data rows for duck class.\n",
            "1 number of data rows for elephant class.\n",
            "1 number of data rows for flamingo class.\n",
            "1 number of data rows for flea class.\n",
            "2 number of data rows for frog class.\n",
            "1 number of data rows for fruitbat class.\n",
            "1 number of data rows for giraffe class.\n",
            "1 number of data rows for girl class.\n",
            "1 number of data rows for gnat class.\n",
            "1 number of data rows for goat class.\n",
            "1 number of data rows for gorilla class.\n",
            "1 number of data rows for gull class.\n",
            "1 number of data rows for haddock class.\n",
            "1 number of data rows for hamster class.\n",
            "1 number of data rows for hare class.\n",
            "1 number of data rows for hawk class.\n",
            "1 number of data rows for herring class.\n",
            "1 number of data rows for honeybee class.\n",
            "1 number of data rows for housefly class.\n",
            "1 number of data rows for kiwi class.\n",
            "1 number of data rows for ladybird class.\n",
            "1 number of data rows for lark class.\n",
            "1 number of data rows for leopard class.\n",
            "1 number of data rows for lion class.\n",
            "1 number of data rows for lobster class.\n",
            "1 number of data rows for lynx class.\n",
            "1 number of data rows for mink class.\n",
            "1 number of data rows for mole class.\n",
            "1 number of data rows for mongoose class.\n",
            "1 number of data rows for moth class.\n",
            "1 number of data rows for newt class.\n",
            "1 number of data rows for octopus class.\n",
            "1 number of data rows for opossum class.\n",
            "1 number of data rows for oryx class.\n",
            "1 number of data rows for ostrich class.\n",
            "1 number of data rows for parakeet class.\n",
            "1 number of data rows for penguin class.\n",
            "1 number of data rows for pheasant class.\n",
            "1 number of data rows for pike class.\n",
            "1 number of data rows for piranha class.\n",
            "1 number of data rows for pitviper class.\n",
            "1 number of data rows for platypus class.\n",
            "1 number of data rows for polecat class.\n",
            "1 number of data rows for pony class.\n",
            "1 number of data rows for porpoise class.\n",
            "1 number of data rows for puma class.\n",
            "1 number of data rows for pussycat class.\n",
            "1 number of data rows for raccoon class.\n",
            "1 number of data rows for reindeer class.\n",
            "1 number of data rows for rhea class.\n",
            "1 number of data rows for scorpion class.\n",
            "1 number of data rows for seahorse class.\n",
            "1 number of data rows for seal class.\n",
            "1 number of data rows for sealion class.\n",
            "1 number of data rows for seasnake class.\n",
            "1 number of data rows for seawasp class.\n",
            "1 number of data rows for skimmer class.\n",
            "1 number of data rows for skua class.\n",
            "1 number of data rows for slowworm class.\n",
            "1 number of data rows for slug class.\n",
            "1 number of data rows for sole class.\n",
            "1 number of data rows for sparrow class.\n",
            "1 number of data rows for squirrel class.\n",
            "1 number of data rows for starfish class.\n",
            "1 number of data rows for stingray class.\n",
            "1 number of data rows for swan class.\n",
            "1 number of data rows for termite class.\n",
            "1 number of data rows for toad class.\n",
            "1 number of data rows for tortoise class.\n",
            "1 number of data rows for tuatara class.\n",
            "1 number of data rows for tuna class.\n",
            "1 number of data rows for vampire class.\n",
            "1 number of data rows for vole class.\n",
            "1 number of data rows for vulture class.\n",
            "1 number of data rows for wallaby class.\n",
            "1 number of data rows for wasp class.\n",
            "1 number of data rows for wolf class.\n",
            "1 number of data rows for worm class.\n",
            "1 number of data rows for wren class.\n"
          ]
        },
        {
          "output_type": "display_data",
          "data": {
            "text/html": [
              "\n",
              "  <div id=\"df-0b9aa227-da0a-4c2d-8011-2aa63cff53ba\">\n",
              "    <div class=\"colab-df-container\">\n",
              "      <div>\n",
              "<style scoped>\n",
              "    .dataframe tbody tr th:only-of-type {\n",
              "        vertical-align: middle;\n",
              "    }\n",
              "\n",
              "    .dataframe tbody tr th {\n",
              "        vertical-align: top;\n",
              "    }\n",
              "\n",
              "    .dataframe thead th {\n",
              "        text-align: right;\n",
              "    }\n",
              "</style>\n",
              "<table border=\"1\" class=\"dataframe\">\n",
              "  <thead>\n",
              "    <tr style=\"text-align: right;\">\n",
              "      <th></th>\n",
              "      <th>deg-malig</th>\n",
              "    </tr>\n",
              "  </thead>\n",
              "  <tbody>\n",
              "    <tr>\n",
              "      <th>count</th>\n",
              "      <td>286.000000</td>\n",
              "    </tr>\n",
              "    <tr>\n",
              "      <th>mean</th>\n",
              "      <td>2.048951</td>\n",
              "    </tr>\n",
              "    <tr>\n",
              "      <th>std</th>\n",
              "      <td>0.738217</td>\n",
              "    </tr>\n",
              "    <tr>\n",
              "      <th>min</th>\n",
              "      <td>1.000000</td>\n",
              "    </tr>\n",
              "    <tr>\n",
              "      <th>25%</th>\n",
              "      <td>2.000000</td>\n",
              "    </tr>\n",
              "    <tr>\n",
              "      <th>50%</th>\n",
              "      <td>2.000000</td>\n",
              "    </tr>\n",
              "    <tr>\n",
              "      <th>75%</th>\n",
              "      <td>3.000000</td>\n",
              "    </tr>\n",
              "    <tr>\n",
              "      <th>max</th>\n",
              "      <td>3.000000</td>\n",
              "    </tr>\n",
              "  </tbody>\n",
              "</table>\n",
              "</div>\n",
              "      <button class=\"colab-df-convert\" onclick=\"convertToInteractive('df-0b9aa227-da0a-4c2d-8011-2aa63cff53ba')\"\n",
              "              title=\"Convert this dataframe to an interactive table.\"\n",
              "              style=\"display:none;\">\n",
              "        \n",
              "  <svg xmlns=\"http://www.w3.org/2000/svg\" height=\"24px\"viewBox=\"0 0 24 24\"\n",
              "       width=\"24px\">\n",
              "    <path d=\"M0 0h24v24H0V0z\" fill=\"none\"/>\n",
              "    <path d=\"M18.56 5.44l.94 2.06.94-2.06 2.06-.94-2.06-.94-.94-2.06-.94 2.06-2.06.94zm-11 1L8.5 8.5l.94-2.06 2.06-.94-2.06-.94L8.5 2.5l-.94 2.06-2.06.94zm10 10l.94 2.06.94-2.06 2.06-.94-2.06-.94-.94-2.06-.94 2.06-2.06.94z\"/><path d=\"M17.41 7.96l-1.37-1.37c-.4-.4-.92-.59-1.43-.59-.52 0-1.04.2-1.43.59L10.3 9.45l-7.72 7.72c-.78.78-.78 2.05 0 2.83L4 21.41c.39.39.9.59 1.41.59.51 0 1.02-.2 1.41-.59l7.78-7.78 2.81-2.81c.8-.78.8-2.07 0-2.86zM5.41 20L4 18.59l7.72-7.72 1.47 1.35L5.41 20z\"/>\n",
              "  </svg>\n",
              "      </button>\n",
              "      \n",
              "  <style>\n",
              "    .colab-df-container {\n",
              "      display:flex;\n",
              "      flex-wrap:wrap;\n",
              "      gap: 12px;\n",
              "    }\n",
              "\n",
              "    .colab-df-convert {\n",
              "      background-color: #E8F0FE;\n",
              "      border: none;\n",
              "      border-radius: 50%;\n",
              "      cursor: pointer;\n",
              "      display: none;\n",
              "      fill: #1967D2;\n",
              "      height: 32px;\n",
              "      padding: 0 0 0 0;\n",
              "      width: 32px;\n",
              "    }\n",
              "\n",
              "    .colab-df-convert:hover {\n",
              "      background-color: #E2EBFA;\n",
              "      box-shadow: 0px 1px 2px rgba(60, 64, 67, 0.3), 0px 1px 3px 1px rgba(60, 64, 67, 0.15);\n",
              "      fill: #174EA6;\n",
              "    }\n",
              "\n",
              "    [theme=dark] .colab-df-convert {\n",
              "      background-color: #3B4455;\n",
              "      fill: #D2E3FC;\n",
              "    }\n",
              "\n",
              "    [theme=dark] .colab-df-convert:hover {\n",
              "      background-color: #434B5C;\n",
              "      box-shadow: 0px 1px 3px 1px rgba(0, 0, 0, 0.15);\n",
              "      filter: drop-shadow(0px 1px 2px rgba(0, 0, 0, 0.3));\n",
              "      fill: #FFFFFF;\n",
              "    }\n",
              "  </style>\n",
              "\n",
              "      <script>\n",
              "        const buttonEl =\n",
              "          document.querySelector('#df-0b9aa227-da0a-4c2d-8011-2aa63cff53ba button.colab-df-convert');\n",
              "        buttonEl.style.display =\n",
              "          google.colab.kernel.accessAllowed ? 'block' : 'none';\n",
              "\n",
              "        async function convertToInteractive(key) {\n",
              "          const element = document.querySelector('#df-0b9aa227-da0a-4c2d-8011-2aa63cff53ba');\n",
              "          const dataTable =\n",
              "            await google.colab.kernel.invokeFunction('convertToInteractive',\n",
              "                                                     [key], {});\n",
              "          if (!dataTable) return;\n",
              "\n",
              "          const docLinkHtml = 'Like what you see? Visit the ' +\n",
              "            '<a target=\"_blank\" href=https://colab.research.google.com/notebooks/data_table.ipynb>data table notebook</a>'\n",
              "            + ' to learn more about interactive tables.';\n",
              "          element.innerHTML = '';\n",
              "          dataTable['output_type'] = 'display_data';\n",
              "          await google.colab.output.renderOutput(dataTable, element);\n",
              "          const docLink = document.createElement('div');\n",
              "          docLink.innerHTML = docLinkHtml;\n",
              "          element.appendChild(docLink);\n",
              "        }\n",
              "      </script>\n",
              "    </div>\n",
              "  </div>\n",
              "  "
            ],
            "text/plain": [
              "        deg-malig\n",
              "count  286.000000\n",
              "mean     2.048951\n",
              "std      0.738217\n",
              "min      1.000000\n",
              "25%      2.000000\n",
              "50%      2.000000\n",
              "75%      3.000000\n",
              "max      3.000000"
            ]
          },
          "metadata": {}
        },
        {
          "output_type": "stream",
          "name": "stdout",
          "text": [
            "\n",
            "The Classes exists in dataset: ['no-recurrence-events' 'recurrence-events']\n",
            "\n",
            "No of Data Rows having each class:\n",
            "201 number of data rows for no-recurrence-events class.\n",
            "85 number of data rows for recurrence-events class.\n"
          ]
        }
      ],
      "source": [
        "# Dataset ki anlaysis ka function\n",
        "analyzing_datasets(wine_dataset, column_labels=\"class\")  #wine analysation\n",
        "analyzing_datasets(zoo_dataset, column_labels=\"class\")  #zoo analysation\n",
        "analyzing_datasets(breast_cancer_dataset, column_labels=\"class\")  #breast cancer analysation"
      ]
    },
    {
      "cell_type": "code",
      "execution_count": null,
      "metadata": {
        "colab": {
          "base_uri": "https://localhost:8080/",
          "height": 929
        },
        "id": "-H14FkQG4x15",
        "outputId": "22b2d944-ad24-4dec-91e0-5e47febeb0c4"
      },
      "outputs": [
        {
          "output_type": "display_data",
          "data": {
            "text/html": [
              "\n",
              "  <div id=\"df-98402e29-63ab-4204-ab70-bab48937cbe4\">\n",
              "    <div class=\"colab-df-container\">\n",
              "      <div>\n",
              "<style scoped>\n",
              "    .dataframe tbody tr th:only-of-type {\n",
              "        vertical-align: middle;\n",
              "    }\n",
              "\n",
              "    .dataframe tbody tr th {\n",
              "        vertical-align: top;\n",
              "    }\n",
              "\n",
              "    .dataframe thead th {\n",
              "        text-align: right;\n",
              "    }\n",
              "</style>\n",
              "<table border=\"1\" class=\"dataframe\">\n",
              "  <thead>\n",
              "    <tr style=\"text-align: right;\">\n",
              "      <th></th>\n",
              "      <th>class</th>\n",
              "      <th>Alcohol</th>\n",
              "      <th>Malic acid</th>\n",
              "      <th>Ash</th>\n",
              "      <th>Alcalinity of ash</th>\n",
              "      <th>Magnesium</th>\n",
              "      <th>Total phenols</th>\n",
              "      <th>Flavanoids</th>\n",
              "      <th>Nonflavanoid phenols</th>\n",
              "      <th>Proanthocyanins</th>\n",
              "      <th>Color intensity</th>\n",
              "      <th>Hue</th>\n",
              "      <th>OD280/OD315 of diluted wines</th>\n",
              "      <th>Proline</th>\n",
              "    </tr>\n",
              "  </thead>\n",
              "  <tbody>\n",
              "    <tr>\n",
              "      <th>0</th>\n",
              "      <td>1</td>\n",
              "      <td>0.959541</td>\n",
              "      <td>0.294828</td>\n",
              "      <td>0.752322</td>\n",
              "      <td>0.520000</td>\n",
              "      <td>0.783951</td>\n",
              "      <td>0.721649</td>\n",
              "      <td>0.602362</td>\n",
              "      <td>0.424242</td>\n",
              "      <td>0.639665</td>\n",
              "      <td>0.433846</td>\n",
              "      <td>0.608187</td>\n",
              "      <td>0.9800</td>\n",
              "      <td>0.633929</td>\n",
              "    </tr>\n",
              "    <tr>\n",
              "      <th>1</th>\n",
              "      <td>1</td>\n",
              "      <td>0.890088</td>\n",
              "      <td>0.306897</td>\n",
              "      <td>0.662539</td>\n",
              "      <td>0.373333</td>\n",
              "      <td>0.617284</td>\n",
              "      <td>0.682990</td>\n",
              "      <td>0.543307</td>\n",
              "      <td>0.393939</td>\n",
              "      <td>0.357542</td>\n",
              "      <td>0.336923</td>\n",
              "      <td>0.614035</td>\n",
              "      <td>0.8500</td>\n",
              "      <td>0.625000</td>\n",
              "    </tr>\n",
              "    <tr>\n",
              "      <th>2</th>\n",
              "      <td>1</td>\n",
              "      <td>0.887390</td>\n",
              "      <td>0.406897</td>\n",
              "      <td>0.826625</td>\n",
              "      <td>0.620000</td>\n",
              "      <td>0.623457</td>\n",
              "      <td>0.721649</td>\n",
              "      <td>0.637795</td>\n",
              "      <td>0.454545</td>\n",
              "      <td>0.784916</td>\n",
              "      <td>0.436923</td>\n",
              "      <td>0.602339</td>\n",
              "      <td>0.7925</td>\n",
              "      <td>0.705357</td>\n",
              "    </tr>\n",
              "    <tr>\n",
              "      <th>3</th>\n",
              "      <td>1</td>\n",
              "      <td>0.968982</td>\n",
              "      <td>0.336207</td>\n",
              "      <td>0.773994</td>\n",
              "      <td>0.560000</td>\n",
              "      <td>0.697531</td>\n",
              "      <td>0.992268</td>\n",
              "      <td>0.687008</td>\n",
              "      <td>0.363636</td>\n",
              "      <td>0.608939</td>\n",
              "      <td>0.600000</td>\n",
              "      <td>0.502924</td>\n",
              "      <td>0.8625</td>\n",
              "      <td>0.880952</td>\n",
              "    </tr>\n",
              "    <tr>\n",
              "      <th>4</th>\n",
              "      <td>1</td>\n",
              "      <td>0.892785</td>\n",
              "      <td>0.446552</td>\n",
              "      <td>0.888545</td>\n",
              "      <td>0.700000</td>\n",
              "      <td>0.728395</td>\n",
              "      <td>0.721649</td>\n",
              "      <td>0.529528</td>\n",
              "      <td>0.590909</td>\n",
              "      <td>0.508380</td>\n",
              "      <td>0.332308</td>\n",
              "      <td>0.608187</td>\n",
              "      <td>0.7325</td>\n",
              "      <td>0.437500</td>\n",
              "    </tr>\n",
              "    <tr>\n",
              "      <th>...</th>\n",
              "      <td>...</td>\n",
              "      <td>...</td>\n",
              "      <td>...</td>\n",
              "      <td>...</td>\n",
              "      <td>...</td>\n",
              "      <td>...</td>\n",
              "      <td>...</td>\n",
              "      <td>...</td>\n",
              "      <td>...</td>\n",
              "      <td>...</td>\n",
              "      <td>...</td>\n",
              "      <td>...</td>\n",
              "      <td>...</td>\n",
              "      <td>...</td>\n",
              "    </tr>\n",
              "    <tr>\n",
              "      <th>173</th>\n",
              "      <td>3</td>\n",
              "      <td>0.924477</td>\n",
              "      <td>0.974138</td>\n",
              "      <td>0.758514</td>\n",
              "      <td>0.683333</td>\n",
              "      <td>0.586420</td>\n",
              "      <td>0.432990</td>\n",
              "      <td>0.120079</td>\n",
              "      <td>0.787879</td>\n",
              "      <td>0.296089</td>\n",
              "      <td>0.592308</td>\n",
              "      <td>0.374269</td>\n",
              "      <td>0.4350</td>\n",
              "      <td>0.440476</td>\n",
              "    </tr>\n",
              "    <tr>\n",
              "      <th>174</th>\n",
              "      <td>3</td>\n",
              "      <td>0.903574</td>\n",
              "      <td>0.674138</td>\n",
              "      <td>0.767802</td>\n",
              "      <td>0.766667</td>\n",
              "      <td>0.629630</td>\n",
              "      <td>0.463918</td>\n",
              "      <td>0.147638</td>\n",
              "      <td>0.651515</td>\n",
              "      <td>0.393855</td>\n",
              "      <td>0.561538</td>\n",
              "      <td>0.409357</td>\n",
              "      <td>0.3900</td>\n",
              "      <td>0.446429</td>\n",
              "    </tr>\n",
              "    <tr>\n",
              "      <th>175</th>\n",
              "      <td>3</td>\n",
              "      <td>0.894808</td>\n",
              "      <td>0.737931</td>\n",
              "      <td>0.699690</td>\n",
              "      <td>0.666667</td>\n",
              "      <td>0.740741</td>\n",
              "      <td>0.409794</td>\n",
              "      <td>0.135827</td>\n",
              "      <td>0.651515</td>\n",
              "      <td>0.377095</td>\n",
              "      <td>0.784615</td>\n",
              "      <td>0.345029</td>\n",
              "      <td>0.3900</td>\n",
              "      <td>0.497024</td>\n",
              "    </tr>\n",
              "    <tr>\n",
              "      <th>176</th>\n",
              "      <td>3</td>\n",
              "      <td>0.888065</td>\n",
              "      <td>0.446552</td>\n",
              "      <td>0.733746</td>\n",
              "      <td>0.666667</td>\n",
              "      <td>0.740741</td>\n",
              "      <td>0.425258</td>\n",
              "      <td>0.133858</td>\n",
              "      <td>0.803030</td>\n",
              "      <td>0.407821</td>\n",
              "      <td>0.715385</td>\n",
              "      <td>0.350877</td>\n",
              "      <td>0.4050</td>\n",
              "      <td>0.500000</td>\n",
              "    </tr>\n",
              "    <tr>\n",
              "      <th>177</th>\n",
              "      <td>3</td>\n",
              "      <td>0.952798</td>\n",
              "      <td>0.706897</td>\n",
              "      <td>0.848297</td>\n",
              "      <td>0.816667</td>\n",
              "      <td>0.592593</td>\n",
              "      <td>0.528351</td>\n",
              "      <td>0.149606</td>\n",
              "      <td>0.848485</td>\n",
              "      <td>0.377095</td>\n",
              "      <td>0.707692</td>\n",
              "      <td>0.356725</td>\n",
              "      <td>0.4000</td>\n",
              "      <td>0.333333</td>\n",
              "    </tr>\n",
              "  </tbody>\n",
              "</table>\n",
              "<p>178 rows × 14 columns</p>\n",
              "</div>\n",
              "      <button class=\"colab-df-convert\" onclick=\"convertToInteractive('df-98402e29-63ab-4204-ab70-bab48937cbe4')\"\n",
              "              title=\"Convert this dataframe to an interactive table.\"\n",
              "              style=\"display:none;\">\n",
              "        \n",
              "  <svg xmlns=\"http://www.w3.org/2000/svg\" height=\"24px\"viewBox=\"0 0 24 24\"\n",
              "       width=\"24px\">\n",
              "    <path d=\"M0 0h24v24H0V0z\" fill=\"none\"/>\n",
              "    <path d=\"M18.56 5.44l.94 2.06.94-2.06 2.06-.94-2.06-.94-.94-2.06-.94 2.06-2.06.94zm-11 1L8.5 8.5l.94-2.06 2.06-.94-2.06-.94L8.5 2.5l-.94 2.06-2.06.94zm10 10l.94 2.06.94-2.06 2.06-.94-2.06-.94-.94-2.06-.94 2.06-2.06.94z\"/><path d=\"M17.41 7.96l-1.37-1.37c-.4-.4-.92-.59-1.43-.59-.52 0-1.04.2-1.43.59L10.3 9.45l-7.72 7.72c-.78.78-.78 2.05 0 2.83L4 21.41c.39.39.9.59 1.41.59.51 0 1.02-.2 1.41-.59l7.78-7.78 2.81-2.81c.8-.78.8-2.07 0-2.86zM5.41 20L4 18.59l7.72-7.72 1.47 1.35L5.41 20z\"/>\n",
              "  </svg>\n",
              "      </button>\n",
              "      \n",
              "  <style>\n",
              "    .colab-df-container {\n",
              "      display:flex;\n",
              "      flex-wrap:wrap;\n",
              "      gap: 12px;\n",
              "    }\n",
              "\n",
              "    .colab-df-convert {\n",
              "      background-color: #E8F0FE;\n",
              "      border: none;\n",
              "      border-radius: 50%;\n",
              "      cursor: pointer;\n",
              "      display: none;\n",
              "      fill: #1967D2;\n",
              "      height: 32px;\n",
              "      padding: 0 0 0 0;\n",
              "      width: 32px;\n",
              "    }\n",
              "\n",
              "    .colab-df-convert:hover {\n",
              "      background-color: #E2EBFA;\n",
              "      box-shadow: 0px 1px 2px rgba(60, 64, 67, 0.3), 0px 1px 3px 1px rgba(60, 64, 67, 0.15);\n",
              "      fill: #174EA6;\n",
              "    }\n",
              "\n",
              "    [theme=dark] .colab-df-convert {\n",
              "      background-color: #3B4455;\n",
              "      fill: #D2E3FC;\n",
              "    }\n",
              "\n",
              "    [theme=dark] .colab-df-convert:hover {\n",
              "      background-color: #434B5C;\n",
              "      box-shadow: 0px 1px 3px 1px rgba(0, 0, 0, 0.15);\n",
              "      filter: drop-shadow(0px 1px 2px rgba(0, 0, 0, 0.3));\n",
              "      fill: #FFFFFF;\n",
              "    }\n",
              "  </style>\n",
              "\n",
              "      <script>\n",
              "        const buttonEl =\n",
              "          document.querySelector('#df-98402e29-63ab-4204-ab70-bab48937cbe4 button.colab-df-convert');\n",
              "        buttonEl.style.display =\n",
              "          google.colab.kernel.accessAllowed ? 'block' : 'none';\n",
              "\n",
              "        async function convertToInteractive(key) {\n",
              "          const element = document.querySelector('#df-98402e29-63ab-4204-ab70-bab48937cbe4');\n",
              "          const dataTable =\n",
              "            await google.colab.kernel.invokeFunction('convertToInteractive',\n",
              "                                                     [key], {});\n",
              "          if (!dataTable) return;\n",
              "\n",
              "          const docLinkHtml = 'Like what you see? Visit the ' +\n",
              "            '<a target=\"_blank\" href=https://colab.research.google.com/notebooks/data_table.ipynb>data table notebook</a>'\n",
              "            + ' to learn more about interactive tables.';\n",
              "          element.innerHTML = '';\n",
              "          dataTable['output_type'] = 'display_data';\n",
              "          await google.colab.output.renderOutput(dataTable, element);\n",
              "          const docLink = document.createElement('div');\n",
              "          docLink.innerHTML = docLinkHtml;\n",
              "          element.appendChild(docLink);\n",
              "        }\n",
              "      </script>\n",
              "    </div>\n",
              "  </div>\n",
              "  "
            ],
            "text/plain": [
              "     class   Alcohol  ...  OD280/OD315 of diluted wines   Proline\n",
              "0        1  0.959541  ...                        0.9800  0.633929\n",
              "1        1  0.890088  ...                        0.8500  0.625000\n",
              "2        1  0.887390  ...                        0.7925  0.705357\n",
              "3        1  0.968982  ...                        0.8625  0.880952\n",
              "4        1  0.892785  ...                        0.7325  0.437500\n",
              "..     ...       ...  ...                           ...       ...\n",
              "173      3  0.924477  ...                        0.4350  0.440476\n",
              "174      3  0.903574  ...                        0.3900  0.446429\n",
              "175      3  0.894808  ...                        0.3900  0.497024\n",
              "176      3  0.888065  ...                        0.4050  0.500000\n",
              "177      3  0.952798  ...                        0.4000  0.333333\n",
              "\n",
              "[178 rows x 14 columns]"
            ]
          },
          "metadata": {}
        },
        {
          "output_type": "display_data",
          "data": {
            "text/html": [
              "\n",
              "  <div id=\"df-6ace60c3-de74-498b-a275-475f91de246c\">\n",
              "    <div class=\"colab-df-container\">\n",
              "      <div>\n",
              "<style scoped>\n",
              "    .dataframe tbody tr th:only-of-type {\n",
              "        vertical-align: middle;\n",
              "    }\n",
              "\n",
              "    .dataframe tbody tr th {\n",
              "        vertical-align: top;\n",
              "    }\n",
              "\n",
              "    .dataframe thead th {\n",
              "        text-align: right;\n",
              "    }\n",
              "</style>\n",
              "<table border=\"1\" class=\"dataframe\">\n",
              "  <thead>\n",
              "    <tr style=\"text-align: right;\">\n",
              "      <th></th>\n",
              "      <th>class</th>\n",
              "      <th>hair</th>\n",
              "      <th>feathers</th>\n",
              "      <th>eggs</th>\n",
              "      <th>milk</th>\n",
              "      <th>airborne</th>\n",
              "      <th>aquatic</th>\n",
              "      <th>predator</th>\n",
              "      <th>toothed</th>\n",
              "      <th>backbone</th>\n",
              "      <th>breathes</th>\n",
              "      <th>venomous</th>\n",
              "      <th>fins</th>\n",
              "      <th>legs</th>\n",
              "      <th>tail</th>\n",
              "      <th>domestic</th>\n",
              "      <th>catsize</th>\n",
              "      <th>type</th>\n",
              "    </tr>\n",
              "  </thead>\n",
              "  <tbody>\n",
              "    <tr>\n",
              "      <th>0</th>\n",
              "      <td>aardvark</td>\n",
              "      <td>1.0</td>\n",
              "      <td>0.0</td>\n",
              "      <td>0.0</td>\n",
              "      <td>1.0</td>\n",
              "      <td>0.0</td>\n",
              "      <td>0.0</td>\n",
              "      <td>1.0</td>\n",
              "      <td>1.0</td>\n",
              "      <td>1.0</td>\n",
              "      <td>1.0</td>\n",
              "      <td>0.0</td>\n",
              "      <td>0.0</td>\n",
              "      <td>0.50</td>\n",
              "      <td>0.0</td>\n",
              "      <td>0.0</td>\n",
              "      <td>1.0</td>\n",
              "      <td>0.142857</td>\n",
              "    </tr>\n",
              "    <tr>\n",
              "      <th>1</th>\n",
              "      <td>antelope</td>\n",
              "      <td>1.0</td>\n",
              "      <td>0.0</td>\n",
              "      <td>0.0</td>\n",
              "      <td>1.0</td>\n",
              "      <td>0.0</td>\n",
              "      <td>0.0</td>\n",
              "      <td>0.0</td>\n",
              "      <td>1.0</td>\n",
              "      <td>1.0</td>\n",
              "      <td>1.0</td>\n",
              "      <td>0.0</td>\n",
              "      <td>0.0</td>\n",
              "      <td>0.50</td>\n",
              "      <td>1.0</td>\n",
              "      <td>0.0</td>\n",
              "      <td>1.0</td>\n",
              "      <td>0.142857</td>\n",
              "    </tr>\n",
              "    <tr>\n",
              "      <th>2</th>\n",
              "      <td>bass</td>\n",
              "      <td>0.0</td>\n",
              "      <td>0.0</td>\n",
              "      <td>1.0</td>\n",
              "      <td>0.0</td>\n",
              "      <td>0.0</td>\n",
              "      <td>1.0</td>\n",
              "      <td>1.0</td>\n",
              "      <td>1.0</td>\n",
              "      <td>1.0</td>\n",
              "      <td>0.0</td>\n",
              "      <td>0.0</td>\n",
              "      <td>1.0</td>\n",
              "      <td>0.00</td>\n",
              "      <td>1.0</td>\n",
              "      <td>0.0</td>\n",
              "      <td>0.0</td>\n",
              "      <td>0.571429</td>\n",
              "    </tr>\n",
              "    <tr>\n",
              "      <th>3</th>\n",
              "      <td>bear</td>\n",
              "      <td>1.0</td>\n",
              "      <td>0.0</td>\n",
              "      <td>0.0</td>\n",
              "      <td>1.0</td>\n",
              "      <td>0.0</td>\n",
              "      <td>0.0</td>\n",
              "      <td>1.0</td>\n",
              "      <td>1.0</td>\n",
              "      <td>1.0</td>\n",
              "      <td>1.0</td>\n",
              "      <td>0.0</td>\n",
              "      <td>0.0</td>\n",
              "      <td>0.50</td>\n",
              "      <td>0.0</td>\n",
              "      <td>0.0</td>\n",
              "      <td>1.0</td>\n",
              "      <td>0.142857</td>\n",
              "    </tr>\n",
              "    <tr>\n",
              "      <th>4</th>\n",
              "      <td>boar</td>\n",
              "      <td>1.0</td>\n",
              "      <td>0.0</td>\n",
              "      <td>0.0</td>\n",
              "      <td>1.0</td>\n",
              "      <td>0.0</td>\n",
              "      <td>0.0</td>\n",
              "      <td>1.0</td>\n",
              "      <td>1.0</td>\n",
              "      <td>1.0</td>\n",
              "      <td>1.0</td>\n",
              "      <td>0.0</td>\n",
              "      <td>0.0</td>\n",
              "      <td>0.50</td>\n",
              "      <td>1.0</td>\n",
              "      <td>0.0</td>\n",
              "      <td>1.0</td>\n",
              "      <td>0.142857</td>\n",
              "    </tr>\n",
              "    <tr>\n",
              "      <th>...</th>\n",
              "      <td>...</td>\n",
              "      <td>...</td>\n",
              "      <td>...</td>\n",
              "      <td>...</td>\n",
              "      <td>...</td>\n",
              "      <td>...</td>\n",
              "      <td>...</td>\n",
              "      <td>...</td>\n",
              "      <td>...</td>\n",
              "      <td>...</td>\n",
              "      <td>...</td>\n",
              "      <td>...</td>\n",
              "      <td>...</td>\n",
              "      <td>...</td>\n",
              "      <td>...</td>\n",
              "      <td>...</td>\n",
              "      <td>...</td>\n",
              "      <td>...</td>\n",
              "    </tr>\n",
              "    <tr>\n",
              "      <th>96</th>\n",
              "      <td>wallaby</td>\n",
              "      <td>1.0</td>\n",
              "      <td>0.0</td>\n",
              "      <td>0.0</td>\n",
              "      <td>1.0</td>\n",
              "      <td>0.0</td>\n",
              "      <td>0.0</td>\n",
              "      <td>0.0</td>\n",
              "      <td>1.0</td>\n",
              "      <td>1.0</td>\n",
              "      <td>1.0</td>\n",
              "      <td>0.0</td>\n",
              "      <td>0.0</td>\n",
              "      <td>0.25</td>\n",
              "      <td>1.0</td>\n",
              "      <td>0.0</td>\n",
              "      <td>1.0</td>\n",
              "      <td>0.142857</td>\n",
              "    </tr>\n",
              "    <tr>\n",
              "      <th>97</th>\n",
              "      <td>wasp</td>\n",
              "      <td>1.0</td>\n",
              "      <td>0.0</td>\n",
              "      <td>1.0</td>\n",
              "      <td>0.0</td>\n",
              "      <td>1.0</td>\n",
              "      <td>0.0</td>\n",
              "      <td>0.0</td>\n",
              "      <td>0.0</td>\n",
              "      <td>0.0</td>\n",
              "      <td>1.0</td>\n",
              "      <td>1.0</td>\n",
              "      <td>0.0</td>\n",
              "      <td>0.75</td>\n",
              "      <td>0.0</td>\n",
              "      <td>0.0</td>\n",
              "      <td>0.0</td>\n",
              "      <td>0.857143</td>\n",
              "    </tr>\n",
              "    <tr>\n",
              "      <th>98</th>\n",
              "      <td>wolf</td>\n",
              "      <td>1.0</td>\n",
              "      <td>0.0</td>\n",
              "      <td>0.0</td>\n",
              "      <td>1.0</td>\n",
              "      <td>0.0</td>\n",
              "      <td>0.0</td>\n",
              "      <td>1.0</td>\n",
              "      <td>1.0</td>\n",
              "      <td>1.0</td>\n",
              "      <td>1.0</td>\n",
              "      <td>0.0</td>\n",
              "      <td>0.0</td>\n",
              "      <td>0.50</td>\n",
              "      <td>1.0</td>\n",
              "      <td>0.0</td>\n",
              "      <td>1.0</td>\n",
              "      <td>0.142857</td>\n",
              "    </tr>\n",
              "    <tr>\n",
              "      <th>99</th>\n",
              "      <td>worm</td>\n",
              "      <td>0.0</td>\n",
              "      <td>0.0</td>\n",
              "      <td>1.0</td>\n",
              "      <td>0.0</td>\n",
              "      <td>0.0</td>\n",
              "      <td>0.0</td>\n",
              "      <td>0.0</td>\n",
              "      <td>0.0</td>\n",
              "      <td>0.0</td>\n",
              "      <td>1.0</td>\n",
              "      <td>0.0</td>\n",
              "      <td>0.0</td>\n",
              "      <td>0.00</td>\n",
              "      <td>0.0</td>\n",
              "      <td>0.0</td>\n",
              "      <td>0.0</td>\n",
              "      <td>1.000000</td>\n",
              "    </tr>\n",
              "    <tr>\n",
              "      <th>100</th>\n",
              "      <td>wren</td>\n",
              "      <td>0.0</td>\n",
              "      <td>1.0</td>\n",
              "      <td>1.0</td>\n",
              "      <td>0.0</td>\n",
              "      <td>1.0</td>\n",
              "      <td>0.0</td>\n",
              "      <td>0.0</td>\n",
              "      <td>0.0</td>\n",
              "      <td>1.0</td>\n",
              "      <td>1.0</td>\n",
              "      <td>0.0</td>\n",
              "      <td>0.0</td>\n",
              "      <td>0.25</td>\n",
              "      <td>1.0</td>\n",
              "      <td>0.0</td>\n",
              "      <td>0.0</td>\n",
              "      <td>0.285714</td>\n",
              "    </tr>\n",
              "  </tbody>\n",
              "</table>\n",
              "<p>101 rows × 18 columns</p>\n",
              "</div>\n",
              "      <button class=\"colab-df-convert\" onclick=\"convertToInteractive('df-6ace60c3-de74-498b-a275-475f91de246c')\"\n",
              "              title=\"Convert this dataframe to an interactive table.\"\n",
              "              style=\"display:none;\">\n",
              "        \n",
              "  <svg xmlns=\"http://www.w3.org/2000/svg\" height=\"24px\"viewBox=\"0 0 24 24\"\n",
              "       width=\"24px\">\n",
              "    <path d=\"M0 0h24v24H0V0z\" fill=\"none\"/>\n",
              "    <path d=\"M18.56 5.44l.94 2.06.94-2.06 2.06-.94-2.06-.94-.94-2.06-.94 2.06-2.06.94zm-11 1L8.5 8.5l.94-2.06 2.06-.94-2.06-.94L8.5 2.5l-.94 2.06-2.06.94zm10 10l.94 2.06.94-2.06 2.06-.94-2.06-.94-.94-2.06-.94 2.06-2.06.94z\"/><path d=\"M17.41 7.96l-1.37-1.37c-.4-.4-.92-.59-1.43-.59-.52 0-1.04.2-1.43.59L10.3 9.45l-7.72 7.72c-.78.78-.78 2.05 0 2.83L4 21.41c.39.39.9.59 1.41.59.51 0 1.02-.2 1.41-.59l7.78-7.78 2.81-2.81c.8-.78.8-2.07 0-2.86zM5.41 20L4 18.59l7.72-7.72 1.47 1.35L5.41 20z\"/>\n",
              "  </svg>\n",
              "      </button>\n",
              "      \n",
              "  <style>\n",
              "    .colab-df-container {\n",
              "      display:flex;\n",
              "      flex-wrap:wrap;\n",
              "      gap: 12px;\n",
              "    }\n",
              "\n",
              "    .colab-df-convert {\n",
              "      background-color: #E8F0FE;\n",
              "      border: none;\n",
              "      border-radius: 50%;\n",
              "      cursor: pointer;\n",
              "      display: none;\n",
              "      fill: #1967D2;\n",
              "      height: 32px;\n",
              "      padding: 0 0 0 0;\n",
              "      width: 32px;\n",
              "    }\n",
              "\n",
              "    .colab-df-convert:hover {\n",
              "      background-color: #E2EBFA;\n",
              "      box-shadow: 0px 1px 2px rgba(60, 64, 67, 0.3), 0px 1px 3px 1px rgba(60, 64, 67, 0.15);\n",
              "      fill: #174EA6;\n",
              "    }\n",
              "\n",
              "    [theme=dark] .colab-df-convert {\n",
              "      background-color: #3B4455;\n",
              "      fill: #D2E3FC;\n",
              "    }\n",
              "\n",
              "    [theme=dark] .colab-df-convert:hover {\n",
              "      background-color: #434B5C;\n",
              "      box-shadow: 0px 1px 3px 1px rgba(0, 0, 0, 0.15);\n",
              "      filter: drop-shadow(0px 1px 2px rgba(0, 0, 0, 0.3));\n",
              "      fill: #FFFFFF;\n",
              "    }\n",
              "  </style>\n",
              "\n",
              "      <script>\n",
              "        const buttonEl =\n",
              "          document.querySelector('#df-6ace60c3-de74-498b-a275-475f91de246c button.colab-df-convert');\n",
              "        buttonEl.style.display =\n",
              "          google.colab.kernel.accessAllowed ? 'block' : 'none';\n",
              "\n",
              "        async function convertToInteractive(key) {\n",
              "          const element = document.querySelector('#df-6ace60c3-de74-498b-a275-475f91de246c');\n",
              "          const dataTable =\n",
              "            await google.colab.kernel.invokeFunction('convertToInteractive',\n",
              "                                                     [key], {});\n",
              "          if (!dataTable) return;\n",
              "\n",
              "          const docLinkHtml = 'Like what you see? Visit the ' +\n",
              "            '<a target=\"_blank\" href=https://colab.research.google.com/notebooks/data_table.ipynb>data table notebook</a>'\n",
              "            + ' to learn more about interactive tables.';\n",
              "          element.innerHTML = '';\n",
              "          dataTable['output_type'] = 'display_data';\n",
              "          await google.colab.output.renderOutput(dataTable, element);\n",
              "          const docLink = document.createElement('div');\n",
              "          docLink.innerHTML = docLinkHtml;\n",
              "          element.appendChild(docLink);\n",
              "        }\n",
              "      </script>\n",
              "    </div>\n",
              "  </div>\n",
              "  "
            ],
            "text/plain": [
              "        class  hair  feathers  eggs  ...  tail  domestic  catsize      type\n",
              "0    aardvark   1.0       0.0   0.0  ...   0.0       0.0      1.0  0.142857\n",
              "1    antelope   1.0       0.0   0.0  ...   1.0       0.0      1.0  0.142857\n",
              "2        bass   0.0       0.0   1.0  ...   1.0       0.0      0.0  0.571429\n",
              "3        bear   1.0       0.0   0.0  ...   0.0       0.0      1.0  0.142857\n",
              "4        boar   1.0       0.0   0.0  ...   1.0       0.0      1.0  0.142857\n",
              "..        ...   ...       ...   ...  ...   ...       ...      ...       ...\n",
              "96    wallaby   1.0       0.0   0.0  ...   1.0       0.0      1.0  0.142857\n",
              "97       wasp   1.0       0.0   1.0  ...   0.0       0.0      0.0  0.857143\n",
              "98       wolf   1.0       0.0   0.0  ...   1.0       0.0      1.0  0.142857\n",
              "99       worm   0.0       0.0   1.0  ...   0.0       0.0      0.0  1.000000\n",
              "100      wren   0.0       1.0   1.0  ...   1.0       0.0      0.0  0.285714\n",
              "\n",
              "[101 rows x 18 columns]"
            ]
          },
          "metadata": {}
        }
      ],
      "source": [
        "# Dataset ki pre-processing\n",
        "wine_dataset = datasets_preprocessing(wine_dataset, columns_label=\"class\")\n",
        "zoo_dataset = datasets_preprocessing(zoo_dataset, columns_label=\"class\")\n",
        "# breast_cancer_dataset = datasets_preprocessing(breast_cancer_dataset, columns_label= \"class\")"
      ]
    },
    {
      "cell_type": "code",
      "execution_count": null,
      "metadata": {
        "colab": {
          "base_uri": "https://localhost:8080/",
          "height": 945
        },
        "id": "_ZARqmO44x16",
        "outputId": "f66c00c6-f168-4a16-d889-9229d115bd8c"
      },
      "outputs": [
        {
          "output_type": "display_data",
          "data": {
            "image/png": "[encoded data removed]",
            "text/plain": [
              "<Figure size 1080x360 with 1 Axes>"
            ]
          },
          "metadata": {
            "needs_background": "light"
          }
        },
        {
          "output_type": "display_data",
          "data": {
            "image/png": "[encoded data removed]",
            "text/plain": [
              "<Figure size 1080x360 with 1 Axes>"
            ]
          },
          "metadata": {
            "needs_background": "light"
          }
        },
        {
          "output_type": "display_data",
          "data": {
            "image/png": "[encoded data removed]",
            "text/plain": [
              "<Figure size 1080x360 with 1 Axes>"
            ]
          },
          "metadata": {
            "needs_background": "light"
          }
        }
      ],
      "source": [
        "# Yeah function classes ko plot kkrny liye, ky class ki kitni entries hain\n",
        "ploting_charts_of_classes(wine_dataset, label_column=\"class\")\n",
        "ploting_charts_of_classes(zoo_dataset, label_column=\"class\")\n",
        "ploting_charts_of_classes(breast_cancer_dataset, label_column=\"class\")\n"
      ]
    },
    {
      "cell_type": "code",
      "execution_count": null,
      "metadata": {
        "colab": {
          "base_uri": "https://localhost:8080/",
          "height": 1000
        },
        "id": "UbYTGmGN4x2I",
        "outputId": "35072ff1-facd-44c6-87f0-00dff807d048"
      },
      "outputs": [
        {
          "output_type": "stream",
          "name": "stderr",
          "text": [
            "/usr/local/lib/python3.7/dist-packages/pandas/core/frame.py:3834: SettingWithCopyWarning: \n",
            "A value is trying to be set on a copy of a slice from a DataFrame\n",
            "\n",
            "See the caveats in the documentation: https://pandas.pydata.org/pandas-docs/stable/user_guide/indexing.html#returning-a-view-versus-a-copy\n",
            "  self.loc[index, col] = value\n"
          ]
        },
        {
          "output_type": "display_data",
          "data": {
            "text/html": [
              "\n",
              "  <div id=\"df-07b4a67a-ff80-4400-9062-b86c08aeb5d3\">\n",
              "    <div class=\"colab-df-container\">\n",
              "      <div>\n",
              "<style scoped>\n",
              "    .dataframe tbody tr th:only-of-type {\n",
              "        vertical-align: middle;\n",
              "    }\n",
              "\n",
              "    .dataframe tbody tr th {\n",
              "        vertical-align: top;\n",
              "    }\n",
              "\n",
              "    .dataframe thead th {\n",
              "        text-align: right;\n",
              "    }\n",
              "</style>\n",
              "<table border=\"1\" class=\"dataframe\">\n",
              "  <thead>\n",
              "    <tr style=\"text-align: right;\">\n",
              "      <th></th>\n",
              "      <th>class</th>\n",
              "      <th>Alcohol</th>\n",
              "      <th>Malic acid</th>\n",
              "      <th>Ash</th>\n",
              "      <th>Alcalinity of ash</th>\n",
              "      <th>Magnesium</th>\n",
              "      <th>Total phenols</th>\n",
              "      <th>Flavanoids</th>\n",
              "      <th>Nonflavanoid phenols</th>\n",
              "      <th>Proanthocyanins</th>\n",
              "      <th>Color intensity</th>\n",
              "      <th>Hue</th>\n",
              "      <th>OD280/OD315 of diluted wines</th>\n",
              "      <th>Proline</th>\n",
              "    </tr>\n",
              "  </thead>\n",
              "  <tbody>\n",
              "    <tr>\n",
              "      <th>count</th>\n",
              "      <td>130.000000</td>\n",
              "      <td>130.000000</td>\n",
              "      <td>130.000000</td>\n",
              "      <td>130.000000</td>\n",
              "      <td>130.000000</td>\n",
              "      <td>130.000000</td>\n",
              "      <td>130.000000</td>\n",
              "      <td>130.000000</td>\n",
              "      <td>130.000000</td>\n",
              "      <td>130.000000</td>\n",
              "      <td>130.000000</td>\n",
              "      <td>130.000000</td>\n",
              "      <td>130.000000</td>\n",
              "      <td>130.000000</td>\n",
              "    </tr>\n",
              "    <tr>\n",
              "      <th>mean</th>\n",
              "      <td>1.546154</td>\n",
              "      <td>0.898423</td>\n",
              "      <td>0.382003</td>\n",
              "      <td>0.744677</td>\n",
              "      <td>0.609231</td>\n",
              "      <td>0.629962</td>\n",
              "      <td>0.652339</td>\n",
              "      <td>0.484464</td>\n",
              "      <td>0.507692</td>\n",
              "      <td>0.465814</td>\n",
              "      <td>0.391172</td>\n",
              "      <td>0.589996</td>\n",
              "      <td>0.706423</td>\n",
              "      <td>0.542120</td>\n",
              "    </tr>\n",
              "    <tr>\n",
              "      <th>std</th>\n",
              "      <td>0.748244</td>\n",
              "      <td>0.055381</td>\n",
              "      <td>0.178350</td>\n",
              "      <td>0.083218</td>\n",
              "      <td>0.112912</td>\n",
              "      <td>0.079328</td>\n",
              "      <td>0.153705</td>\n",
              "      <td>0.192230</td>\n",
              "      <td>0.168891</td>\n",
              "      <td>0.162557</td>\n",
              "      <td>0.125887</td>\n",
              "      <td>0.113817</td>\n",
              "      <td>0.165770</td>\n",
              "      <td>0.211207</td>\n",
              "    </tr>\n",
              "    <tr>\n",
              "      <th>min</th>\n",
              "      <td>1.000000</td>\n",
              "      <td>0.743763</td>\n",
              "      <td>0.127586</td>\n",
              "      <td>0.421053</td>\n",
              "      <td>0.353333</td>\n",
              "      <td>0.481481</td>\n",
              "      <td>0.252577</td>\n",
              "      <td>0.066929</td>\n",
              "      <td>0.212121</td>\n",
              "      <td>0.114525</td>\n",
              "      <td>0.098462</td>\n",
              "      <td>0.315789</td>\n",
              "      <td>0.317500</td>\n",
              "      <td>0.203571</td>\n",
              "    </tr>\n",
              "    <tr>\n",
              "      <th>25%</th>\n",
              "      <td>1.000000</td>\n",
              "      <td>0.864295</td>\n",
              "      <td>0.277586</td>\n",
              "      <td>0.698142</td>\n",
              "      <td>0.533333</td>\n",
              "      <td>0.575617</td>\n",
              "      <td>0.545103</td>\n",
              "      <td>0.394193</td>\n",
              "      <td>0.393939</td>\n",
              "      <td>0.357542</td>\n",
              "      <td>0.304808</td>\n",
              "      <td>0.520468</td>\n",
              "      <td>0.631250</td>\n",
              "      <td>0.357143</td>\n",
              "    </tr>\n",
              "    <tr>\n",
              "      <th>50%</th>\n",
              "      <td>1.000000</td>\n",
              "      <td>0.909305</td>\n",
              "      <td>0.311207</td>\n",
              "      <td>0.743034</td>\n",
              "      <td>0.600000</td>\n",
              "      <td>0.623457</td>\n",
              "      <td>0.676546</td>\n",
              "      <td>0.529528</td>\n",
              "      <td>0.454545</td>\n",
              "      <td>0.480447</td>\n",
              "      <td>0.392308</td>\n",
              "      <td>0.608187</td>\n",
              "      <td>0.725000</td>\n",
              "      <td>0.546131</td>\n",
              "    </tr>\n",
              "    <tr>\n",
              "      <th>75%</th>\n",
              "      <td>2.000000</td>\n",
              "      <td>0.936952</td>\n",
              "      <td>0.437069</td>\n",
              "      <td>0.804180</td>\n",
              "      <td>0.676667</td>\n",
              "      <td>0.685185</td>\n",
              "      <td>0.760309</td>\n",
              "      <td>0.619587</td>\n",
              "      <td>0.606061</td>\n",
              "      <td>0.553073</td>\n",
              "      <td>0.461538</td>\n",
              "      <td>0.659357</td>\n",
              "      <td>0.832500</td>\n",
              "      <td>0.707589</td>\n",
              "    </tr>\n",
              "    <tr>\n",
              "      <th>max</th>\n",
              "      <td>3.000000</td>\n",
              "      <td>1.000000</td>\n",
              "      <td>1.000000</td>\n",
              "      <td>1.000000</td>\n",
              "      <td>0.950000</td>\n",
              "      <td>0.932099</td>\n",
              "      <td>1.000000</td>\n",
              "      <td>1.000000</td>\n",
              "      <td>0.954545</td>\n",
              "      <td>0.826816</td>\n",
              "      <td>0.723077</td>\n",
              "      <td>1.000000</td>\n",
              "      <td>1.000000</td>\n",
              "      <td>1.000000</td>\n",
              "    </tr>\n",
              "  </tbody>\n",
              "</table>\n",
              "</div>\n",
              "      <button class=\"colab-df-convert\" onclick=\"convertToInteractive('df-07b4a67a-ff80-4400-9062-b86c08aeb5d3')\"\n",
              "              title=\"Convert this dataframe to an interactive table.\"\n",
              "              style=\"display:none;\">\n",
              "        \n",
              "  <svg xmlns=\"http://www.w3.org/2000/svg\" height=\"24px\"viewBox=\"0 0 24 24\"\n",
              "       width=\"24px\">\n",
              "    <path d=\"M0 0h24v24H0V0z\" fill=\"none\"/>\n",
              "    <path d=\"M18.56 5.44l.94 2.06.94-2.06 2.06-.94-2.06-.94-.94-2.06-.94 2.06-2.06.94zm-11 1L8.5 8.5l.94-2.06 2.06-.94-2.06-.94L8.5 2.5l-.94 2.06-2.06.94zm10 10l.94 2.06.94-2.06 2.06-.94-2.06-.94-.94-2.06-.94 2.06-2.06.94z\"/><path d=\"M17.41 7.96l-1.37-1.37c-.4-.4-.92-.59-1.43-.59-.52 0-1.04.2-1.43.59L10.3 9.45l-7.72 7.72c-.78.78-.78 2.05 0 2.83L4 21.41c.39.39.9.59 1.41.59.51 0 1.02-.2 1.41-.59l7.78-7.78 2.81-2.81c.8-.78.8-2.07 0-2.86zM5.41 20L4 18.59l7.72-7.72 1.47 1.35L5.41 20z\"/>\n",
              "  </svg>\n",
              "      </button>\n",
              "      \n",
              "  <style>\n",
              "    .colab-df-container {\n",
              "      display:flex;\n",
              "      flex-wrap:wrap;\n",
              "      gap: 12px;\n",
              "    }\n",
              "\n",
              "    .colab-df-convert {\n",
              "      background-color: #E8F0FE;\n",
              "      border: none;\n",
              "      border-radius: 50%;\n",
              "      cursor: pointer;\n",
              "      display: none;\n",
              "      fill: #1967D2;\n",
              "      height: 32px;\n",
              "      padding: 0 0 0 0;\n",
              "      width: 32px;\n",
              "    }\n",
              "\n",
              "    .colab-df-convert:hover {\n",
              "      background-color: #E2EBFA;\n",
              "      box-shadow: 0px 1px 2px rgba(60, 64, 67, 0.3), 0px 1px 3px 1px rgba(60, 64, 67, 0.15);\n",
              "      fill: #174EA6;\n",
              "    }\n",
              "\n",
              "    [theme=dark] .colab-df-convert {\n",
              "      background-color: #3B4455;\n",
              "      fill: #D2E3FC;\n",
              "    }\n",
              "\n",
              "    [theme=dark] .colab-df-convert:hover {\n",
              "      background-color: #434B5C;\n",
              "      box-shadow: 0px 1px 3px 1px rgba(0, 0, 0, 0.15);\n",
              "      filter: drop-shadow(0px 1px 2px rgba(0, 0, 0, 0.3));\n",
              "      fill: #FFFFFF;\n",
              "    }\n",
              "  </style>\n",
              "\n",
              "      <script>\n",
              "        const buttonEl =\n",
              "          document.querySelector('#df-07b4a67a-ff80-4400-9062-b86c08aeb5d3 button.colab-df-convert');\n",
              "        buttonEl.style.display =\n",
              "          google.colab.kernel.accessAllowed ? 'block' : 'none';\n",
              "\n",
              "        async function convertToInteractive(key) {\n",
              "          const element = document.querySelector('#df-07b4a67a-ff80-4400-9062-b86c08aeb5d3');\n",
              "          const dataTable =\n",
              "            await google.colab.kernel.invokeFunction('convertToInteractive',\n",
              "                                                     [key], {});\n",
              "          if (!dataTable) return;\n",
              "\n",
              "          const docLinkHtml = 'Like what you see? Visit the ' +\n",
              "            '<a target=\"_blank\" href=https://colab.research.google.com/notebooks/data_table.ipynb>data table notebook</a>'\n",
              "            + ' to learn more about interactive tables.';\n",
              "          element.innerHTML = '';\n",
              "          dataTable['output_type'] = 'display_data';\n",
              "          await google.colab.output.renderOutput(dataTable, element);\n",
              "          const docLink = document.createElement('div');\n",
              "          docLink.innerHTML = docLinkHtml;\n",
              "          element.appendChild(docLink);\n",
              "        }\n",
              "      </script>\n",
              "    </div>\n",
              "  </div>\n",
              "  "
            ],
            "text/plain": [
              "            class     Alcohol  ...  OD280/OD315 of diluted wines     Proline\n",
              "count  130.000000  130.000000  ...                    130.000000  130.000000\n",
              "mean     1.546154    0.898423  ...                      0.706423    0.542120\n",
              "std      0.748244    0.055381  ...                      0.165770    0.211207\n",
              "min      1.000000    0.743763  ...                      0.317500    0.203571\n",
              "25%      1.000000    0.864295  ...                      0.631250    0.357143\n",
              "50%      1.000000    0.909305  ...                      0.725000    0.546131\n",
              "75%      2.000000    0.936952  ...                      0.832500    0.707589\n",
              "max      3.000000    1.000000  ...                      1.000000    1.000000\n",
              "\n",
              "[8 rows x 14 columns]"
            ]
          },
          "metadata": {}
        },
        {
          "output_type": "stream",
          "name": "stdout",
          "text": [
            "\n",
            "The Classes exists in dataset: [2. 1. 3.]\n",
            "\n",
            "No of Data Rows having each class:\n",
            "31 number of data rows for 2.0 class.\n",
            "79 number of data rows for 1.0 class.\n",
            "20 number of data rows for 3.0 class.\n"
          ]
        },
        {
          "output_type": "stream",
          "name": "stderr",
          "text": [
            "/usr/local/lib/python3.7/dist-packages/pandas/core/frame.py:3834: SettingWithCopyWarning: \n",
            "A value is trying to be set on a copy of a slice from a DataFrame\n",
            "\n",
            "See the caveats in the documentation: https://pandas.pydata.org/pandas-docs/stable/user_guide/indexing.html#returning-a-view-versus-a-copy\n",
            "  self.loc[index, col] = value\n"
          ]
        },
        {
          "output_type": "display_data",
          "data": {
            "text/html": [
              "\n",
              "  <div id=\"df-50f7bff8-3f73-44ee-bf16-368b2756135b\">\n",
              "    <div class=\"colab-df-container\">\n",
              "      <div>\n",
              "<style scoped>\n",
              "    .dataframe tbody tr th:only-of-type {\n",
              "        vertical-align: middle;\n",
              "    }\n",
              "\n",
              "    .dataframe tbody tr th {\n",
              "        vertical-align: top;\n",
              "    }\n",
              "\n",
              "    .dataframe thead th {\n",
              "        text-align: right;\n",
              "    }\n",
              "</style>\n",
              "<table border=\"1\" class=\"dataframe\">\n",
              "  <thead>\n",
              "    <tr style=\"text-align: right;\">\n",
              "      <th></th>\n",
              "      <th>hair</th>\n",
              "      <th>feathers</th>\n",
              "      <th>eggs</th>\n",
              "      <th>milk</th>\n",
              "      <th>airborne</th>\n",
              "      <th>aquatic</th>\n",
              "      <th>predator</th>\n",
              "      <th>toothed</th>\n",
              "      <th>backbone</th>\n",
              "      <th>breathes</th>\n",
              "      <th>venomous</th>\n",
              "      <th>fins</th>\n",
              "      <th>legs</th>\n",
              "      <th>tail</th>\n",
              "      <th>domestic</th>\n",
              "      <th>catsize</th>\n",
              "      <th>type</th>\n",
              "    </tr>\n",
              "  </thead>\n",
              "  <tbody>\n",
              "    <tr>\n",
              "      <th>count</th>\n",
              "      <td>102.000000</td>\n",
              "      <td>102.000000</td>\n",
              "      <td>102.000000</td>\n",
              "      <td>102.000000</td>\n",
              "      <td>102.000000</td>\n",
              "      <td>102.000000</td>\n",
              "      <td>102.000000</td>\n",
              "      <td>102.000000</td>\n",
              "      <td>102.000000</td>\n",
              "      <td>102.000000</td>\n",
              "      <td>102.000000</td>\n",
              "      <td>102.000000</td>\n",
              "      <td>102.000000</td>\n",
              "      <td>102.000000</td>\n",
              "      <td>102.000000</td>\n",
              "      <td>102.000000</td>\n",
              "      <td>102.000000</td>\n",
              "    </tr>\n",
              "    <tr>\n",
              "      <th>mean</th>\n",
              "      <td>0.441176</td>\n",
              "      <td>0.196078</td>\n",
              "      <td>0.568627</td>\n",
              "      <td>0.421569</td>\n",
              "      <td>0.235294</td>\n",
              "      <td>0.343137</td>\n",
              "      <td>0.549020</td>\n",
              "      <td>0.607843</td>\n",
              "      <td>0.823529</td>\n",
              "      <td>0.784314</td>\n",
              "      <td>0.068627</td>\n",
              "      <td>0.176471</td>\n",
              "      <td>0.351716</td>\n",
              "      <td>0.754902</td>\n",
              "      <td>0.127451</td>\n",
              "      <td>0.450980</td>\n",
              "      <td>0.394958</td>\n",
              "    </tr>\n",
              "    <tr>\n",
              "      <th>std</th>\n",
              "      <td>0.498980</td>\n",
              "      <td>0.398989</td>\n",
              "      <td>0.497714</td>\n",
              "      <td>0.496249</td>\n",
              "      <td>0.426277</td>\n",
              "      <td>0.477101</td>\n",
              "      <td>0.500049</td>\n",
              "      <td>0.490642</td>\n",
              "      <td>0.383103</td>\n",
              "      <td>0.413329</td>\n",
              "      <td>0.254068</td>\n",
              "      <td>0.383103</td>\n",
              "      <td>0.255345</td>\n",
              "      <td>0.432270</td>\n",
              "      <td>0.335124</td>\n",
              "      <td>0.500049</td>\n",
              "      <td>0.298292</td>\n",
              "    </tr>\n",
              "    <tr>\n",
              "      <th>min</th>\n",
              "      <td>0.000000</td>\n",
              "      <td>0.000000</td>\n",
              "      <td>0.000000</td>\n",
              "      <td>0.000000</td>\n",
              "      <td>0.000000</td>\n",
              "      <td>0.000000</td>\n",
              "      <td>0.000000</td>\n",
              "      <td>0.000000</td>\n",
              "      <td>0.000000</td>\n",
              "      <td>0.000000</td>\n",
              "      <td>0.000000</td>\n",
              "      <td>0.000000</td>\n",
              "      <td>0.000000</td>\n",
              "      <td>0.000000</td>\n",
              "      <td>0.000000</td>\n",
              "      <td>0.000000</td>\n",
              "      <td>0.142857</td>\n",
              "    </tr>\n",
              "    <tr>\n",
              "      <th>25%</th>\n",
              "      <td>0.000000</td>\n",
              "      <td>0.000000</td>\n",
              "      <td>0.000000</td>\n",
              "      <td>0.000000</td>\n",
              "      <td>0.000000</td>\n",
              "      <td>0.000000</td>\n",
              "      <td>0.000000</td>\n",
              "      <td>0.000000</td>\n",
              "      <td>1.000000</td>\n",
              "      <td>1.000000</td>\n",
              "      <td>0.000000</td>\n",
              "      <td>0.000000</td>\n",
              "      <td>0.250000</td>\n",
              "      <td>1.000000</td>\n",
              "      <td>0.000000</td>\n",
              "      <td>0.000000</td>\n",
              "      <td>0.142857</td>\n",
              "    </tr>\n",
              "    <tr>\n",
              "      <th>50%</th>\n",
              "      <td>0.000000</td>\n",
              "      <td>0.000000</td>\n",
              "      <td>1.000000</td>\n",
              "      <td>0.000000</td>\n",
              "      <td>0.000000</td>\n",
              "      <td>0.000000</td>\n",
              "      <td>1.000000</td>\n",
              "      <td>1.000000</td>\n",
              "      <td>1.000000</td>\n",
              "      <td>1.000000</td>\n",
              "      <td>0.000000</td>\n",
              "      <td>0.000000</td>\n",
              "      <td>0.375000</td>\n",
              "      <td>1.000000</td>\n",
              "      <td>0.000000</td>\n",
              "      <td>0.000000</td>\n",
              "      <td>0.285714</td>\n",
              "    </tr>\n",
              "    <tr>\n",
              "      <th>75%</th>\n",
              "      <td>1.000000</td>\n",
              "      <td>0.000000</td>\n",
              "      <td>1.000000</td>\n",
              "      <td>1.000000</td>\n",
              "      <td>0.000000</td>\n",
              "      <td>1.000000</td>\n",
              "      <td>1.000000</td>\n",
              "      <td>1.000000</td>\n",
              "      <td>1.000000</td>\n",
              "      <td>1.000000</td>\n",
              "      <td>0.000000</td>\n",
              "      <td>0.000000</td>\n",
              "      <td>0.500000</td>\n",
              "      <td>1.000000</td>\n",
              "      <td>0.000000</td>\n",
              "      <td>1.000000</td>\n",
              "      <td>0.571429</td>\n",
              "    </tr>\n",
              "    <tr>\n",
              "      <th>max</th>\n",
              "      <td>1.000000</td>\n",
              "      <td>1.000000</td>\n",
              "      <td>1.000000</td>\n",
              "      <td>1.000000</td>\n",
              "      <td>1.000000</td>\n",
              "      <td>1.000000</td>\n",
              "      <td>1.000000</td>\n",
              "      <td>1.000000</td>\n",
              "      <td>1.000000</td>\n",
              "      <td>1.000000</td>\n",
              "      <td>1.000000</td>\n",
              "      <td>1.000000</td>\n",
              "      <td>1.000000</td>\n",
              "      <td>1.000000</td>\n",
              "      <td>1.000000</td>\n",
              "      <td>1.000000</td>\n",
              "      <td>1.000000</td>\n",
              "    </tr>\n",
              "  </tbody>\n",
              "</table>\n",
              "</div>\n",
              "      <button class=\"colab-df-convert\" onclick=\"convertToInteractive('df-50f7bff8-3f73-44ee-bf16-368b2756135b')\"\n",
              "              title=\"Convert this dataframe to an interactive table.\"\n",
              "              style=\"display:none;\">\n",
              "        \n",
              "  <svg xmlns=\"http://www.w3.org/2000/svg\" height=\"24px\"viewBox=\"0 0 24 24\"\n",
              "       width=\"24px\">\n",
              "    <path d=\"M0 0h24v24H0V0z\" fill=\"none\"/>\n",
              "    <path d=\"M18.56 5.44l.94 2.06.94-2.06 2.06-.94-2.06-.94-.94-2.06-.94 2.06-2.06.94zm-11 1L8.5 8.5l.94-2.06 2.06-.94-2.06-.94L8.5 2.5l-.94 2.06-2.06.94zm10 10l.94 2.06.94-2.06 2.06-.94-2.06-.94-.94-2.06-.94 2.06-2.06.94z\"/><path d=\"M17.41 7.96l-1.37-1.37c-.4-.4-.92-.59-1.43-.59-.52 0-1.04.2-1.43.59L10.3 9.45l-7.72 7.72c-.78.78-.78 2.05 0 2.83L4 21.41c.39.39.9.59 1.41.59.51 0 1.02-.2 1.41-.59l7.78-7.78 2.81-2.81c.8-.78.8-2.07 0-2.86zM5.41 20L4 18.59l7.72-7.72 1.47 1.35L5.41 20z\"/>\n",
              "  </svg>\n",
              "      </button>\n",
              "      \n",
              "  <style>\n",
              "    .colab-df-container {\n",
              "      display:flex;\n",
              "      flex-wrap:wrap;\n",
              "      gap: 12px;\n",
              "    }\n",
              "\n",
              "    .colab-df-convert {\n",
              "      background-color: #E8F0FE;\n",
              "      border: none;\n",
              "      border-radius: 50%;\n",
              "      cursor: pointer;\n",
              "      display: none;\n",
              "      fill: #1967D2;\n",
              "      height: 32px;\n",
              "      padding: 0 0 0 0;\n",
              "      width: 32px;\n",
              "    }\n",
              "\n",
              "    .colab-df-convert:hover {\n",
              "      background-color: #E2EBFA;\n",
              "      box-shadow: 0px 1px 2px rgba(60, 64, 67, 0.3), 0px 1px 3px 1px rgba(60, 64, 67, 0.15);\n",
              "      fill: #174EA6;\n",
              "    }\n",
              "\n",
              "    [theme=dark] .colab-df-convert {\n",
              "      background-color: #3B4455;\n",
              "      fill: #D2E3FC;\n",
              "    }\n",
              "\n",
              "    [theme=dark] .colab-df-convert:hover {\n",
              "      background-color: #434B5C;\n",
              "      box-shadow: 0px 1px 3px 1px rgba(0, 0, 0, 0.15);\n",
              "      filter: drop-shadow(0px 1px 2px rgba(0, 0, 0, 0.3));\n",
              "      fill: #FFFFFF;\n",
              "    }\n",
              "  </style>\n",
              "\n",
              "      <script>\n",
              "        const buttonEl =\n",
              "          document.querySelector('#df-50f7bff8-3f73-44ee-bf16-368b2756135b button.colab-df-convert');\n",
              "        buttonEl.style.display =\n",
              "          google.colab.kernel.accessAllowed ? 'block' : 'none';\n",
              "\n",
              "        async function convertToInteractive(key) {\n",
              "          const element = document.querySelector('#df-50f7bff8-3f73-44ee-bf16-368b2756135b');\n",
              "          const dataTable =\n",
              "            await google.colab.kernel.invokeFunction('convertToInteractive',\n",
              "                                                     [key], {});\n",
              "          if (!dataTable) return;\n",
              "\n",
              "          const docLinkHtml = 'Like what you see? Visit the ' +\n",
              "            '<a target=\"_blank\" href=https://colab.research.google.com/notebooks/data_table.ipynb>data table notebook</a>'\n",
              "            + ' to learn more about interactive tables.';\n",
              "          element.innerHTML = '';\n",
              "          dataTable['output_type'] = 'display_data';\n",
              "          await google.colab.output.renderOutput(dataTable, element);\n",
              "          const docLink = document.createElement('div');\n",
              "          docLink.innerHTML = docLinkHtml;\n",
              "          element.appendChild(docLink);\n",
              "        }\n",
              "      </script>\n",
              "    </div>\n",
              "  </div>\n",
              "  "
            ],
            "text/plain": [
              "             hair    feathers        eggs  ...    domestic     catsize        type\n",
              "count  102.000000  102.000000  102.000000  ...  102.000000  102.000000  102.000000\n",
              "mean     0.441176    0.196078    0.568627  ...    0.127451    0.450980    0.394958\n",
              "std      0.498980    0.398989    0.497714  ...    0.335124    0.500049    0.298292\n",
              "min      0.000000    0.000000    0.000000  ...    0.000000    0.000000    0.142857\n",
              "25%      0.000000    0.000000    0.000000  ...    0.000000    0.000000    0.142857\n",
              "50%      0.000000    0.000000    1.000000  ...    0.000000    0.000000    0.285714\n",
              "75%      1.000000    0.000000    1.000000  ...    0.000000    1.000000    0.571429\n",
              "max      1.000000    1.000000    1.000000  ...    1.000000    1.000000    1.000000\n",
              "\n",
              "[8 rows x 17 columns]"
            ]
          },
          "metadata": {}
        },
        {
          "output_type": "stream",
          "name": "stdout",
          "text": [
            "\n",
            "The Classes exists in dataset: ['elephant' 'flamingo' 'aardvark' 'antelope' 'bass' 'bear' 'boar'\n",
            " 'buffalo' 'calf' 'carp' 'catfish' 'cavy' 'cheetah' 'chicken' 'chub'\n",
            " 'clam' 'crab' 'crayfish' 'crow' 'deer' 'dogfish' 'dolphin' 'dove' 'duck'\n",
            " 'flea' 'fruitbat' 'giraffe' 'girl' 'gnat' 'goat' 'gorilla' 'gull'\n",
            " 'haddock' 'hamster' 'hare' 'hawk' 'herring' 'honeybee' 'housefly' 'kiwi'\n",
            " 'ladybird' 'lark' 'leopard' 'lion' 'lobster' 'lynx' 'mink' 'mole'\n",
            " 'mongoose' 'moth' 'newt' 'octopus' 'opossum' 'oryx' 'ostrich' 'parakeet'\n",
            " 'penguin' 'pheasant' 'pike' 'piranha' 'pitviper' 'platypus' 'polecat'\n",
            " 'pony' 'porpoise' 'puma' 'pussycat' 'raccoon' 'reindeer' 'rhea'\n",
            " 'scorpion' 'seahorse' 'seal' 'sealion' 'seasnake' 'seawasp' 'skimmer'\n",
            " 'skua' 'slowworm' 'slug' 'sole' 'sparrow' 'squirrel' 'starfish'\n",
            " 'stingray' 'swan' 'termite' 'toad' 'tortoise' 'tuatara' 'tuna' 'vampire'\n",
            " 'vole' 'vulture' 'wallaby' 'wasp' 'wolf' 'worm' 'wren']\n",
            "\n",
            "No of Data Rows having each class:\n",
            "1 number of data rows for elephant class.\n",
            "1 number of data rows for flamingo class.\n",
            "2 number of data rows for aardvark class.\n",
            "2 number of data rows for antelope class.\n",
            "2 number of data rows for bass class.\n",
            "1 number of data rows for bear class.\n",
            "1 number of data rows for boar class.\n",
            "1 number of data rows for buffalo class.\n",
            "1 number of data rows for calf class.\n",
            "1 number of data rows for carp class.\n",
            "1 number of data rows for catfish class.\n",
            "1 number of data rows for cavy class.\n",
            "1 number of data rows for cheetah class.\n",
            "1 number of data rows for chicken class.\n",
            "1 number of data rows for chub class.\n",
            "1 number of data rows for clam class.\n",
            "1 number of data rows for crab class.\n",
            "1 number of data rows for crayfish class.\n",
            "1 number of data rows for crow class.\n",
            "1 number of data rows for deer class.\n",
            "1 number of data rows for dogfish class.\n",
            "1 number of data rows for dolphin class.\n",
            "1 number of data rows for dove class.\n",
            "1 number of data rows for duck class.\n",
            "1 number of data rows for flea class.\n",
            "1 number of data rows for fruitbat class.\n",
            "1 number of data rows for giraffe class.\n",
            "1 number of data rows for girl class.\n",
            "1 number of data rows for gnat class.\n",
            "1 number of data rows for goat class.\n",
            "1 number of data rows for gorilla class.\n",
            "1 number of data rows for gull class.\n",
            "1 number of data rows for haddock class.\n",
            "1 number of data rows for hamster class.\n",
            "1 number of data rows for hare class.\n",
            "1 number of data rows for hawk class.\n",
            "1 number of data rows for herring class.\n",
            "1 number of data rows for honeybee class.\n",
            "1 number of data rows for housefly class.\n",
            "1 number of data rows for kiwi class.\n",
            "1 number of data rows for ladybird class.\n",
            "1 number of data rows for lark class.\n",
            "1 number of data rows for leopard class.\n",
            "1 number of data rows for lion class.\n",
            "1 number of data rows for lobster class.\n",
            "1 number of data rows for lynx class.\n",
            "1 number of data rows for mink class.\n",
            "1 number of data rows for mole class.\n",
            "1 number of data rows for mongoose class.\n",
            "1 number of data rows for moth class.\n",
            "1 number of data rows for newt class.\n",
            "1 number of data rows for octopus class.\n",
            "1 number of data rows for opossum class.\n",
            "1 number of data rows for oryx class.\n",
            "1 number of data rows for ostrich class.\n",
            "1 number of data rows for parakeet class.\n",
            "1 number of data rows for penguin class.\n",
            "1 number of data rows for pheasant class.\n",
            "1 number of data rows for pike class.\n",
            "1 number of data rows for piranha class.\n",
            "1 number of data rows for pitviper class.\n",
            "1 number of data rows for platypus class.\n",
            "1 number of data rows for polecat class.\n",
            "1 number of data rows for pony class.\n",
            "1 number of data rows for porpoise class.\n",
            "1 number of data rows for puma class.\n",
            "1 number of data rows for pussycat class.\n",
            "1 number of data rows for raccoon class.\n",
            "1 number of data rows for reindeer class.\n",
            "1 number of data rows for rhea class.\n",
            "1 number of data rows for scorpion class.\n",
            "1 number of data rows for seahorse class.\n",
            "1 number of data rows for seal class.\n",
            "1 number of data rows for sealion class.\n",
            "1 number of data rows for seasnake class.\n",
            "1 number of data rows for seawasp class.\n",
            "1 number of data rows for skimmer class.\n",
            "1 number of data rows for skua class.\n",
            "1 number of data rows for slowworm class.\n",
            "1 number of data rows for slug class.\n",
            "1 number of data rows for sole class.\n",
            "1 number of data rows for sparrow class.\n",
            "1 number of data rows for squirrel class.\n",
            "1 number of data rows for starfish class.\n",
            "1 number of data rows for stingray class.\n",
            "1 number of data rows for swan class.\n",
            "1 number of data rows for termite class.\n",
            "1 number of data rows for toad class.\n",
            "1 number of data rows for tortoise class.\n",
            "1 number of data rows for tuatara class.\n",
            "1 number of data rows for tuna class.\n",
            "1 number of data rows for vampire class.\n",
            "1 number of data rows for vole class.\n",
            "1 number of data rows for vulture class.\n",
            "1 number of data rows for wallaby class.\n",
            "1 number of data rows for wasp class.\n",
            "1 number of data rows for wolf class.\n",
            "1 number of data rows for worm class.\n",
            "1 number of data rows for wren class.\n"
          ]
        },
        {
          "output_type": "stream",
          "name": "stderr",
          "text": [
            "/usr/local/lib/python3.7/dist-packages/pandas/core/frame.py:3834: SettingWithCopyWarning: \n",
            "A value is trying to be set on a copy of a slice from a DataFrame\n",
            "\n",
            "See the caveats in the documentation: https://pandas.pydata.org/pandas-docs/stable/user_guide/indexing.html#returning-a-view-versus-a-copy\n",
            "  self.loc[index, col] = value\n"
          ]
        },
        {
          "output_type": "display_data",
          "data": {
            "text/html": [
              "\n",
              "  <div id=\"df-cc3bca46-91a3-4e1b-bfe8-b625256703cd\">\n",
              "    <div class=\"colab-df-container\">\n",
              "      <div>\n",
              "<style scoped>\n",
              "    .dataframe tbody tr th:only-of-type {\n",
              "        vertical-align: middle;\n",
              "    }\n",
              "\n",
              "    .dataframe tbody tr th {\n",
              "        vertical-align: top;\n",
              "    }\n",
              "\n",
              "    .dataframe thead th {\n",
              "        text-align: right;\n",
              "    }\n",
              "</style>\n",
              "<table border=\"1\" class=\"dataframe\">\n",
              "  <thead>\n",
              "    <tr style=\"text-align: right;\">\n",
              "      <th></th>\n",
              "      <th>deg-malig</th>\n",
              "    </tr>\n",
              "  </thead>\n",
              "  <tbody>\n",
              "    <tr>\n",
              "      <th>count</th>\n",
              "      <td>287.000000</td>\n",
              "    </tr>\n",
              "    <tr>\n",
              "      <th>mean</th>\n",
              "      <td>2.048780</td>\n",
              "    </tr>\n",
              "    <tr>\n",
              "      <th>std</th>\n",
              "      <td>0.736931</td>\n",
              "    </tr>\n",
              "    <tr>\n",
              "      <th>min</th>\n",
              "      <td>1.000000</td>\n",
              "    </tr>\n",
              "    <tr>\n",
              "      <th>25%</th>\n",
              "      <td>2.000000</td>\n",
              "    </tr>\n",
              "    <tr>\n",
              "      <th>50%</th>\n",
              "      <td>2.000000</td>\n",
              "    </tr>\n",
              "    <tr>\n",
              "      <th>75%</th>\n",
              "      <td>3.000000</td>\n",
              "    </tr>\n",
              "    <tr>\n",
              "      <th>max</th>\n",
              "      <td>3.000000</td>\n",
              "    </tr>\n",
              "  </tbody>\n",
              "</table>\n",
              "</div>\n",
              "      <button class=\"colab-df-convert\" onclick=\"convertToInteractive('df-cc3bca46-91a3-4e1b-bfe8-b625256703cd')\"\n",
              "              title=\"Convert this dataframe to an interactive table.\"\n",
              "              style=\"display:none;\">\n",
              "        \n",
              "  <svg xmlns=\"http://www.w3.org/2000/svg\" height=\"24px\"viewBox=\"0 0 24 24\"\n",
              "       width=\"24px\">\n",
              "    <path d=\"M0 0h24v24H0V0z\" fill=\"none\"/>\n",
              "    <path d=\"M18.56 5.44l.94 2.06.94-2.06 2.06-.94-2.06-.94-.94-2.06-.94 2.06-2.06.94zm-11 1L8.5 8.5l.94-2.06 2.06-.94-2.06-.94L8.5 2.5l-.94 2.06-2.06.94zm10 10l.94 2.06.94-2.06 2.06-.94-2.06-.94-.94-2.06-.94 2.06-2.06.94z\"/><path d=\"M17.41 7.96l-1.37-1.37c-.4-.4-.92-.59-1.43-.59-.52 0-1.04.2-1.43.59L10.3 9.45l-7.72 7.72c-.78.78-.78 2.05 0 2.83L4 21.41c.39.39.9.59 1.41.59.51 0 1.02-.2 1.41-.59l7.78-7.78 2.81-2.81c.8-.78.8-2.07 0-2.86zM5.41 20L4 18.59l7.72-7.72 1.47 1.35L5.41 20z\"/>\n",
              "  </svg>\n",
              "      </button>\n",
              "      \n",
              "  <style>\n",
              "    .colab-df-container {\n",
              "      display:flex;\n",
              "      flex-wrap:wrap;\n",
              "      gap: 12px;\n",
              "    }\n",
              "\n",
              "    .colab-df-convert {\n",
              "      background-color: #E8F0FE;\n",
              "      border: none;\n",
              "      border-radius: 50%;\n",
              "      cursor: pointer;\n",
              "      display: none;\n",
              "      fill: #1967D2;\n",
              "      height: 32px;\n",
              "      padding: 0 0 0 0;\n",
              "      width: 32px;\n",
              "    }\n",
              "\n",
              "    .colab-df-convert:hover {\n",
              "      background-color: #E2EBFA;\n",
              "      box-shadow: 0px 1px 2px rgba(60, 64, 67, 0.3), 0px 1px 3px 1px rgba(60, 64, 67, 0.15);\n",
              "      fill: #174EA6;\n",
              "    }\n",
              "\n",
              "    [theme=dark] .colab-df-convert {\n",
              "      background-color: #3B4455;\n",
              "      fill: #D2E3FC;\n",
              "    }\n",
              "\n",
              "    [theme=dark] .colab-df-convert:hover {\n",
              "      background-color: #434B5C;\n",
              "      box-shadow: 0px 1px 3px 1px rgba(0, 0, 0, 0.15);\n",
              "      filter: drop-shadow(0px 1px 2px rgba(0, 0, 0, 0.3));\n",
              "      fill: #FFFFFF;\n",
              "    }\n",
              "  </style>\n",
              "\n",
              "      <script>\n",
              "        const buttonEl =\n",
              "          document.querySelector('#df-cc3bca46-91a3-4e1b-bfe8-b625256703cd button.colab-df-convert');\n",
              "        buttonEl.style.display =\n",
              "          google.colab.kernel.accessAllowed ? 'block' : 'none';\n",
              "\n",
              "        async function convertToInteractive(key) {\n",
              "          const element = document.querySelector('#df-cc3bca46-91a3-4e1b-bfe8-b625256703cd');\n",
              "          const dataTable =\n",
              "            await google.colab.kernel.invokeFunction('convertToInteractive',\n",
              "                                                     [key], {});\n",
              "          if (!dataTable) return;\n",
              "\n",
              "          const docLinkHtml = 'Like what you see? Visit the ' +\n",
              "            '<a target=\"_blank\" href=https://colab.research.google.com/notebooks/data_table.ipynb>data table notebook</a>'\n",
              "            + ' to learn more about interactive tables.';\n",
              "          element.innerHTML = '';\n",
              "          dataTable['output_type'] = 'display_data';\n",
              "          await google.colab.output.renderOutput(dataTable, element);\n",
              "          const docLink = document.createElement('div');\n",
              "          docLink.innerHTML = docLinkHtml;\n",
              "          element.appendChild(docLink);\n",
              "        }\n",
              "      </script>\n",
              "    </div>\n",
              "  </div>\n",
              "  "
            ],
            "text/plain": [
              "        deg-malig\n",
              "count  287.000000\n",
              "mean     2.048780\n",
              "std      0.736931\n",
              "min      1.000000\n",
              "25%      2.000000\n",
              "50%      2.000000\n",
              "75%      3.000000\n",
              "max      3.000000"
            ]
          },
          "metadata": {}
        },
        {
          "output_type": "stream",
          "name": "stdout",
          "text": [
            "\n",
            "The Classes exists in dataset: ['no-recurrence-events' 'recurrence-events']\n",
            "\n",
            "No of Data Rows having each class:\n",
            "201 number of data rows for no-recurrence-events class.\n",
            "86 number of data rows for recurrence-events class.\n"
          ]
        }
      ],
      "source": [
        "# Yeah imbalance dataset ka function, ab last parameter imbalance_percentage, jitna imbalance dataset chaiye \n",
        "# uski percentage likh dena. jesy yahn 65, tu yeh low imbalance, agar 75 kar do gy tu mid imbalance hu jaye ga\n",
        "low_imb_wine_dataset = getImbalanceSubset(wine_dataset, label_column=\"class\", imbalance_percentage=65)\n",
        "low_imb_zoo_dataset = getImbalanceSubset(zoo_dataset, label_column=\"class\", imbalance_percentage=65)\n",
        "low_imb_breast_cancer_dataset = getImbalanceSubset(breast_cancer_dataset, label_column=\"class\", imbalance_percentage=65)"
      ]
    },
    {
      "cell_type": "code",
      "execution_count": null,
      "metadata": {
        "colab": {
          "base_uri": "https://localhost:8080/",
          "height": 945
        },
        "id": "S9m4XMAd4x2L",
        "outputId": "c2948524-fd84-4db1-ae60-e2845dfda504"
      },
      "outputs": [
        {
          "output_type": "display_data",
          "data": {
            "image/png": "[encoded data removed]",
            "text/plain": [
              "<Figure size 1080x360 with 1 Axes>"
            ]
          },
          "metadata": {
            "needs_background": "light"
          }
        },
        {
          "output_type": "display_data",
          "data": {
            "image/png": "[encoded data removed]",
            "text/plain": [
              "<Figure size 1080x360 with 1 Axes>"
            ]
          },
          "metadata": {
            "needs_background": "light"
          }
        },
        {
          "output_type": "display_data",
          "data": {
            "image/png": "[encoded data removed]",
            "text/plain": [
              "<Figure size 1080x360 with 1 Axes>"
            ]
          },
          "metadata": {
            "needs_background": "light"
          }
        }
      ],
      "source": [
        "ploting_charts_of_classes(low_imb_wine_dataset, label_column=\"class\")\n",
        "ploting_charts_of_classes(low_imb_zoo_dataset, label_column=\"class\")\n",
        "ploting_charts_of_classes(low_imb_breast_cancer_dataset, label_column=\"class\")"
      ]
    },
    {
      "cell_type": "code",
      "execution_count": null,
      "metadata": {
        "colab": {
          "base_uri": "https://localhost:8080/",
          "height": 1000
        },
        "id": "r4Uv9rip4x2O",
        "outputId": "0271b3e5-ca8c-4202-f5a0-d31ac8f1a27a"
      },
      "outputs": [
        {
          "output_type": "stream",
          "name": "stderr",
          "text": [
            "/usr/local/lib/python3.7/dist-packages/pandas/core/frame.py:3834: SettingWithCopyWarning: \n",
            "A value is trying to be set on a copy of a slice from a DataFrame\n",
            "\n",
            "See the caveats in the documentation: https://pandas.pydata.org/pandas-docs/stable/user_guide/indexing.html#returning-a-view-versus-a-copy\n",
            "  self.loc[index, col] = value\n"
          ]
        },
        {
          "output_type": "display_data",
          "data": {
            "text/html": [
              "\n",
              "  <div id=\"df-3e6ed4cd-8fe9-4c87-b83d-9767a1d74cc9\">\n",
              "    <div class=\"colab-df-container\">\n",
              "      <div>\n",
              "<style scoped>\n",
              "    .dataframe tbody tr th:only-of-type {\n",
              "        vertical-align: middle;\n",
              "    }\n",
              "\n",
              "    .dataframe tbody tr th {\n",
              "        vertical-align: top;\n",
              "    }\n",
              "\n",
              "    .dataframe thead th {\n",
              "        text-align: right;\n",
              "    }\n",
              "</style>\n",
              "<table border=\"1\" class=\"dataframe\">\n",
              "  <thead>\n",
              "    <tr style=\"text-align: right;\">\n",
              "      <th></th>\n",
              "      <th>class</th>\n",
              "      <th>Alcohol</th>\n",
              "      <th>Malic acid</th>\n",
              "      <th>Ash</th>\n",
              "      <th>Alcalinity of ash</th>\n",
              "      <th>Magnesium</th>\n",
              "      <th>Total phenols</th>\n",
              "      <th>Flavanoids</th>\n",
              "      <th>Nonflavanoid phenols</th>\n",
              "      <th>Proanthocyanins</th>\n",
              "      <th>Color intensity</th>\n",
              "      <th>Hue</th>\n",
              "      <th>OD280/OD315 of diluted wines</th>\n",
              "      <th>Proline</th>\n",
              "    </tr>\n",
              "  </thead>\n",
              "  <tbody>\n",
              "    <tr>\n",
              "      <th>count</th>\n",
              "      <td>130.000000</td>\n",
              "      <td>130.000000</td>\n",
              "      <td>130.000000</td>\n",
              "      <td>130.000000</td>\n",
              "      <td>130.000000</td>\n",
              "      <td>130.000000</td>\n",
              "      <td>130.000000</td>\n",
              "      <td>130.000000</td>\n",
              "      <td>130.000000</td>\n",
              "      <td>130.000000</td>\n",
              "      <td>130.000000</td>\n",
              "      <td>130.000000</td>\n",
              "      <td>130.000000</td>\n",
              "      <td>130.000000</td>\n",
              "    </tr>\n",
              "    <tr>\n",
              "      <th>mean</th>\n",
              "      <td>1.546154</td>\n",
              "      <td>0.888210</td>\n",
              "      <td>0.362931</td>\n",
              "      <td>0.734032</td>\n",
              "      <td>0.614410</td>\n",
              "      <td>0.621605</td>\n",
              "      <td>0.654223</td>\n",
              "      <td>0.488053</td>\n",
              "      <td>0.506177</td>\n",
              "      <td>0.474280</td>\n",
              "      <td>0.359349</td>\n",
              "      <td>0.595574</td>\n",
              "      <td>0.724885</td>\n",
              "      <td>0.512990</td>\n",
              "    </tr>\n",
              "    <tr>\n",
              "      <th>std</th>\n",
              "      <td>0.671820</td>\n",
              "      <td>0.057997</td>\n",
              "      <td>0.161121</td>\n",
              "      <td>0.090058</td>\n",
              "      <td>0.109234</td>\n",
              "      <td>0.079671</td>\n",
              "      <td>0.147716</td>\n",
              "      <td>0.174025</td>\n",
              "      <td>0.172534</td>\n",
              "      <td>0.163240</td>\n",
              "      <td>0.121698</td>\n",
              "      <td>0.102393</td>\n",
              "      <td>0.152339</td>\n",
              "      <td>0.212491</td>\n",
              "    </tr>\n",
              "    <tr>\n",
              "      <th>min</th>\n",
              "      <td>1.000000</td>\n",
              "      <td>0.743763</td>\n",
              "      <td>0.127586</td>\n",
              "      <td>0.421053</td>\n",
              "      <td>0.353333</td>\n",
              "      <td>0.481481</td>\n",
              "      <td>0.283505</td>\n",
              "      <td>0.092520</td>\n",
              "      <td>0.212121</td>\n",
              "      <td>0.114525</td>\n",
              "      <td>0.098462</td>\n",
              "      <td>0.385965</td>\n",
              "      <td>0.317500</td>\n",
              "      <td>0.185714</td>\n",
              "    </tr>\n",
              "    <tr>\n",
              "      <th>25%</th>\n",
              "      <td>1.000000</td>\n",
              "      <td>0.837492</td>\n",
              "      <td>0.274569</td>\n",
              "      <td>0.678793</td>\n",
              "      <td>0.540833</td>\n",
              "      <td>0.557099</td>\n",
              "      <td>0.567010</td>\n",
              "      <td>0.399606</td>\n",
              "      <td>0.393939</td>\n",
              "      <td>0.377095</td>\n",
              "      <td>0.260385</td>\n",
              "      <td>0.520468</td>\n",
              "      <td>0.678750</td>\n",
              "      <td>0.333631</td>\n",
              "    </tr>\n",
              "    <tr>\n",
              "      <th>50%</th>\n",
              "      <td>1.000000</td>\n",
              "      <td>0.892785</td>\n",
              "      <td>0.304310</td>\n",
              "      <td>0.736842</td>\n",
              "      <td>0.601667</td>\n",
              "      <td>0.617284</td>\n",
              "      <td>0.670103</td>\n",
              "      <td>0.527559</td>\n",
              "      <td>0.454545</td>\n",
              "      <td>0.486034</td>\n",
              "      <td>0.365385</td>\n",
              "      <td>0.608187</td>\n",
              "      <td>0.736250</td>\n",
              "      <td>0.498512</td>\n",
              "    </tr>\n",
              "    <tr>\n",
              "      <th>75%</th>\n",
              "      <td>2.000000</td>\n",
              "      <td>0.934592</td>\n",
              "      <td>0.406897</td>\n",
              "      <td>0.792570</td>\n",
              "      <td>0.682500</td>\n",
              "      <td>0.666667</td>\n",
              "      <td>0.760309</td>\n",
              "      <td>0.602362</td>\n",
              "      <td>0.590909</td>\n",
              "      <td>0.561453</td>\n",
              "      <td>0.436923</td>\n",
              "      <td>0.654971</td>\n",
              "      <td>0.836250</td>\n",
              "      <td>0.681548</td>\n",
              "    </tr>\n",
              "    <tr>\n",
              "      <th>max</th>\n",
              "      <td>3.000000</td>\n",
              "      <td>1.000000</td>\n",
              "      <td>1.000000</td>\n",
              "      <td>1.000000</td>\n",
              "      <td>0.950000</td>\n",
              "      <td>0.932099</td>\n",
              "      <td>1.000000</td>\n",
              "      <td>1.000000</td>\n",
              "      <td>1.000000</td>\n",
              "      <td>1.000000</td>\n",
              "      <td>0.684615</td>\n",
              "      <td>1.000000</td>\n",
              "      <td>1.000000</td>\n",
              "      <td>1.000000</td>\n",
              "    </tr>\n",
              "  </tbody>\n",
              "</table>\n",
              "</div>\n",
              "      <button class=\"colab-df-convert\" onclick=\"convertToInteractive('df-3e6ed4cd-8fe9-4c87-b83d-9767a1d74cc9')\"\n",
              "              title=\"Convert this dataframe to an interactive table.\"\n",
              "              style=\"display:none;\">\n",
              "        \n",
              "  <svg xmlns=\"http://www.w3.org/2000/svg\" height=\"24px\"viewBox=\"0 0 24 24\"\n",
              "       width=\"24px\">\n",
              "    <path d=\"M0 0h24v24H0V0z\" fill=\"none\"/>\n",
              "    <path d=\"M18.56 5.44l.94 2.06.94-2.06 2.06-.94-2.06-.94-.94-2.06-.94 2.06-2.06.94zm-11 1L8.5 8.5l.94-2.06 2.06-.94-2.06-.94L8.5 2.5l-.94 2.06-2.06.94zm10 10l.94 2.06.94-2.06 2.06-.94-2.06-.94-.94-2.06-.94 2.06-2.06.94z\"/><path d=\"M17.41 7.96l-1.37-1.37c-.4-.4-.92-.59-1.43-.59-.52 0-1.04.2-1.43.59L10.3 9.45l-7.72 7.72c-.78.78-.78 2.05 0 2.83L4 21.41c.39.39.9.59 1.41.59.51 0 1.02-.2 1.41-.59l7.78-7.78 2.81-2.81c.8-.78.8-2.07 0-2.86zM5.41 20L4 18.59l7.72-7.72 1.47 1.35L5.41 20z\"/>\n",
              "  </svg>\n",
              "      </button>\n",
              "      \n",
              "  <style>\n",
              "    .colab-df-container {\n",
              "      display:flex;\n",
              "      flex-wrap:wrap;\n",
              "      gap: 12px;\n",
              "    }\n",
              "\n",
              "    .colab-df-convert {\n",
              "      background-color: #E8F0FE;\n",
              "      border: none;\n",
              "      border-radius: 50%;\n",
              "      cursor: pointer;\n",
              "      display: none;\n",
              "      fill: #1967D2;\n",
              "      height: 32px;\n",
              "      padding: 0 0 0 0;\n",
              "      width: 32px;\n",
              "    }\n",
              "\n",
              "    .colab-df-convert:hover {\n",
              "      background-color: #E2EBFA;\n",
              "      box-shadow: 0px 1px 2px rgba(60, 64, 67, 0.3), 0px 1px 3px 1px rgba(60, 64, 67, 0.15);\n",
              "      fill: #174EA6;\n",
              "    }\n",
              "\n",
              "    [theme=dark] .colab-df-convert {\n",
              "      background-color: #3B4455;\n",
              "      fill: #D2E3FC;\n",
              "    }\n",
              "\n",
              "    [theme=dark] .colab-df-convert:hover {\n",
              "      background-color: #434B5C;\n",
              "      box-shadow: 0px 1px 3px 1px rgba(0, 0, 0, 0.15);\n",
              "      filter: drop-shadow(0px 1px 2px rgba(0, 0, 0, 0.3));\n",
              "      fill: #FFFFFF;\n",
              "    }\n",
              "  </style>\n",
              "\n",
              "      <script>\n",
              "        const buttonEl =\n",
              "          document.querySelector('#df-3e6ed4cd-8fe9-4c87-b83d-9767a1d74cc9 button.colab-df-convert');\n",
              "        buttonEl.style.display =\n",
              "          google.colab.kernel.accessAllowed ? 'block' : 'none';\n",
              "\n",
              "        async function convertToInteractive(key) {\n",
              "          const element = document.querySelector('#df-3e6ed4cd-8fe9-4c87-b83d-9767a1d74cc9');\n",
              "          const dataTable =\n",
              "            await google.colab.kernel.invokeFunction('convertToInteractive',\n",
              "                                                     [key], {});\n",
              "          if (!dataTable) return;\n",
              "\n",
              "          const docLinkHtml = 'Like what you see? Visit the ' +\n",
              "            '<a target=\"_blank\" href=https://colab.research.google.com/notebooks/data_table.ipynb>data table notebook</a>'\n",
              "            + ' to learn more about interactive tables.';\n",
              "          element.innerHTML = '';\n",
              "          dataTable['output_type'] = 'display_data';\n",
              "          await google.colab.output.renderOutput(dataTable, element);\n",
              "          const docLink = document.createElement('div');\n",
              "          docLink.innerHTML = docLinkHtml;\n",
              "          element.appendChild(docLink);\n",
              "        }\n",
              "      </script>\n",
              "    </div>\n",
              "  </div>\n",
              "  "
            ],
            "text/plain": [
              "            class     Alcohol  ...  OD280/OD315 of diluted wines     Proline\n",
              "count  130.000000  130.000000  ...                    130.000000  130.000000\n",
              "mean     1.546154    0.888210  ...                      0.724885    0.512990\n",
              "std      0.671820    0.057997  ...                      0.152339    0.212491\n",
              "min      1.000000    0.743763  ...                      0.317500    0.185714\n",
              "25%      1.000000    0.837492  ...                      0.678750    0.333631\n",
              "50%      1.000000    0.892785  ...                      0.736250    0.498512\n",
              "75%      2.000000    0.934592  ...                      0.836250    0.681548\n",
              "max      3.000000    1.000000  ...                      1.000000    1.000000\n",
              "\n",
              "[8 rows x 14 columns]"
            ]
          },
          "metadata": {}
        },
        {
          "output_type": "stream",
          "name": "stdout",
          "text": [
            "\n",
            "The Classes exists in dataset: [2. 1. 3.]\n",
            "\n",
            "No of Data Rows having each class:\n",
            "45 number of data rows for 2.0 class.\n",
            "72 number of data rows for 1.0 class.\n",
            "13 number of data rows for 3.0 class.\n"
          ]
        },
        {
          "output_type": "stream",
          "name": "stderr",
          "text": [
            "/usr/local/lib/python3.7/dist-packages/pandas/core/frame.py:3834: SettingWithCopyWarning: \n",
            "A value is trying to be set on a copy of a slice from a DataFrame\n",
            "\n",
            "See the caveats in the documentation: https://pandas.pydata.org/pandas-docs/stable/user_guide/indexing.html#returning-a-view-versus-a-copy\n",
            "  self.loc[index, col] = value\n"
          ]
        },
        {
          "output_type": "display_data",
          "data": {
            "text/html": [
              "\n",
              "  <div id=\"df-78d6563a-c212-4739-b153-a0db5cc363a0\">\n",
              "    <div class=\"colab-df-container\">\n",
              "      <div>\n",
              "<style scoped>\n",
              "    .dataframe tbody tr th:only-of-type {\n",
              "        vertical-align: middle;\n",
              "    }\n",
              "\n",
              "    .dataframe tbody tr th {\n",
              "        vertical-align: top;\n",
              "    }\n",
              "\n",
              "    .dataframe thead th {\n",
              "        text-align: right;\n",
              "    }\n",
              "</style>\n",
              "<table border=\"1\" class=\"dataframe\">\n",
              "  <thead>\n",
              "    <tr style=\"text-align: right;\">\n",
              "      <th></th>\n",
              "      <th>hair</th>\n",
              "      <th>feathers</th>\n",
              "      <th>eggs</th>\n",
              "      <th>milk</th>\n",
              "      <th>airborne</th>\n",
              "      <th>aquatic</th>\n",
              "      <th>predator</th>\n",
              "      <th>toothed</th>\n",
              "      <th>backbone</th>\n",
              "      <th>breathes</th>\n",
              "      <th>venomous</th>\n",
              "      <th>fins</th>\n",
              "      <th>legs</th>\n",
              "      <th>tail</th>\n",
              "      <th>domestic</th>\n",
              "      <th>catsize</th>\n",
              "      <th>type</th>\n",
              "    </tr>\n",
              "  </thead>\n",
              "  <tbody>\n",
              "    <tr>\n",
              "      <th>count</th>\n",
              "      <td>102.000000</td>\n",
              "      <td>102.000000</td>\n",
              "      <td>102.000000</td>\n",
              "      <td>102.000000</td>\n",
              "      <td>102.000000</td>\n",
              "      <td>102.000000</td>\n",
              "      <td>102.000000</td>\n",
              "      <td>102.000000</td>\n",
              "      <td>102.000000</td>\n",
              "      <td>102.000000</td>\n",
              "      <td>102.000000</td>\n",
              "      <td>102.000000</td>\n",
              "      <td>102.000000</td>\n",
              "      <td>102.000000</td>\n",
              "      <td>102.000000</td>\n",
              "      <td>102.000000</td>\n",
              "      <td>102.000000</td>\n",
              "    </tr>\n",
              "    <tr>\n",
              "      <th>mean</th>\n",
              "      <td>0.441176</td>\n",
              "      <td>0.196078</td>\n",
              "      <td>0.568627</td>\n",
              "      <td>0.421569</td>\n",
              "      <td>0.235294</td>\n",
              "      <td>0.343137</td>\n",
              "      <td>0.549020</td>\n",
              "      <td>0.607843</td>\n",
              "      <td>0.823529</td>\n",
              "      <td>0.784314</td>\n",
              "      <td>0.068627</td>\n",
              "      <td>0.176471</td>\n",
              "      <td>0.351716</td>\n",
              "      <td>0.754902</td>\n",
              "      <td>0.127451</td>\n",
              "      <td>0.450980</td>\n",
              "      <td>0.394958</td>\n",
              "    </tr>\n",
              "    <tr>\n",
              "      <th>std</th>\n",
              "      <td>0.498980</td>\n",
              "      <td>0.398989</td>\n",
              "      <td>0.497714</td>\n",
              "      <td>0.496249</td>\n",
              "      <td>0.426277</td>\n",
              "      <td>0.477101</td>\n",
              "      <td>0.500049</td>\n",
              "      <td>0.490642</td>\n",
              "      <td>0.383103</td>\n",
              "      <td>0.413329</td>\n",
              "      <td>0.254068</td>\n",
              "      <td>0.383103</td>\n",
              "      <td>0.255345</td>\n",
              "      <td>0.432270</td>\n",
              "      <td>0.335124</td>\n",
              "      <td>0.500049</td>\n",
              "      <td>0.298292</td>\n",
              "    </tr>\n",
              "    <tr>\n",
              "      <th>min</th>\n",
              "      <td>0.000000</td>\n",
              "      <td>0.000000</td>\n",
              "      <td>0.000000</td>\n",
              "      <td>0.000000</td>\n",
              "      <td>0.000000</td>\n",
              "      <td>0.000000</td>\n",
              "      <td>0.000000</td>\n",
              "      <td>0.000000</td>\n",
              "      <td>0.000000</td>\n",
              "      <td>0.000000</td>\n",
              "      <td>0.000000</td>\n",
              "      <td>0.000000</td>\n",
              "      <td>0.000000</td>\n",
              "      <td>0.000000</td>\n",
              "      <td>0.000000</td>\n",
              "      <td>0.000000</td>\n",
              "      <td>0.142857</td>\n",
              "    </tr>\n",
              "    <tr>\n",
              "      <th>25%</th>\n",
              "      <td>0.000000</td>\n",
              "      <td>0.000000</td>\n",
              "      <td>0.000000</td>\n",
              "      <td>0.000000</td>\n",
              "      <td>0.000000</td>\n",
              "      <td>0.000000</td>\n",
              "      <td>0.000000</td>\n",
              "      <td>0.000000</td>\n",
              "      <td>1.000000</td>\n",
              "      <td>1.000000</td>\n",
              "      <td>0.000000</td>\n",
              "      <td>0.000000</td>\n",
              "      <td>0.250000</td>\n",
              "      <td>1.000000</td>\n",
              "      <td>0.000000</td>\n",
              "      <td>0.000000</td>\n",
              "      <td>0.142857</td>\n",
              "    </tr>\n",
              "    <tr>\n",
              "      <th>50%</th>\n",
              "      <td>0.000000</td>\n",
              "      <td>0.000000</td>\n",
              "      <td>1.000000</td>\n",
              "      <td>0.000000</td>\n",
              "      <td>0.000000</td>\n",
              "      <td>0.000000</td>\n",
              "      <td>1.000000</td>\n",
              "      <td>1.000000</td>\n",
              "      <td>1.000000</td>\n",
              "      <td>1.000000</td>\n",
              "      <td>0.000000</td>\n",
              "      <td>0.000000</td>\n",
              "      <td>0.375000</td>\n",
              "      <td>1.000000</td>\n",
              "      <td>0.000000</td>\n",
              "      <td>0.000000</td>\n",
              "      <td>0.285714</td>\n",
              "    </tr>\n",
              "    <tr>\n",
              "      <th>75%</th>\n",
              "      <td>1.000000</td>\n",
              "      <td>0.000000</td>\n",
              "      <td>1.000000</td>\n",
              "      <td>1.000000</td>\n",
              "      <td>0.000000</td>\n",
              "      <td>1.000000</td>\n",
              "      <td>1.000000</td>\n",
              "      <td>1.000000</td>\n",
              "      <td>1.000000</td>\n",
              "      <td>1.000000</td>\n",
              "      <td>0.000000</td>\n",
              "      <td>0.000000</td>\n",
              "      <td>0.500000</td>\n",
              "      <td>1.000000</td>\n",
              "      <td>0.000000</td>\n",
              "      <td>1.000000</td>\n",
              "      <td>0.571429</td>\n",
              "    </tr>\n",
              "    <tr>\n",
              "      <th>max</th>\n",
              "      <td>1.000000</td>\n",
              "      <td>1.000000</td>\n",
              "      <td>1.000000</td>\n",
              "      <td>1.000000</td>\n",
              "      <td>1.000000</td>\n",
              "      <td>1.000000</td>\n",
              "      <td>1.000000</td>\n",
              "      <td>1.000000</td>\n",
              "      <td>1.000000</td>\n",
              "      <td>1.000000</td>\n",
              "      <td>1.000000</td>\n",
              "      <td>1.000000</td>\n",
              "      <td>1.000000</td>\n",
              "      <td>1.000000</td>\n",
              "      <td>1.000000</td>\n",
              "      <td>1.000000</td>\n",
              "      <td>1.000000</td>\n",
              "    </tr>\n",
              "  </tbody>\n",
              "</table>\n",
              "</div>\n",
              "      <button class=\"colab-df-convert\" onclick=\"convertToInteractive('df-78d6563a-c212-4739-b153-a0db5cc363a0')\"\n",
              "              title=\"Convert this dataframe to an interactive table.\"\n",
              "              style=\"display:none;\">\n",
              "        \n",
              "  <svg xmlns=\"http://www.w3.org/2000/svg\" height=\"24px\"viewBox=\"0 0 24 24\"\n",
              "       width=\"24px\">\n",
              "    <path d=\"M0 0h24v24H0V0z\" fill=\"none\"/>\n",
              "    <path d=\"M18.56 5.44l.94 2.06.94-2.06 2.06-.94-2.06-.94-.94-2.06-.94 2.06-2.06.94zm-11 1L8.5 8.5l.94-2.06 2.06-.94-2.06-.94L8.5 2.5l-.94 2.06-2.06.94zm10 10l.94 2.06.94-2.06 2.06-.94-2.06-.94-.94-2.06-.94 2.06-2.06.94z\"/><path d=\"M17.41 7.96l-1.37-1.37c-.4-.4-.92-.59-1.43-.59-.52 0-1.04.2-1.43.59L10.3 9.45l-7.72 7.72c-.78.78-.78 2.05 0 2.83L4 21.41c.39.39.9.59 1.41.59.51 0 1.02-.2 1.41-.59l7.78-7.78 2.81-2.81c.8-.78.8-2.07 0-2.86zM5.41 20L4 18.59l7.72-7.72 1.47 1.35L5.41 20z\"/>\n",
              "  </svg>\n",
              "      </button>\n",
              "      \n",
              "  <style>\n",
              "    .colab-df-container {\n",
              "      display:flex;\n",
              "      flex-wrap:wrap;\n",
              "      gap: 12px;\n",
              "    }\n",
              "\n",
              "    .colab-df-convert {\n",
              "      background-color: #E8F0FE;\n",
              "      border: none;\n",
              "      border-radius: 50%;\n",
              "      cursor: pointer;\n",
              "      display: none;\n",
              "      fill: #1967D2;\n",
              "      height: 32px;\n",
              "      padding: 0 0 0 0;\n",
              "      width: 32px;\n",
              "    }\n",
              "\n",
              "    .colab-df-convert:hover {\n",
              "      background-color: #E2EBFA;\n",
              "      box-shadow: 0px 1px 2px rgba(60, 64, 67, 0.3), 0px 1px 3px 1px rgba(60, 64, 67, 0.15);\n",
              "      fill: #174EA6;\n",
              "    }\n",
              "\n",
              "    [theme=dark] .colab-df-convert {\n",
              "      background-color: #3B4455;\n",
              "      fill: #D2E3FC;\n",
              "    }\n",
              "\n",
              "    [theme=dark] .colab-df-convert:hover {\n",
              "      background-color: #434B5C;\n",
              "      box-shadow: 0px 1px 3px 1px rgba(0, 0, 0, 0.15);\n",
              "      filter: drop-shadow(0px 1px 2px rgba(0, 0, 0, 0.3));\n",
              "      fill: #FFFFFF;\n",
              "    }\n",
              "  </style>\n",
              "\n",
              "      <script>\n",
              "        const buttonEl =\n",
              "          document.querySelector('#df-78d6563a-c212-4739-b153-a0db5cc363a0 button.colab-df-convert');\n",
              "        buttonEl.style.display =\n",
              "          google.colab.kernel.accessAllowed ? 'block' : 'none';\n",
              "\n",
              "        async function convertToInteractive(key) {\n",
              "          const element = document.querySelector('#df-78d6563a-c212-4739-b153-a0db5cc363a0');\n",
              "          const dataTable =\n",
              "            await google.colab.kernel.invokeFunction('convertToInteractive',\n",
              "                                                     [key], {});\n",
              "          if (!dataTable) return;\n",
              "\n",
              "          const docLinkHtml = 'Like what you see? Visit the ' +\n",
              "            '<a target=\"_blank\" href=https://colab.research.google.com/notebooks/data_table.ipynb>data table notebook</a>'\n",
              "            + ' to learn more about interactive tables.';\n",
              "          element.innerHTML = '';\n",
              "          dataTable['output_type'] = 'display_data';\n",
              "          await google.colab.output.renderOutput(dataTable, element);\n",
              "          const docLink = document.createElement('div');\n",
              "          docLink.innerHTML = docLinkHtml;\n",
              "          element.appendChild(docLink);\n",
              "        }\n",
              "      </script>\n",
              "    </div>\n",
              "  </div>\n",
              "  "
            ],
            "text/plain": [
              "             hair    feathers        eggs  ...    domestic     catsize        type\n",
              "count  102.000000  102.000000  102.000000  ...  102.000000  102.000000  102.000000\n",
              "mean     0.441176    0.196078    0.568627  ...    0.127451    0.450980    0.394958\n",
              "std      0.498980    0.398989    0.497714  ...    0.335124    0.500049    0.298292\n",
              "min      0.000000    0.000000    0.000000  ...    0.000000    0.000000    0.142857\n",
              "25%      0.000000    0.000000    0.000000  ...    0.000000    0.000000    0.142857\n",
              "50%      0.000000    0.000000    1.000000  ...    0.000000    0.000000    0.285714\n",
              "75%      1.000000    0.000000    1.000000  ...    0.000000    1.000000    0.571429\n",
              "max      1.000000    1.000000    1.000000  ...    1.000000    1.000000    1.000000\n",
              "\n",
              "[8 rows x 17 columns]"
            ]
          },
          "metadata": {}
        },
        {
          "output_type": "stream",
          "name": "stdout",
          "text": [
            "\n",
            "The Classes exists in dataset: ['elephant' 'flamingo' 'aardvark' 'antelope' 'bass' 'bear' 'boar'\n",
            " 'buffalo' 'calf' 'carp' 'catfish' 'cavy' 'cheetah' 'chicken' 'chub'\n",
            " 'clam' 'crab' 'crayfish' 'crow' 'deer' 'dogfish' 'dolphin' 'dove' 'duck'\n",
            " 'flea' 'fruitbat' 'giraffe' 'girl' 'gnat' 'goat' 'gorilla' 'gull'\n",
            " 'haddock' 'hamster' 'hare' 'hawk' 'herring' 'honeybee' 'housefly' 'kiwi'\n",
            " 'ladybird' 'lark' 'leopard' 'lion' 'lobster' 'lynx' 'mink' 'mole'\n",
            " 'mongoose' 'moth' 'newt' 'octopus' 'opossum' 'oryx' 'ostrich' 'parakeet'\n",
            " 'penguin' 'pheasant' 'pike' 'piranha' 'pitviper' 'platypus' 'polecat'\n",
            " 'pony' 'porpoise' 'puma' 'pussycat' 'raccoon' 'reindeer' 'rhea'\n",
            " 'scorpion' 'seahorse' 'seal' 'sealion' 'seasnake' 'seawasp' 'skimmer'\n",
            " 'skua' 'slowworm' 'slug' 'sole' 'sparrow' 'squirrel' 'starfish'\n",
            " 'stingray' 'swan' 'termite' 'toad' 'tortoise' 'tuatara' 'tuna' 'vampire'\n",
            " 'vole' 'vulture' 'wallaby' 'wasp' 'wolf' 'worm' 'wren']\n",
            "\n",
            "No of Data Rows having each class:\n",
            "1 number of data rows for elephant class.\n",
            "1 number of data rows for flamingo class.\n",
            "2 number of data rows for aardvark class.\n",
            "2 number of data rows for antelope class.\n",
            "2 number of data rows for bass class.\n",
            "1 number of data rows for bear class.\n",
            "1 number of data rows for boar class.\n",
            "1 number of data rows for buffalo class.\n",
            "1 number of data rows for calf class.\n",
            "1 number of data rows for carp class.\n",
            "1 number of data rows for catfish class.\n",
            "1 number of data rows for cavy class.\n",
            "1 number of data rows for cheetah class.\n",
            "1 number of data rows for chicken class.\n",
            "1 number of data rows for chub class.\n",
            "1 number of data rows for clam class.\n",
            "1 number of data rows for crab class.\n",
            "1 number of data rows for crayfish class.\n",
            "1 number of data rows for crow class.\n",
            "1 number of data rows for deer class.\n",
            "1 number of data rows for dogfish class.\n",
            "1 number of data rows for dolphin class.\n",
            "1 number of data rows for dove class.\n",
            "1 number of data rows for duck class.\n",
            "1 number of data rows for flea class.\n",
            "1 number of data rows for fruitbat class.\n",
            "1 number of data rows for giraffe class.\n",
            "1 number of data rows for girl class.\n",
            "1 number of data rows for gnat class.\n",
            "1 number of data rows for goat class.\n",
            "1 number of data rows for gorilla class.\n",
            "1 number of data rows for gull class.\n",
            "1 number of data rows for haddock class.\n",
            "1 number of data rows for hamster class.\n",
            "1 number of data rows for hare class.\n",
            "1 number of data rows for hawk class.\n",
            "1 number of data rows for herring class.\n",
            "1 number of data rows for honeybee class.\n",
            "1 number of data rows for housefly class.\n",
            "1 number of data rows for kiwi class.\n",
            "1 number of data rows for ladybird class.\n",
            "1 number of data rows for lark class.\n",
            "1 number of data rows for leopard class.\n",
            "1 number of data rows for lion class.\n",
            "1 number of data rows for lobster class.\n",
            "1 number of data rows for lynx class.\n",
            "1 number of data rows for mink class.\n",
            "1 number of data rows for mole class.\n",
            "1 number of data rows for mongoose class.\n",
            "1 number of data rows for moth class.\n",
            "1 number of data rows for newt class.\n",
            "1 number of data rows for octopus class.\n",
            "1 number of data rows for opossum class.\n",
            "1 number of data rows for oryx class.\n",
            "1 number of data rows for ostrich class.\n",
            "1 number of data rows for parakeet class.\n",
            "1 number of data rows for penguin class.\n",
            "1 number of data rows for pheasant class.\n",
            "1 number of data rows for pike class.\n",
            "1 number of data rows for piranha class.\n",
            "1 number of data rows for pitviper class.\n",
            "1 number of data rows for platypus class.\n",
            "1 number of data rows for polecat class.\n",
            "1 number of data rows for pony class.\n",
            "1 number of data rows for porpoise class.\n",
            "1 number of data rows for puma class.\n",
            "1 number of data rows for pussycat class.\n",
            "1 number of data rows for raccoon class.\n",
            "1 number of data rows for reindeer class.\n",
            "1 number of data rows for rhea class.\n",
            "1 number of data rows for scorpion class.\n",
            "1 number of data rows for seahorse class.\n",
            "1 number of data rows for seal class.\n",
            "1 number of data rows for sealion class.\n",
            "1 number of data rows for seasnake class.\n",
            "1 number of data rows for seawasp class.\n",
            "1 number of data rows for skimmer class.\n",
            "1 number of data rows for skua class.\n",
            "1 number of data rows for slowworm class.\n",
            "1 number of data rows for slug class.\n",
            "1 number of data rows for sole class.\n",
            "1 number of data rows for sparrow class.\n",
            "1 number of data rows for squirrel class.\n",
            "1 number of data rows for starfish class.\n",
            "1 number of data rows for stingray class.\n",
            "1 number of data rows for swan class.\n",
            "1 number of data rows for termite class.\n",
            "1 number of data rows for toad class.\n",
            "1 number of data rows for tortoise class.\n",
            "1 number of data rows for tuatara class.\n",
            "1 number of data rows for tuna class.\n",
            "1 number of data rows for vampire class.\n",
            "1 number of data rows for vole class.\n",
            "1 number of data rows for vulture class.\n",
            "1 number of data rows for wallaby class.\n",
            "1 number of data rows for wasp class.\n",
            "1 number of data rows for wolf class.\n",
            "1 number of data rows for worm class.\n",
            "1 number of data rows for wren class.\n"
          ]
        },
        {
          "output_type": "stream",
          "name": "stderr",
          "text": [
            "/usr/local/lib/python3.7/dist-packages/pandas/core/frame.py:3834: SettingWithCopyWarning: \n",
            "A value is trying to be set on a copy of a slice from a DataFrame\n",
            "\n",
            "See the caveats in the documentation: https://pandas.pydata.org/pandas-docs/stable/user_guide/indexing.html#returning-a-view-versus-a-copy\n",
            "  self.loc[index, col] = value\n"
          ]
        },
        {
          "output_type": "display_data",
          "data": {
            "text/html": [
              "\n",
              "  <div id=\"df-4762c4a2-9b3b-4832-a482-58bad0e1f202\">\n",
              "    <div class=\"colab-df-container\">\n",
              "      <div>\n",
              "<style scoped>\n",
              "    .dataframe tbody tr th:only-of-type {\n",
              "        vertical-align: middle;\n",
              "    }\n",
              "\n",
              "    .dataframe tbody tr th {\n",
              "        vertical-align: top;\n",
              "    }\n",
              "\n",
              "    .dataframe thead th {\n",
              "        text-align: right;\n",
              "    }\n",
              "</style>\n",
              "<table border=\"1\" class=\"dataframe\">\n",
              "  <thead>\n",
              "    <tr style=\"text-align: right;\">\n",
              "      <th></th>\n",
              "      <th>deg-malig</th>\n",
              "    </tr>\n",
              "  </thead>\n",
              "  <tbody>\n",
              "    <tr>\n",
              "      <th>count</th>\n",
              "      <td>270.000000</td>\n",
              "    </tr>\n",
              "    <tr>\n",
              "      <th>mean</th>\n",
              "      <td>2.011111</td>\n",
              "    </tr>\n",
              "    <tr>\n",
              "      <th>std</th>\n",
              "      <td>0.729023</td>\n",
              "    </tr>\n",
              "    <tr>\n",
              "      <th>min</th>\n",
              "      <td>1.000000</td>\n",
              "    </tr>\n",
              "    <tr>\n",
              "      <th>25%</th>\n",
              "      <td>1.000000</td>\n",
              "    </tr>\n",
              "    <tr>\n",
              "      <th>50%</th>\n",
              "      <td>2.000000</td>\n",
              "    </tr>\n",
              "    <tr>\n",
              "      <th>75%</th>\n",
              "      <td>3.000000</td>\n",
              "    </tr>\n",
              "    <tr>\n",
              "      <th>max</th>\n",
              "      <td>3.000000</td>\n",
              "    </tr>\n",
              "  </tbody>\n",
              "</table>\n",
              "</div>\n",
              "      <button class=\"colab-df-convert\" onclick=\"convertToInteractive('df-4762c4a2-9b3b-4832-a482-58bad0e1f202')\"\n",
              "              title=\"Convert this dataframe to an interactive table.\"\n",
              "              style=\"display:none;\">\n",
              "        \n",
              "  <svg xmlns=\"http://www.w3.org/2000/svg\" height=\"24px\"viewBox=\"0 0 24 24\"\n",
              "       width=\"24px\">\n",
              "    <path d=\"M0 0h24v24H0V0z\" fill=\"none\"/>\n",
              "    <path d=\"M18.56 5.44l.94 2.06.94-2.06 2.06-.94-2.06-.94-.94-2.06-.94 2.06-2.06.94zm-11 1L8.5 8.5l.94-2.06 2.06-.94-2.06-.94L8.5 2.5l-.94 2.06-2.06.94zm10 10l.94 2.06.94-2.06 2.06-.94-2.06-.94-.94-2.06-.94 2.06-2.06.94z\"/><path d=\"M17.41 7.96l-1.37-1.37c-.4-.4-.92-.59-1.43-.59-.52 0-1.04.2-1.43.59L10.3 9.45l-7.72 7.72c-.78.78-.78 2.05 0 2.83L4 21.41c.39.39.9.59 1.41.59.51 0 1.02-.2 1.41-.59l7.78-7.78 2.81-2.81c.8-.78.8-2.07 0-2.86zM5.41 20L4 18.59l7.72-7.72 1.47 1.35L5.41 20z\"/>\n",
              "  </svg>\n",
              "      </button>\n",
              "      \n",
              "  <style>\n",
              "    .colab-df-container {\n",
              "      display:flex;\n",
              "      flex-wrap:wrap;\n",
              "      gap: 12px;\n",
              "    }\n",
              "\n",
              "    .colab-df-convert {\n",
              "      background-color: #E8F0FE;\n",
              "      border: none;\n",
              "      border-radius: 50%;\n",
              "      cursor: pointer;\n",
              "      display: none;\n",
              "      fill: #1967D2;\n",
              "      height: 32px;\n",
              "      padding: 0 0 0 0;\n",
              "      width: 32px;\n",
              "    }\n",
              "\n",
              "    .colab-df-convert:hover {\n",
              "      background-color: #E2EBFA;\n",
              "      box-shadow: 0px 1px 2px rgba(60, 64, 67, 0.3), 0px 1px 3px 1px rgba(60, 64, 67, 0.15);\n",
              "      fill: #174EA6;\n",
              "    }\n",
              "\n",
              "    [theme=dark] .colab-df-convert {\n",
              "      background-color: #3B4455;\n",
              "      fill: #D2E3FC;\n",
              "    }\n",
              "\n",
              "    [theme=dark] .colab-df-convert:hover {\n",
              "      background-color: #434B5C;\n",
              "      box-shadow: 0px 1px 3px 1px rgba(0, 0, 0, 0.15);\n",
              "      filter: drop-shadow(0px 1px 2px rgba(0, 0, 0, 0.3));\n",
              "      fill: #FFFFFF;\n",
              "    }\n",
              "  </style>\n",
              "\n",
              "      <script>\n",
              "        const buttonEl =\n",
              "          document.querySelector('#df-4762c4a2-9b3b-4832-a482-58bad0e1f202 button.colab-df-convert');\n",
              "        buttonEl.style.display =\n",
              "          google.colab.kernel.accessAllowed ? 'block' : 'none';\n",
              "\n",
              "        async function convertToInteractive(key) {\n",
              "          const element = document.querySelector('#df-4762c4a2-9b3b-4832-a482-58bad0e1f202');\n",
              "          const dataTable =\n",
              "            await google.colab.kernel.invokeFunction('convertToInteractive',\n",
              "                                                     [key], {});\n",
              "          if (!dataTable) return;\n",
              "\n",
              "          const docLinkHtml = 'Like what you see? Visit the ' +\n",
              "            '<a target=\"_blank\" href=https://colab.research.google.com/notebooks/data_table.ipynb>data table notebook</a>'\n",
              "            + ' to learn more about interactive tables.';\n",
              "          element.innerHTML = '';\n",
              "          dataTable['output_type'] = 'display_data';\n",
              "          await google.colab.output.renderOutput(dataTable, element);\n",
              "          const docLink = document.createElement('div');\n",
              "          docLink.innerHTML = docLinkHtml;\n",
              "          element.appendChild(docLink);\n",
              "        }\n",
              "      </script>\n",
              "    </div>\n",
              "  </div>\n",
              "  "
            ],
            "text/plain": [
              "        deg-malig\n",
              "count  270.000000\n",
              "mean     2.011111\n",
              "std      0.729023\n",
              "min      1.000000\n",
              "25%      1.000000\n",
              "50%      2.000000\n",
              "75%      3.000000\n",
              "max      3.000000"
            ]
          },
          "metadata": {}
        },
        {
          "output_type": "stream",
          "name": "stdout",
          "text": [
            "\n",
            "The Classes exists in dataset: ['no-recurrence-events' 'recurrence-events']\n",
            "\n",
            "No of Data Rows having each class:\n",
            "201 number of data rows for no-recurrence-events class.\n",
            "69 number of data rows for recurrence-events class.\n"
          ]
        }
      ],
      "source": [
        "mid_imb_wine_dataset = getImbalanceSubset(wine_dataset, label_column=\"class\", imbalance_percentage=75)\n",
        "mid_imb_zoo_dataset = getImbalanceSubset(zoo_dataset, label_column=\"class\", imbalance_percentage=75)\n",
        "mid_imb_breast_cancer_dataset = getImbalanceSubset(breast_cancer_dataset, label_column=\"class\", imbalance_percentage=75)"
      ]
    },
    {
      "cell_type": "code",
      "execution_count": null,
      "metadata": {
        "colab": {
          "base_uri": "https://localhost:8080/",
          "height": 342
        },
        "id": "lKr_wMnx4x2Q",
        "outputId": "26b3fd85-c553-40c8-acb1-151ad74c4783"
      },
      "outputs": [
        {
          "output_type": "display_data",
          "data": {
            "image/png": "[encoded data removed]",
            "text/plain": [
              "<Figure size 1080x360 with 1 Axes>"
            ]
          },
          "metadata": {
            "needs_background": "light"
          }
        }
      ],
      "source": [
        "ploting_charts_of_classes(mid_imb_wine_dataset, label_column=\"class\")"
      ]
    },
    {
      "cell_type": "code",
      "execution_count": null,
      "metadata": {
        "colab": {
          "base_uri": "https://localhost:8080/",
          "height": 1000
        },
        "id": "d2JbeCEG4x2S",
        "outputId": "e09ad2fc-23de-4dce-8149-08c8ceb07977"
      },
      "outputs": [
        {
          "output_type": "stream",
          "name": "stderr",
          "text": [
            "/usr/local/lib/python3.7/dist-packages/pandas/core/frame.py:3834: SettingWithCopyWarning: \n",
            "A value is trying to be set on a copy of a slice from a DataFrame\n",
            "\n",
            "See the caveats in the documentation: https://pandas.pydata.org/pandas-docs/stable/user_guide/indexing.html#returning-a-view-versus-a-copy\n",
            "  self.loc[index, col] = value\n"
          ]
        },
        {
          "output_type": "display_data",
          "data": {
            "text/html": [
              "\n",
              "  <div id=\"df-25c2bd0c-f9ea-4e9c-b16f-ae9f63857e3f\">\n",
              "    <div class=\"colab-df-container\">\n",
              "      <div>\n",
              "<style scoped>\n",
              "    .dataframe tbody tr th:only-of-type {\n",
              "        vertical-align: middle;\n",
              "    }\n",
              "\n",
              "    .dataframe tbody tr th {\n",
              "        vertical-align: top;\n",
              "    }\n",
              "\n",
              "    .dataframe thead th {\n",
              "        text-align: right;\n",
              "    }\n",
              "</style>\n",
              "<table border=\"1\" class=\"dataframe\">\n",
              "  <thead>\n",
              "    <tr style=\"text-align: right;\">\n",
              "      <th></th>\n",
              "      <th>class</th>\n",
              "      <th>Alcohol</th>\n",
              "      <th>Malic acid</th>\n",
              "      <th>Ash</th>\n",
              "      <th>Alcalinity of ash</th>\n",
              "      <th>Magnesium</th>\n",
              "      <th>Total phenols</th>\n",
              "      <th>Flavanoids</th>\n",
              "      <th>Nonflavanoid phenols</th>\n",
              "      <th>Proanthocyanins</th>\n",
              "      <th>Color intensity</th>\n",
              "      <th>Hue</th>\n",
              "      <th>OD280/OD315 of diluted wines</th>\n",
              "      <th>Proline</th>\n",
              "    </tr>\n",
              "  </thead>\n",
              "  <tbody>\n",
              "    <tr>\n",
              "      <th>count</th>\n",
              "      <td>130.000000</td>\n",
              "      <td>130.000000</td>\n",
              "      <td>130.000000</td>\n",
              "      <td>130.000000</td>\n",
              "      <td>130.000000</td>\n",
              "      <td>130.000000</td>\n",
              "      <td>130.000000</td>\n",
              "      <td>130.000000</td>\n",
              "      <td>130.000000</td>\n",
              "      <td>130.000000</td>\n",
              "      <td>130.000000</td>\n",
              "      <td>130.000000</td>\n",
              "      <td>130.000000</td>\n",
              "      <td>130.000000</td>\n",
              "    </tr>\n",
              "    <tr>\n",
              "      <th>mean</th>\n",
              "      <td>1.546154</td>\n",
              "      <td>0.876586</td>\n",
              "      <td>0.344828</td>\n",
              "      <td>0.731246</td>\n",
              "      <td>0.621974</td>\n",
              "      <td>0.618708</td>\n",
              "      <td>0.648929</td>\n",
              "      <td>0.489552</td>\n",
              "      <td>0.500350</td>\n",
              "      <td>0.487258</td>\n",
              "      <td>0.334361</td>\n",
              "      <td>0.606910</td>\n",
              "      <td>0.729923</td>\n",
              "      <td>0.482276</td>\n",
              "    </tr>\n",
              "    <tr>\n",
              "      <th>std</th>\n",
              "      <td>0.572111</td>\n",
              "      <td>0.059410</td>\n",
              "      <td>0.148987</td>\n",
              "      <td>0.089800</td>\n",
              "      <td>0.109684</td>\n",
              "      <td>0.092190</td>\n",
              "      <td>0.146320</td>\n",
              "      <td>0.154083</td>\n",
              "      <td>0.168070</td>\n",
              "      <td>0.155518</td>\n",
              "      <td>0.126784</td>\n",
              "      <td>0.101901</td>\n",
              "      <td>0.140893</td>\n",
              "      <td>0.210017</td>\n",
              "    </tr>\n",
              "    <tr>\n",
              "      <th>min</th>\n",
              "      <td>1.000000</td>\n",
              "      <td>0.743763</td>\n",
              "      <td>0.127586</td>\n",
              "      <td>0.421053</td>\n",
              "      <td>0.353333</td>\n",
              "      <td>0.432099</td>\n",
              "      <td>0.283505</td>\n",
              "      <td>0.112205</td>\n",
              "      <td>0.212121</td>\n",
              "      <td>0.114525</td>\n",
              "      <td>0.098462</td>\n",
              "      <td>0.385965</td>\n",
              "      <td>0.322500</td>\n",
              "      <td>0.172619</td>\n",
              "    </tr>\n",
              "    <tr>\n",
              "      <th>25%</th>\n",
              "      <td>1.000000</td>\n",
              "      <td>0.828726</td>\n",
              "      <td>0.260776</td>\n",
              "      <td>0.681115</td>\n",
              "      <td>0.554167</td>\n",
              "      <td>0.543210</td>\n",
              "      <td>0.553479</td>\n",
              "      <td>0.384843</td>\n",
              "      <td>0.393939</td>\n",
              "      <td>0.391061</td>\n",
              "      <td>0.223846</td>\n",
              "      <td>0.538012</td>\n",
              "      <td>0.680625</td>\n",
              "      <td>0.295685</td>\n",
              "    </tr>\n",
              "    <tr>\n",
              "      <th>50%</th>\n",
              "      <td>2.000000</td>\n",
              "      <td>0.879973</td>\n",
              "      <td>0.298276</td>\n",
              "      <td>0.730650</td>\n",
              "      <td>0.616667</td>\n",
              "      <td>0.608025</td>\n",
              "      <td>0.670103</td>\n",
              "      <td>0.520669</td>\n",
              "      <td>0.454545</td>\n",
              "      <td>0.476257</td>\n",
              "      <td>0.332308</td>\n",
              "      <td>0.608187</td>\n",
              "      <td>0.740000</td>\n",
              "      <td>0.437500</td>\n",
              "    </tr>\n",
              "    <tr>\n",
              "      <th>75%</th>\n",
              "      <td>2.000000</td>\n",
              "      <td>0.927006</td>\n",
              "      <td>0.366810</td>\n",
              "      <td>0.787926</td>\n",
              "      <td>0.692500</td>\n",
              "      <td>0.666667</td>\n",
              "      <td>0.746134</td>\n",
              "      <td>0.596457</td>\n",
              "      <td>0.590909</td>\n",
              "      <td>0.565642</td>\n",
              "      <td>0.430769</td>\n",
              "      <td>0.660819</td>\n",
              "      <td>0.831250</td>\n",
              "      <td>0.640625</td>\n",
              "    </tr>\n",
              "    <tr>\n",
              "      <th>max</th>\n",
              "      <td>3.000000</td>\n",
              "      <td>1.000000</td>\n",
              "      <td>1.000000</td>\n",
              "      <td>1.000000</td>\n",
              "      <td>0.950000</td>\n",
              "      <td>1.000000</td>\n",
              "      <td>1.000000</td>\n",
              "      <td>1.000000</td>\n",
              "      <td>1.000000</td>\n",
              "      <td>1.000000</td>\n",
              "      <td>0.684615</td>\n",
              "      <td>1.000000</td>\n",
              "      <td>1.000000</td>\n",
              "      <td>1.000000</td>\n",
              "    </tr>\n",
              "  </tbody>\n",
              "</table>\n",
              "</div>\n",
              "      <button class=\"colab-df-convert\" onclick=\"convertToInteractive('df-25c2bd0c-f9ea-4e9c-b16f-ae9f63857e3f')\"\n",
              "              title=\"Convert this dataframe to an interactive table.\"\n",
              "              style=\"display:none;\">\n",
              "        \n",
              "  <svg xmlns=\"http://www.w3.org/2000/svg\" height=\"24px\"viewBox=\"0 0 24 24\"\n",
              "       width=\"24px\">\n",
              "    <path d=\"M0 0h24v24H0V0z\" fill=\"none\"/>\n",
              "    <path d=\"M18.56 5.44l.94 2.06.94-2.06 2.06-.94-2.06-.94-.94-2.06-.94 2.06-2.06.94zm-11 1L8.5 8.5l.94-2.06 2.06-.94-2.06-.94L8.5 2.5l-.94 2.06-2.06.94zm10 10l.94 2.06.94-2.06 2.06-.94-2.06-.94-.94-2.06-.94 2.06-2.06.94z\"/><path d=\"M17.41 7.96l-1.37-1.37c-.4-.4-.92-.59-1.43-.59-.52 0-1.04.2-1.43.59L10.3 9.45l-7.72 7.72c-.78.78-.78 2.05 0 2.83L4 21.41c.39.39.9.59 1.41.59.51 0 1.02-.2 1.41-.59l7.78-7.78 2.81-2.81c.8-.78.8-2.07 0-2.86zM5.41 20L4 18.59l7.72-7.72 1.47 1.35L5.41 20z\"/>\n",
              "  </svg>\n",
              "      </button>\n",
              "      \n",
              "  <style>\n",
              "    .colab-df-container {\n",
              "      display:flex;\n",
              "      flex-wrap:wrap;\n",
              "      gap: 12px;\n",
              "    }\n",
              "\n",
              "    .colab-df-convert {\n",
              "      background-color: #E8F0FE;\n",
              "      border: none;\n",
              "      border-radius: 50%;\n",
              "      cursor: pointer;\n",
              "      display: none;\n",
              "      fill: #1967D2;\n",
              "      height: 32px;\n",
              "      padding: 0 0 0 0;\n",
              "      width: 32px;\n",
              "    }\n",
              "\n",
              "    .colab-df-convert:hover {\n",
              "      background-color: #E2EBFA;\n",
              "      box-shadow: 0px 1px 2px rgba(60, 64, 67, 0.3), 0px 1px 3px 1px rgba(60, 64, 67, 0.15);\n",
              "      fill: #174EA6;\n",
              "    }\n",
              "\n",
              "    [theme=dark] .colab-df-convert {\n",
              "      background-color: #3B4455;\n",
              "      fill: #D2E3FC;\n",
              "    }\n",
              "\n",
              "    [theme=dark] .colab-df-convert:hover {\n",
              "      background-color: #434B5C;\n",
              "      box-shadow: 0px 1px 3px 1px rgba(0, 0, 0, 0.15);\n",
              "      filter: drop-shadow(0px 1px 2px rgba(0, 0, 0, 0.3));\n",
              "      fill: #FFFFFF;\n",
              "    }\n",
              "  </style>\n",
              "\n",
              "      <script>\n",
              "        const buttonEl =\n",
              "          document.querySelector('#df-25c2bd0c-f9ea-4e9c-b16f-ae9f63857e3f button.colab-df-convert');\n",
              "        buttonEl.style.display =\n",
              "          google.colab.kernel.accessAllowed ? 'block' : 'none';\n",
              "\n",
              "        async function convertToInteractive(key) {\n",
              "          const element = document.querySelector('#df-25c2bd0c-f9ea-4e9c-b16f-ae9f63857e3f');\n",
              "          const dataTable =\n",
              "            await google.colab.kernel.invokeFunction('convertToInteractive',\n",
              "                                                     [key], {});\n",
              "          if (!dataTable) return;\n",
              "\n",
              "          const docLinkHtml = 'Like what you see? Visit the ' +\n",
              "            '<a target=\"_blank\" href=https://colab.research.google.com/notebooks/data_table.ipynb>data table notebook</a>'\n",
              "            + ' to learn more about interactive tables.';\n",
              "          element.innerHTML = '';\n",
              "          dataTable['output_type'] = 'display_data';\n",
              "          await google.colab.output.renderOutput(dataTable, element);\n",
              "          const docLink = document.createElement('div');\n",
              "          docLink.innerHTML = docLinkHtml;\n",
              "          element.appendChild(docLink);\n",
              "        }\n",
              "      </script>\n",
              "    </div>\n",
              "  </div>\n",
              "  "
            ],
            "text/plain": [
              "            class     Alcohol  ...  OD280/OD315 of diluted wines     Proline\n",
              "count  130.000000  130.000000  ...                    130.000000  130.000000\n",
              "mean     1.546154    0.876586  ...                      0.729923    0.482276\n",
              "std      0.572111    0.059410  ...                      0.140893    0.210017\n",
              "min      1.000000    0.743763  ...                      0.322500    0.172619\n",
              "25%      1.000000    0.828726  ...                      0.680625    0.295685\n",
              "50%      2.000000    0.879973  ...                      0.740000    0.437500\n",
              "75%      2.000000    0.927006  ...                      0.831250    0.640625\n",
              "max      3.000000    1.000000  ...                      1.000000    1.000000\n",
              "\n",
              "[8 rows x 14 columns]"
            ]
          },
          "metadata": {}
        },
        {
          "output_type": "stream",
          "name": "stderr",
          "text": [
            "/usr/local/lib/python3.7/dist-packages/pandas/core/frame.py:3834: SettingWithCopyWarning: \n",
            "A value is trying to be set on a copy of a slice from a DataFrame\n",
            "\n",
            "See the caveats in the documentation: https://pandas.pydata.org/pandas-docs/stable/user_guide/indexing.html#returning-a-view-versus-a-copy\n",
            "  self.loc[index, col] = value\n"
          ]
        },
        {
          "output_type": "stream",
          "name": "stdout",
          "text": [
            "\n",
            "The Classes exists in dataset: [2. 1. 3.]\n",
            "\n",
            "No of Data Rows having each class:\n",
            "61 number of data rows for 2.0 class.\n",
            "64 number of data rows for 1.0 class.\n",
            "5 number of data rows for 3.0 class.\n"
          ]
        },
        {
          "output_type": "display_data",
          "data": {
            "text/html": [
              "\n",
              "  <div id=\"df-eeb72465-e549-441f-b05a-3cc512d61553\">\n",
              "    <div class=\"colab-df-container\">\n",
              "      <div>\n",
              "<style scoped>\n",
              "    .dataframe tbody tr th:only-of-type {\n",
              "        vertical-align: middle;\n",
              "    }\n",
              "\n",
              "    .dataframe tbody tr th {\n",
              "        vertical-align: top;\n",
              "    }\n",
              "\n",
              "    .dataframe thead th {\n",
              "        text-align: right;\n",
              "    }\n",
              "</style>\n",
              "<table border=\"1\" class=\"dataframe\">\n",
              "  <thead>\n",
              "    <tr style=\"text-align: right;\">\n",
              "      <th></th>\n",
              "      <th>hair</th>\n",
              "      <th>feathers</th>\n",
              "      <th>eggs</th>\n",
              "      <th>milk</th>\n",
              "      <th>airborne</th>\n",
              "      <th>aquatic</th>\n",
              "      <th>predator</th>\n",
              "      <th>toothed</th>\n",
              "      <th>backbone</th>\n",
              "      <th>breathes</th>\n",
              "      <th>venomous</th>\n",
              "      <th>fins</th>\n",
              "      <th>legs</th>\n",
              "      <th>tail</th>\n",
              "      <th>domestic</th>\n",
              "      <th>catsize</th>\n",
              "      <th>type</th>\n",
              "    </tr>\n",
              "  </thead>\n",
              "  <tbody>\n",
              "    <tr>\n",
              "      <th>count</th>\n",
              "      <td>102.000000</td>\n",
              "      <td>102.000000</td>\n",
              "      <td>102.000000</td>\n",
              "      <td>102.000000</td>\n",
              "      <td>102.000000</td>\n",
              "      <td>102.000000</td>\n",
              "      <td>102.000000</td>\n",
              "      <td>102.000000</td>\n",
              "      <td>102.000000</td>\n",
              "      <td>102.000000</td>\n",
              "      <td>102.000000</td>\n",
              "      <td>102.000000</td>\n",
              "      <td>102.000000</td>\n",
              "      <td>102.000000</td>\n",
              "      <td>102.000000</td>\n",
              "      <td>102.000000</td>\n",
              "      <td>102.000000</td>\n",
              "    </tr>\n",
              "    <tr>\n",
              "      <th>mean</th>\n",
              "      <td>0.441176</td>\n",
              "      <td>0.196078</td>\n",
              "      <td>0.568627</td>\n",
              "      <td>0.421569</td>\n",
              "      <td>0.235294</td>\n",
              "      <td>0.343137</td>\n",
              "      <td>0.549020</td>\n",
              "      <td>0.607843</td>\n",
              "      <td>0.823529</td>\n",
              "      <td>0.784314</td>\n",
              "      <td>0.068627</td>\n",
              "      <td>0.176471</td>\n",
              "      <td>0.351716</td>\n",
              "      <td>0.754902</td>\n",
              "      <td>0.127451</td>\n",
              "      <td>0.450980</td>\n",
              "      <td>0.394958</td>\n",
              "    </tr>\n",
              "    <tr>\n",
              "      <th>std</th>\n",
              "      <td>0.498980</td>\n",
              "      <td>0.398989</td>\n",
              "      <td>0.497714</td>\n",
              "      <td>0.496249</td>\n",
              "      <td>0.426277</td>\n",
              "      <td>0.477101</td>\n",
              "      <td>0.500049</td>\n",
              "      <td>0.490642</td>\n",
              "      <td>0.383103</td>\n",
              "      <td>0.413329</td>\n",
              "      <td>0.254068</td>\n",
              "      <td>0.383103</td>\n",
              "      <td>0.255345</td>\n",
              "      <td>0.432270</td>\n",
              "      <td>0.335124</td>\n",
              "      <td>0.500049</td>\n",
              "      <td>0.298292</td>\n",
              "    </tr>\n",
              "    <tr>\n",
              "      <th>min</th>\n",
              "      <td>0.000000</td>\n",
              "      <td>0.000000</td>\n",
              "      <td>0.000000</td>\n",
              "      <td>0.000000</td>\n",
              "      <td>0.000000</td>\n",
              "      <td>0.000000</td>\n",
              "      <td>0.000000</td>\n",
              "      <td>0.000000</td>\n",
              "      <td>0.000000</td>\n",
              "      <td>0.000000</td>\n",
              "      <td>0.000000</td>\n",
              "      <td>0.000000</td>\n",
              "      <td>0.000000</td>\n",
              "      <td>0.000000</td>\n",
              "      <td>0.000000</td>\n",
              "      <td>0.000000</td>\n",
              "      <td>0.142857</td>\n",
              "    </tr>\n",
              "    <tr>\n",
              "      <th>25%</th>\n",
              "      <td>0.000000</td>\n",
              "      <td>0.000000</td>\n",
              "      <td>0.000000</td>\n",
              "      <td>0.000000</td>\n",
              "      <td>0.000000</td>\n",
              "      <td>0.000000</td>\n",
              "      <td>0.000000</td>\n",
              "      <td>0.000000</td>\n",
              "      <td>1.000000</td>\n",
              "      <td>1.000000</td>\n",
              "      <td>0.000000</td>\n",
              "      <td>0.000000</td>\n",
              "      <td>0.250000</td>\n",
              "      <td>1.000000</td>\n",
              "      <td>0.000000</td>\n",
              "      <td>0.000000</td>\n",
              "      <td>0.142857</td>\n",
              "    </tr>\n",
              "    <tr>\n",
              "      <th>50%</th>\n",
              "      <td>0.000000</td>\n",
              "      <td>0.000000</td>\n",
              "      <td>1.000000</td>\n",
              "      <td>0.000000</td>\n",
              "      <td>0.000000</td>\n",
              "      <td>0.000000</td>\n",
              "      <td>1.000000</td>\n",
              "      <td>1.000000</td>\n",
              "      <td>1.000000</td>\n",
              "      <td>1.000000</td>\n",
              "      <td>0.000000</td>\n",
              "      <td>0.000000</td>\n",
              "      <td>0.375000</td>\n",
              "      <td>1.000000</td>\n",
              "      <td>0.000000</td>\n",
              "      <td>0.000000</td>\n",
              "      <td>0.285714</td>\n",
              "    </tr>\n",
              "    <tr>\n",
              "      <th>75%</th>\n",
              "      <td>1.000000</td>\n",
              "      <td>0.000000</td>\n",
              "      <td>1.000000</td>\n",
              "      <td>1.000000</td>\n",
              "      <td>0.000000</td>\n",
              "      <td>1.000000</td>\n",
              "      <td>1.000000</td>\n",
              "      <td>1.000000</td>\n",
              "      <td>1.000000</td>\n",
              "      <td>1.000000</td>\n",
              "      <td>0.000000</td>\n",
              "      <td>0.000000</td>\n",
              "      <td>0.500000</td>\n",
              "      <td>1.000000</td>\n",
              "      <td>0.000000</td>\n",
              "      <td>1.000000</td>\n",
              "      <td>0.571429</td>\n",
              "    </tr>\n",
              "    <tr>\n",
              "      <th>max</th>\n",
              "      <td>1.000000</td>\n",
              "      <td>1.000000</td>\n",
              "      <td>1.000000</td>\n",
              "      <td>1.000000</td>\n",
              "      <td>1.000000</td>\n",
              "      <td>1.000000</td>\n",
              "      <td>1.000000</td>\n",
              "      <td>1.000000</td>\n",
              "      <td>1.000000</td>\n",
              "      <td>1.000000</td>\n",
              "      <td>1.000000</td>\n",
              "      <td>1.000000</td>\n",
              "      <td>1.000000</td>\n",
              "      <td>1.000000</td>\n",
              "      <td>1.000000</td>\n",
              "      <td>1.000000</td>\n",
              "      <td>1.000000</td>\n",
              "    </tr>\n",
              "  </tbody>\n",
              "</table>\n",
              "</div>\n",
              "      <button class=\"colab-df-convert\" onclick=\"convertToInteractive('df-eeb72465-e549-441f-b05a-3cc512d61553')\"\n",
              "              title=\"Convert this dataframe to an interactive table.\"\n",
              "              style=\"display:none;\">\n",
              "        \n",
              "  <svg xmlns=\"http://www.w3.org/2000/svg\" height=\"24px\"viewBox=\"0 0 24 24\"\n",
              "       width=\"24px\">\n",
              "    <path d=\"M0 0h24v24H0V0z\" fill=\"none\"/>\n",
              "    <path d=\"M18.56 5.44l.94 2.06.94-2.06 2.06-.94-2.06-.94-.94-2.06-.94 2.06-2.06.94zm-11 1L8.5 8.5l.94-2.06 2.06-.94-2.06-.94L8.5 2.5l-.94 2.06-2.06.94zm10 10l.94 2.06.94-2.06 2.06-.94-2.06-.94-.94-2.06-.94 2.06-2.06.94z\"/><path d=\"M17.41 7.96l-1.37-1.37c-.4-.4-.92-.59-1.43-.59-.52 0-1.04.2-1.43.59L10.3 9.45l-7.72 7.72c-.78.78-.78 2.05 0 2.83L4 21.41c.39.39.9.59 1.41.59.51 0 1.02-.2 1.41-.59l7.78-7.78 2.81-2.81c.8-.78.8-2.07 0-2.86zM5.41 20L4 18.59l7.72-7.72 1.47 1.35L5.41 20z\"/>\n",
              "  </svg>\n",
              "      </button>\n",
              "      \n",
              "  <style>\n",
              "    .colab-df-container {\n",
              "      display:flex;\n",
              "      flex-wrap:wrap;\n",
              "      gap: 12px;\n",
              "    }\n",
              "\n",
              "    .colab-df-convert {\n",
              "      background-color: #E8F0FE;\n",
              "      border: none;\n",
              "      border-radius: 50%;\n",
              "      cursor: pointer;\n",
              "      display: none;\n",
              "      fill: #1967D2;\n",
              "      height: 32px;\n",
              "      padding: 0 0 0 0;\n",
              "      width: 32px;\n",
              "    }\n",
              "\n",
              "    .colab-df-convert:hover {\n",
              "      background-color: #E2EBFA;\n",
              "      box-shadow: 0px 1px 2px rgba(60, 64, 67, 0.3), 0px 1px 3px 1px rgba(60, 64, 67, 0.15);\n",
              "      fill: #174EA6;\n",
              "    }\n",
              "\n",
              "    [theme=dark] .colab-df-convert {\n",
              "      background-color: #3B4455;\n",
              "      fill: #D2E3FC;\n",
              "    }\n",
              "\n",
              "    [theme=dark] .colab-df-convert:hover {\n",
              "      background-color: #434B5C;\n",
              "      box-shadow: 0px 1px 3px 1px rgba(0, 0, 0, 0.15);\n",
              "      filter: drop-shadow(0px 1px 2px rgba(0, 0, 0, 0.3));\n",
              "      fill: #FFFFFF;\n",
              "    }\n",
              "  </style>\n",
              "\n",
              "      <script>\n",
              "        const buttonEl =\n",
              "          document.querySelector('#df-eeb72465-e549-441f-b05a-3cc512d61553 button.colab-df-convert');\n",
              "        buttonEl.style.display =\n",
              "          google.colab.kernel.accessAllowed ? 'block' : 'none';\n",
              "\n",
              "        async function convertToInteractive(key) {\n",
              "          const element = document.querySelector('#df-eeb72465-e549-441f-b05a-3cc512d61553');\n",
              "          const dataTable =\n",
              "            await google.colab.kernel.invokeFunction('convertToInteractive',\n",
              "                                                     [key], {});\n",
              "          if (!dataTable) return;\n",
              "\n",
              "          const docLinkHtml = 'Like what you see? Visit the ' +\n",
              "            '<a target=\"_blank\" href=https://colab.research.google.com/notebooks/data_table.ipynb>data table notebook</a>'\n",
              "            + ' to learn more about interactive tables.';\n",
              "          element.innerHTML = '';\n",
              "          dataTable['output_type'] = 'display_data';\n",
              "          await google.colab.output.renderOutput(dataTable, element);\n",
              "          const docLink = document.createElement('div');\n",
              "          docLink.innerHTML = docLinkHtml;\n",
              "          element.appendChild(docLink);\n",
              "        }\n",
              "      </script>\n",
              "    </div>\n",
              "  </div>\n",
              "  "
            ],
            "text/plain": [
              "             hair    feathers        eggs  ...    domestic     catsize        type\n",
              "count  102.000000  102.000000  102.000000  ...  102.000000  102.000000  102.000000\n",
              "mean     0.441176    0.196078    0.568627  ...    0.127451    0.450980    0.394958\n",
              "std      0.498980    0.398989    0.497714  ...    0.335124    0.500049    0.298292\n",
              "min      0.000000    0.000000    0.000000  ...    0.000000    0.000000    0.142857\n",
              "25%      0.000000    0.000000    0.000000  ...    0.000000    0.000000    0.142857\n",
              "50%      0.000000    0.000000    1.000000  ...    0.000000    0.000000    0.285714\n",
              "75%      1.000000    0.000000    1.000000  ...    0.000000    1.000000    0.571429\n",
              "max      1.000000    1.000000    1.000000  ...    1.000000    1.000000    1.000000\n",
              "\n",
              "[8 rows x 17 columns]"
            ]
          },
          "metadata": {}
        },
        {
          "output_type": "stream",
          "name": "stdout",
          "text": [
            "\n",
            "The Classes exists in dataset: ['elephant' 'flamingo' 'aardvark' 'antelope' 'bass' 'bear' 'boar'\n",
            " 'buffalo' 'calf' 'carp' 'catfish' 'cavy' 'cheetah' 'chicken' 'chub'\n",
            " 'clam' 'crab' 'crayfish' 'crow' 'deer' 'dogfish' 'dolphin' 'dove' 'duck'\n",
            " 'flea' 'fruitbat' 'giraffe' 'girl' 'gnat' 'goat' 'gorilla' 'gull'\n",
            " 'haddock' 'hamster' 'hare' 'hawk' 'herring' 'honeybee' 'housefly' 'kiwi'\n",
            " 'ladybird' 'lark' 'leopard' 'lion' 'lobster' 'lynx' 'mink' 'mole'\n",
            " 'mongoose' 'moth' 'newt' 'octopus' 'opossum' 'oryx' 'ostrich' 'parakeet'\n",
            " 'penguin' 'pheasant' 'pike' 'piranha' 'pitviper' 'platypus' 'polecat'\n",
            " 'pony' 'porpoise' 'puma' 'pussycat' 'raccoon' 'reindeer' 'rhea'\n",
            " 'scorpion' 'seahorse' 'seal' 'sealion' 'seasnake' 'seawasp' 'skimmer'\n",
            " 'skua' 'slowworm' 'slug' 'sole' 'sparrow' 'squirrel' 'starfish'\n",
            " 'stingray' 'swan' 'termite' 'toad' 'tortoise' 'tuatara' 'tuna' 'vampire'\n",
            " 'vole' 'vulture' 'wallaby' 'wasp' 'wolf' 'worm' 'wren']\n",
            "\n",
            "No of Data Rows having each class:\n",
            "1 number of data rows for elephant class.\n",
            "1 number of data rows for flamingo class.\n",
            "2 number of data rows for aardvark class.\n",
            "2 number of data rows for antelope class.\n",
            "2 number of data rows for bass class.\n",
            "1 number of data rows for bear class.\n",
            "1 number of data rows for boar class.\n",
            "1 number of data rows for buffalo class.\n",
            "1 number of data rows for calf class.\n",
            "1 number of data rows for carp class.\n",
            "1 number of data rows for catfish class.\n",
            "1 number of data rows for cavy class.\n",
            "1 number of data rows for cheetah class.\n",
            "1 number of data rows for chicken class.\n",
            "1 number of data rows for chub class.\n",
            "1 number of data rows for clam class.\n",
            "1 number of data rows for crab class.\n",
            "1 number of data rows for crayfish class.\n",
            "1 number of data rows for crow class.\n",
            "1 number of data rows for deer class.\n",
            "1 number of data rows for dogfish class.\n",
            "1 number of data rows for dolphin class.\n",
            "1 number of data rows for dove class.\n",
            "1 number of data rows for duck class.\n",
            "1 number of data rows for flea class.\n",
            "1 number of data rows for fruitbat class.\n",
            "1 number of data rows for giraffe class.\n",
            "1 number of data rows for girl class.\n",
            "1 number of data rows for gnat class.\n",
            "1 number of data rows for goat class.\n",
            "1 number of data rows for gorilla class.\n",
            "1 number of data rows for gull class.\n",
            "1 number of data rows for haddock class.\n",
            "1 number of data rows for hamster class.\n",
            "1 number of data rows for hare class.\n",
            "1 number of data rows for hawk class.\n",
            "1 number of data rows for herring class.\n",
            "1 number of data rows for honeybee class.\n",
            "1 number of data rows for housefly class.\n",
            "1 number of data rows for kiwi class.\n",
            "1 number of data rows for ladybird class.\n",
            "1 number of data rows for lark class.\n",
            "1 number of data rows for leopard class.\n",
            "1 number of data rows for lion class.\n",
            "1 number of data rows for lobster class.\n",
            "1 number of data rows for lynx class.\n",
            "1 number of data rows for mink class.\n",
            "1 number of data rows for mole class.\n",
            "1 number of data rows for mongoose class.\n",
            "1 number of data rows for moth class.\n",
            "1 number of data rows for newt class.\n",
            "1 number of data rows for octopus class.\n",
            "1 number of data rows for opossum class.\n",
            "1 number of data rows for oryx class.\n",
            "1 number of data rows for ostrich class.\n",
            "1 number of data rows for parakeet class.\n",
            "1 number of data rows for penguin class.\n",
            "1 number of data rows for pheasant class.\n",
            "1 number of data rows for pike class.\n",
            "1 number of data rows for piranha class.\n",
            "1 number of data rows for pitviper class.\n",
            "1 number of data rows for platypus class.\n",
            "1 number of data rows for polecat class.\n",
            "1 number of data rows for pony class.\n",
            "1 number of data rows for porpoise class.\n",
            "1 number of data rows for puma class.\n",
            "1 number of data rows for pussycat class.\n",
            "1 number of data rows for raccoon class.\n",
            "1 number of data rows for reindeer class.\n",
            "1 number of data rows for rhea class.\n",
            "1 number of data rows for scorpion class.\n",
            "1 number of data rows for seahorse class.\n",
            "1 number of data rows for seal class.\n",
            "1 number of data rows for sealion class.\n",
            "1 number of data rows for seasnake class.\n",
            "1 number of data rows for seawasp class.\n",
            "1 number of data rows for skimmer class.\n",
            "1 number of data rows for skua class.\n",
            "1 number of data rows for slowworm class.\n",
            "1 number of data rows for slug class.\n",
            "1 number of data rows for sole class.\n",
            "1 number of data rows for sparrow class.\n",
            "1 number of data rows for squirrel class.\n",
            "1 number of data rows for starfish class.\n",
            "1 number of data rows for stingray class.\n",
            "1 number of data rows for swan class.\n",
            "1 number of data rows for termite class.\n",
            "1 number of data rows for toad class.\n",
            "1 number of data rows for tortoise class.\n",
            "1 number of data rows for tuatara class.\n",
            "1 number of data rows for tuna class.\n",
            "1 number of data rows for vampire class.\n",
            "1 number of data rows for vole class.\n",
            "1 number of data rows for vulture class.\n",
            "1 number of data rows for wallaby class.\n",
            "1 number of data rows for wasp class.\n",
            "1 number of data rows for wolf class.\n",
            "1 number of data rows for worm class.\n",
            "1 number of data rows for wren class.\n"
          ]
        },
        {
          "output_type": "stream",
          "name": "stderr",
          "text": [
            "/usr/local/lib/python3.7/dist-packages/pandas/core/frame.py:3834: SettingWithCopyWarning: \n",
            "A value is trying to be set on a copy of a slice from a DataFrame\n",
            "\n",
            "See the caveats in the documentation: https://pandas.pydata.org/pandas-docs/stable/user_guide/indexing.html#returning-a-view-versus-a-copy\n",
            "  self.loc[index, col] = value\n"
          ]
        },
        {
          "output_type": "display_data",
          "data": {
            "text/html": [
              "\n",
              "  <div id=\"df-ccfc0f67-514f-4347-bb07-503d0378232a\">\n",
              "    <div class=\"colab-df-container\">\n",
              "      <div>\n",
              "<style scoped>\n",
              "    .dataframe tbody tr th:only-of-type {\n",
              "        vertical-align: middle;\n",
              "    }\n",
              "\n",
              "    .dataframe tbody tr th {\n",
              "        vertical-align: top;\n",
              "    }\n",
              "\n",
              "    .dataframe thead th {\n",
              "        text-align: right;\n",
              "    }\n",
              "</style>\n",
              "<table border=\"1\" class=\"dataframe\">\n",
              "  <thead>\n",
              "    <tr style=\"text-align: right;\">\n",
              "      <th></th>\n",
              "      <th>deg-malig</th>\n",
              "    </tr>\n",
              "  </thead>\n",
              "  <tbody>\n",
              "    <tr>\n",
              "      <th>count</th>\n",
              "      <td>225.000000</td>\n",
              "    </tr>\n",
              "    <tr>\n",
              "      <th>mean</th>\n",
              "      <td>1.924444</td>\n",
              "    </tr>\n",
              "    <tr>\n",
              "      <th>std</th>\n",
              "      <td>0.699858</td>\n",
              "    </tr>\n",
              "    <tr>\n",
              "      <th>min</th>\n",
              "      <td>1.000000</td>\n",
              "    </tr>\n",
              "    <tr>\n",
              "      <th>25%</th>\n",
              "      <td>1.000000</td>\n",
              "    </tr>\n",
              "    <tr>\n",
              "      <th>50%</th>\n",
              "      <td>2.000000</td>\n",
              "    </tr>\n",
              "    <tr>\n",
              "      <th>75%</th>\n",
              "      <td>2.000000</td>\n",
              "    </tr>\n",
              "    <tr>\n",
              "      <th>max</th>\n",
              "      <td>3.000000</td>\n",
              "    </tr>\n",
              "  </tbody>\n",
              "</table>\n",
              "</div>\n",
              "      <button class=\"colab-df-convert\" onclick=\"convertToInteractive('df-ccfc0f67-514f-4347-bb07-503d0378232a')\"\n",
              "              title=\"Convert this dataframe to an interactive table.\"\n",
              "              style=\"display:none;\">\n",
              "        \n",
              "  <svg xmlns=\"http://www.w3.org/2000/svg\" height=\"24px\"viewBox=\"0 0 24 24\"\n",
              "       width=\"24px\">\n",
              "    <path d=\"M0 0h24v24H0V0z\" fill=\"none\"/>\n",
              "    <path d=\"M18.56 5.44l.94 2.06.94-2.06 2.06-.94-2.06-.94-.94-2.06-.94 2.06-2.06.94zm-11 1L8.5 8.5l.94-2.06 2.06-.94-2.06-.94L8.5 2.5l-.94 2.06-2.06.94zm10 10l.94 2.06.94-2.06 2.06-.94-2.06-.94-.94-2.06-.94 2.06-2.06.94z\"/><path d=\"M17.41 7.96l-1.37-1.37c-.4-.4-.92-.59-1.43-.59-.52 0-1.04.2-1.43.59L10.3 9.45l-7.72 7.72c-.78.78-.78 2.05 0 2.83L4 21.41c.39.39.9.59 1.41.59.51 0 1.02-.2 1.41-.59l7.78-7.78 2.81-2.81c.8-.78.8-2.07 0-2.86zM5.41 20L4 18.59l7.72-7.72 1.47 1.35L5.41 20z\"/>\n",
              "  </svg>\n",
              "      </button>\n",
              "      \n",
              "  <style>\n",
              "    .colab-df-container {\n",
              "      display:flex;\n",
              "      flex-wrap:wrap;\n",
              "      gap: 12px;\n",
              "    }\n",
              "\n",
              "    .colab-df-convert {\n",
              "      background-color: #E8F0FE;\n",
              "      border: none;\n",
              "      border-radius: 50%;\n",
              "      cursor: pointer;\n",
              "      display: none;\n",
              "      fill: #1967D2;\n",
              "      height: 32px;\n",
              "      padding: 0 0 0 0;\n",
              "      width: 32px;\n",
              "    }\n",
              "\n",
              "    .colab-df-convert:hover {\n",
              "      background-color: #E2EBFA;\n",
              "      box-shadow: 0px 1px 2px rgba(60, 64, 67, 0.3), 0px 1px 3px 1px rgba(60, 64, 67, 0.15);\n",
              "      fill: #174EA6;\n",
              "    }\n",
              "\n",
              "    [theme=dark] .colab-df-convert {\n",
              "      background-color: #3B4455;\n",
              "      fill: #D2E3FC;\n",
              "    }\n",
              "\n",
              "    [theme=dark] .colab-df-convert:hover {\n",
              "      background-color: #434B5C;\n",
              "      box-shadow: 0px 1px 3px 1px rgba(0, 0, 0, 0.15);\n",
              "      filter: drop-shadow(0px 1px 2px rgba(0, 0, 0, 0.3));\n",
              "      fill: #FFFFFF;\n",
              "    }\n",
              "  </style>\n",
              "\n",
              "      <script>\n",
              "        const buttonEl =\n",
              "          document.querySelector('#df-ccfc0f67-514f-4347-bb07-503d0378232a button.colab-df-convert');\n",
              "        buttonEl.style.display =\n",
              "          google.colab.kernel.accessAllowed ? 'block' : 'none';\n",
              "\n",
              "        async function convertToInteractive(key) {\n",
              "          const element = document.querySelector('#df-ccfc0f67-514f-4347-bb07-503d0378232a');\n",
              "          const dataTable =\n",
              "            await google.colab.kernel.invokeFunction('convertToInteractive',\n",
              "                                                     [key], {});\n",
              "          if (!dataTable) return;\n",
              "\n",
              "          const docLinkHtml = 'Like what you see? Visit the ' +\n",
              "            '<a target=\"_blank\" href=https://colab.research.google.com/notebooks/data_table.ipynb>data table notebook</a>'\n",
              "            + ' to learn more about interactive tables.';\n",
              "          element.innerHTML = '';\n",
              "          dataTable['output_type'] = 'display_data';\n",
              "          await google.colab.output.renderOutput(dataTable, element);\n",
              "          const docLink = document.createElement('div');\n",
              "          docLink.innerHTML = docLinkHtml;\n",
              "          element.appendChild(docLink);\n",
              "        }\n",
              "      </script>\n",
              "    </div>\n",
              "  </div>\n",
              "  "
            ],
            "text/plain": [
              "        deg-malig\n",
              "count  225.000000\n",
              "mean     1.924444\n",
              "std      0.699858\n",
              "min      1.000000\n",
              "25%      1.000000\n",
              "50%      2.000000\n",
              "75%      2.000000\n",
              "max      3.000000"
            ]
          },
          "metadata": {}
        },
        {
          "output_type": "stream",
          "name": "stdout",
          "text": [
            "\n",
            "The Classes exists in dataset: ['no-recurrence-events' 'recurrence-events']\n",
            "\n",
            "No of Data Rows having each class:\n",
            "201 number of data rows for no-recurrence-events class.\n",
            "24 number of data rows for recurrence-events class.\n"
          ]
        }
      ],
      "source": [
        "high_imb_wine_dataset = getImbalanceSubset(wine_dataset, label_column=\"class\", imbalance_percentage=90)\n",
        "high_imb_zoo_dataset = getImbalanceSubset(zoo_dataset, label_column=\"class\", imbalance_percentage=90)\n",
        "high_imb_breast_cancer_dataset = getImbalanceSubset(breast_cancer_dataset, label_column=\"class\", imbalance_percentage=90)"
      ]
    },
    {
      "cell_type": "code",
      "execution_count": null,
      "metadata": {
        "colab": {
          "base_uri": "https://localhost:8080/",
          "height": 945
        },
        "id": "K_q9DwzM4x2X",
        "outputId": "4dcb9c68-3a68-40a8-d4c2-ab48dfa3260f"
      },
      "outputs": [
        {
          "output_type": "display_data",
          "data": {
            "image/png": "[encoded data removed]",
            "text/plain": [
              "<Figure size 1080x360 with 1 Axes>"
            ]
          },
          "metadata": {
            "needs_background": "light"
          }
        },
        {
          "output_type": "display_data",
          "data": {
            "image/png": "[encoded data removed]",
            "text/plain": [
              "<Figure size 1080x360 with 1 Axes>"
            ]
          },
          "metadata": {
            "needs_background": "light"
          }
        },
        {
          "output_type": "display_data",
          "data": {
            "image/png": "[encoded data removed]",
            "text/plain": [
              "<Figure size 1080x360 with 1 Axes>"
            ]
          },
          "metadata": {
            "needs_background": "light"
          }
        }
      ],
      "source": [
        "ploting_charts_of_classes(high_imb_wine_dataset, label_column=\"class\")\n",
        "ploting_charts_of_classes(high_imb_zoo_dataset, label_column=\"class\")\n",
        "ploting_charts_of_classes(high_imb_breast_cancer_dataset, label_column=\"class\")"
      ]
    },
    {
      "cell_type": "code",
      "execution_count": null,
      "metadata": {
        "id": "WSxYbSf-4x2Z"
      },
      "outputs": [],
      "source": [
        "def get_features_labels(dataset, label_column):\n",
        "    return dataset.drop(label_column, axis=1), dataset[label_column]\n",
        "\n",
        "\n",
        "def train_and_test_model_with_KFolds(classifier, cross_validator, features, labels):\n",
        "    actual_classes = np.empty([0], dtype=int)\n",
        "    predicted_classes = np.empty([0], dtype=int)\n",
        "    \n",
        "    for train_index, test_index in cross_validator.split(features, labels):\n",
        "        classifier.fit(features.iloc[train_index], labels.iloc[train_index])\n",
        "\n",
        "        actual_classes = np.append(actual_classes, labels.iloc[test_index])\n",
        "        predicted_classes = np.append(predicted_classes, classifier.predict(features.iloc[test_index]))\n",
        "    \n",
        "    return actual_classes, predicted_classes\n",
        "\n",
        "def compute_and_plot_confusion_matrix(actual_classes, predicted_classes, labels):\n",
        "    matrix = confusion_matrix(actual_classes, predicted_classes, labels=labels)\n",
        "    \n",
        "    cm_display = ConfusionMatrixDisplay(confusion_matrix=matrix, display_labels=labels)\n",
        "    fig, ax = plt.subplots(figsize=(8,8))\n",
        "    cm_display.plot(cmap=plt.cm.Blues, ax=ax)"
      ]
    },
    {
      "cell_type": "code",
      "execution_count": null,
      "metadata": {
        "id": "B58nLVVi4x2a"
      },
      "outputs": [],
      "source": [
        "# Step 2 cross validation or random forest ka\n",
        "cross_validator = StratifiedKFold(n_splits=10, random_state=42, shuffle=True)\n",
        "randomForestClassifier = RandomForestClassifier(n_estimators=10, criterion='gini', max_depth=6)\n",
        "wine_features, wine_labels = get_features_labels(wine_dataset, label_column=\"class\")\n",
        "#zoo\n",
        "zoo_features, zoo_labels = get_features_labels(zoo_dataset, label_column=\"class\")\n",
        "#breast_cancer\n",
        "features, labels = get_features_labels(breast_cancer_dataset, label_column=\"class\")"
      ]
    },
    {
      "cell_type": "code",
      "execution_count": null,
      "metadata": {
        "colab": {
          "base_uri": "https://localhost:8080/",
          "height": 472
        },
        "id": "69TddU3I4x2b",
        "outputId": "10e80c4f-c498-4335-c3f5-27d5a96db8e4"
      },
      "outputs": [
        {
          "output_type": "display_data",
          "data": {
            "image/png": "[encoded data removed]",
            "text/plain": [
              "<Figure size 576x576 with 2 Axes>"
            ]
          },
          "metadata": {
            "needs_background": "light"
          }
        }
      ],
      "source": [
        "wine_test_labels, pred_labels = train_and_test_model_with_KFolds(randomForestClassifier, cross_validator, wine_features, wine_labels)\n",
        "# zoo_test_labels, pred_labels = train_and_test_model_with_KFolds(randomForestClassifier, cross_validator, zoo_features, zoo_labels)\n",
        "# breast_cancer_test_labels, pred_labels = train_and_test_model_with_KFolds(randomForestClassifier, cross_validator, breast_cancer_features, breast_cancer_labels)\n",
        "\n",
        "\n",
        "compute_and_plot_confusion_matrix(wine_test_labels, pred_labels, labels=wine_dataset[\"class\"].unique())\n",
        "#zoo\n",
        "# compute_and_plot_confusion_matrix(wine_test_labels, pred_labels, labels=zoo_dataset[\"class\"].unique())\n",
        "#breast cancer\n",
        "# compute_and_plot_confusion_matrix(wine_test_labels, pred_labels, labels=breast_cancer_dataset[\"class\"].unique())\n",
        "\n"
      ]
    },
    {
      "cell_type": "code",
      "execution_count": null,
      "metadata": {
        "id": "RTVSle6E4x2c"
      },
      "outputs": [],
      "source": [
        "def ploting_KData(metricsInfo, technique=\"\"):\n",
        "\n",
        "    k_values = [k for k, _ in metricsInfo.items()]\n",
        "    k_scores = [score for _, score in metricsInfo.items()]\n",
        "\n",
        "    fig, ax = plt.subplots(figsize=(15, 5))\n",
        "    ax.plot(k_values, k_scores, color=\"orangered\", marker='o')\n",
        "\n",
        "    plt.xlabel(\"No of Clusters\")\n",
        "    plt.ylabel(\"Score\")\n",
        "    ax.set_title(f\"{technique} for finding best value of K\")\n",
        "    ax.set_xticks(k_values)\n",
        "\n",
        "    ax.spines['top'].set_visible(False)\n",
        "    ax.spines['right'].set_visible(False)\n",
        "    ax.grid(color=\"grey\", linestyle='-', linewidth=0.25, alpha=0.85)"
      ]
    },
    {
      "cell_type": "code",
      "execution_count": null,
      "metadata": {
        "id": "3i484cHx4x2d"
      },
      "outputs": [],
      "source": [
        "def applyTechniquesOnKFoldsOfData(features, labels):\n",
        "    cross_validator = StratifiedKFold(n_splits=10, random_state=42, shuffle=True)\n",
        "    \n",
        "    unseen_fold_train_indexes = np.empty([0], dtype=int)\n",
        "    unseen_fold_test_indexes = np.empty([0], dtype=int)\n",
        "    train_fold_indexes = np.empty([0], dtype=int)\n",
        "    test_fold_indexes = np.empty([0], dtype=int)\n",
        "    \n",
        "    kFold = 0\n",
        "    for train_index, test_index in cross_validator.split(features, labels):\n",
        "        if kFold == 0:\n",
        "            unseen_fold_train_indexes = np.append(unseen_fold_train_indexes, train_index)\n",
        "            unseen_fold_test_indexes = np.append(unseen_fold_test_indexes, test_index)\n",
        "        else:\n",
        "            train_fold_indexes = np.append(train_fold_indexes, train_index)\n",
        "            test_fold_indexes = np.append(test_fold_indexes, test_index)\n",
        "        \n",
        "        kFold += 1\n",
        "        \n",
        "    \n",
        "    return train_fold_indexes, test_fold_indexes, unseen_fold_train_indexes, unseen_fold_test_indexes\n",
        "\n",
        "#             fold_features = features.iloc[train_index]\n",
        "#             number_of_clusters = identifyNumberOfClusters(fold_features)\n",
        "#             kmean_model = kMeanClusteringImplementation(number_of_clusters[0], fold_features)\n",
        "            \n",
        "#             for cluster in kmean_model.n_clusters:\n",
        "# #                 if min_classes > 1:\n",
        "# #                 trainRandomForestClassifier()\n",
        "            \n",
        "# #             last_fold_train_data = np.append(last_fold_train_data, train_index)\n",
        "# #             last_fold_test_data = np.append(last_fold_test_data, test_index)\n",
        "#             break\n",
        "\n",
        "    \n",
        "        \n",
        "def MergeDataOfFolds():\n",
        "    pass\n",
        "\n",
        "def identifyNumberOfClusters(features):\n",
        "    elbow_method_k = sorted(elbowMethodResult(features).items(), key=lambda x: x[1],reverse=False)\n",
        "    \n",
        "    return elbow_method_k[4]\n",
        "\n",
        "def elbowMethodResult(features):\n",
        "    k_metrices = {}\n",
        "    for k in range(2, 11):\n",
        "        kmean_classifier = KMeans(n_clusters=k).fit(features)\n",
        "        k_metrices[k] = kmean_classifier.inertia_\n",
        "    \n",
        "    ploting_KData(k_metrices, technique=\"Elbow Method\")\n",
        "        \n",
        "\n",
        "def avgSilhouteMethodResult(features):\n",
        "    k_metrices = {}\n",
        "    for k in range(2, 11):\n",
        "        kmean_classifier = KMeans(n_clusters=k)\n",
        "        kmean_cluster = kmean_classifier.fit_predict(features)\n",
        "        avg_score = silhouette_score(features, kmean_cluster)\n",
        "        \n",
        "        k_metrices[k] = avg_score\n",
        "    \n",
        "    ploting_KData(k_metrices, technique=\"Silhoute Method\")\n",
        "\n",
        "def getClusterDetails():\n",
        "    pass\n",
        "\n",
        "def trainRandomForestClassifier():\n",
        "    pass\n",
        "\n",
        "def kMeanClusteringImplementation(k_clusters, features):\n",
        "    kmean_classifier = KMeans(n_clusters=k_clusters).fit(features)\n",
        "    \n",
        "    return kmean_classifier\n",
        "\n",
        "# Create 10 folds for each of the dataset\n",
        "# data of 9 folds: merge them\n",
        "## Using the Elbow method and Silhoute Method Find the number of cluster in the dataset\n",
        "## Run K-means according to the selected number of clusters\n",
        "#### For each cluster identify: centroid, number of samples of minority class\n",
        "#### Train rando forest for each cluster which contains more then 1 class\n"
      ]
    },
    {
      "cell_type": "code",
      "execution_count": null,
      "metadata": {
        "id": "CVLOMkGF4x2e"
      },
      "outputs": [],
      "source": [
        "# Ab yeh sara step 3 or 4 hai isky nechy\n",
        "train_fold_indexes, test_fold_indexes,\\\n",
        "unseen_fold_train_indexes, unseen_fold_test_indexes = applyTechniquesOnKFoldsOfData(features, labels)"
      ]
    },
    {
      "cell_type": "code",
      "execution_count": null,
      "metadata": {
        "id": "dLESZuqg4x2g"
      },
      "outputs": [],
      "source": [
        "train_features = features.iloc[train_fold_indexes]\n",
        "train_labels = labels.iloc[train_fold_indexes]"
      ]
    },
    {
      "cell_type": "code",
      "execution_count": null,
      "metadata": {
        "colab": {
          "base_uri": "https://localhost:8080/",
          "height": 656
        },
        "id": "wduU4KDJ4x2h",
        "outputId": "4990cf79-1589-4084-c222-06dd20a7df7e"
      },
      "outputs": [
        {
          "output_type": "display_data",
          "data": {
            "image/png": "[encoded data removed]",
            "text/plain": [
              "<Figure size 1080x360 with 1 Axes>"
            ]
          },
          "metadata": {
            "needs_background": "light"
          }
        },
        {
          "output_type": "display_data",
          "data": {
            "image/png": "[encoded data removed]",
            "text/plain": [
              "<Figure size 1080x360 with 1 Axes>"
            ]
          },
          "metadata": {
            "needs_background": "light"
          }
        }
      ],
      "source": [
        "elbowMethodResult(train_features)\n",
        "avgSilhouteMethodResult(train_features)"
      ]
    },
    {
      "cell_type": "code",
      "execution_count": null,
      "metadata": {
        "id": "63yR_FMe4x2i"
      },
      "outputs": [],
      "source": [
        "kmean_classifier_wine = KMeans(n_clusters=6)\n",
        "cluster_labels_wine = kmean_classifier_wine.fit(train_features)"
      ]
    },
    {
      "cell_type": "code",
      "execution_count": null,
      "metadata": {
        "colab": {
          "base_uri": "https://localhost:8080/"
        },
        "id": "q8RAK2EI4x2j",
        "outputId": "2c3ad916-c20d-4d15-f5f5-919869d6a455"
      },
      "outputs": [
        {
          "output_type": "execute_result",
          "data": {
            "text/plain": [
              "array([[0.91950814, 0.30840838, 0.76057134, 0.58293701, 0.66344264,\n",
              "        0.74341716, 0.5982831 , 0.43807502, 0.54132418, 0.42192063,\n",
              "        0.62997728, 0.78826964, 0.66282479],\n",
              "       [0.89549874, 0.52700866, 0.76028306, 0.72569787, 0.63528553,\n",
              "        0.43970596, 0.18405997, 0.60314972, 0.37441176, 0.68902235,\n",
              "        0.37043759, 0.39971675, 0.37444288],\n",
              "       [0.81767523, 0.28229368, 0.73889449, 0.69932584, 0.55989041,\n",
              "        0.49116761, 0.31451827, 0.75706503, 0.36177892, 0.23678911,\n",
              "        0.64159275, 0.60641854, 0.31824171],\n",
              "       [0.87950174, 0.66235632, 0.74394953, 0.70376344, 0.57692818,\n",
              "        0.42100377, 0.12847134, 0.77484523, 0.26823151, 0.43401158,\n",
              "        0.43023329, 0.45790323, 0.36463454],\n",
              "       [0.83664932, 0.25240078, 0.65184882, 0.63144654, 0.58583741,\n",
              "        0.57882708, 0.4112539 , 0.43499142, 0.44888795, 0.24679245,\n",
              "        0.62317114, 0.70392453, 0.29769991],\n",
              "       [0.85255437, 0.63688911, 0.72864557, 0.66235012, 0.60484945,\n",
              "        0.67739005, 0.49218263, 0.49095269, 0.55136449, 0.24800221,\n",
              "        0.54373343, 0.78886691, 0.35352861]])"
            ]
          },
          "metadata": {},
          "execution_count": 30
        }
      ],
      "source": [
        "cluster_labels_wine.cluster_centers_"
      ]
    },
    {
      "cell_type": "code",
      "execution_count": null,
      "metadata": {
        "colab": {
          "base_uri": "https://localhost:8080/"
        },
        "id": "GHN3RdN84x2l",
        "outputId": "9c56c7fd-e5a4-4e4c-93a1-041530898d65"
      },
      "outputs": [
        {
          "output_type": "execute_result",
          "data": {
            "text/plain": [
              "array([0, 0, 0, ..., 1, 1, 1], dtype=int32)"
            ]
          },
          "metadata": {},
          "execution_count": 31
        }
      ],
      "source": [
        "cluster_labels_wine.labels_"
      ]
    },
    {
      "cell_type": "code",
      "execution_count": null,
      "metadata": {
        "colab": {
          "base_uri": "https://localhost:8080/"
        },
        "id": "KMpLplgH4x2n",
        "outputId": "968005aa-4651-4e92-bf41-7cbd7c205082"
      },
      "outputs": [
        {
          "output_type": "execute_result",
          "data": {
            "text/plain": [
              "array([0, 0, 0, ..., 2, 2, 2], dtype=int32)"
            ]
          },
          "metadata": {},
          "execution_count": 34
        }
      ],
      "source": [
        "kmean_classifier_wine.fit_predict(train_features)"
      ]
    },
    {
      "cell_type": "code",
      "execution_count": null,
      "metadata": {
        "id": "KKRE2X2k4x2o"
      },
      "outputs": [],
      "source": [
        "clusters_closets = pairwise_distances(cluster_labels_wine.cluster_centers_, train_features)"
      ]
    },
    {
      "cell_type": "code",
      "execution_count": null,
      "metadata": {
        "id": "y9IUKB_p4x2q"
      },
      "outputs": [],
      "source": [
        "cluster_details = []\n",
        "for cluster in range(cluster_labels_wine.n_clusters):\n",
        "    cluster_detailed_info = {}\n",
        "    data_indexes_in_cluster = []\n",
        "    index = 0\n",
        "    cluster_detailed_info[\"K\"] = cluster + 1\n",
        "    cluster_detailed_info[\"centroid\"] = cluster_labels_wine.cluster_centers_[cluster]\n",
        "    \n",
        "    for point in clusters_closets[cluster]:\n",
        "        if point <= 0.24:\n",
        "            data_indexes_in_cluster.append(index)\n",
        "        index += 1\n",
        "#     print(data_indexes_in_cluster)\n",
        "\n",
        "    #Unique Classes in cluster\n",
        "    labels_data = train_labels.iloc[data_indexes_in_cluster]\n",
        "    unique_classes = np.unique(labels_data)\n",
        "    cluster_detailed_info[\"total_classes\"] = unique_classes\n",
        "    if len(unique_classes) > 1:\n",
        "        labels_info = {}\n",
        "        for label in unique_classes:\n",
        "            labels_info[label] = len(labels_data[labels_data == label])\n",
        "        labels_info = sorted(labels_info.items(), key=lambda x:x[1])\n",
        "        cluster_detailed_info[\"minority_class\"] = labels_info[0][0]\n",
        "        cluster_detailed_info[\"minority_class_count\"] = labels_info[0][1]\n",
        "        \n",
        "        features_data = train_features.iloc[data_indexes_in_cluster]\n",
        "        \n",
        "        classifier = tRandomForestCLassifier(features_data, labels_data)\n",
        "        cluster_detailed_info[\"classifier\"] = classifier\n",
        "        \n",
        "    else:\n",
        "        cluster_detailed_info[\"minority_class\"] = unique_classes[0]\n",
        "        cluster_detailed_info[\"minority_class_count\"] = len(labels_data)\n",
        "        cluster_detailed_info[\"classifier\"] = None\n",
        "    \n",
        "    cluster_details.append(cluster_detailed_info)"
      ]
    },
    {
      "cell_type": "code",
      "execution_count": null,
      "metadata": {
        "colab": {
          "base_uri": "https://localhost:8080/"
        },
        "id": "MujT8WJ74x2r",
        "outputId": "42b4b108-3ec9-4450-9efc-3f9928b9b553"
      },
      "outputs": [
        {
          "output_type": "execute_result",
          "data": {
            "text/plain": [
              "[{'K': 1,\n",
              "  'centroid': array([0.92507008, 0.30885264, 0.75237057, 0.56893871, 0.6608952 ,\n",
              "         0.74076557, 0.5946206 , 0.43195407, 0.54323972, 0.42688858,\n",
              "         0.6320772 , 0.78545404, 0.6760717 ]),\n",
              "  'classifier': None,\n",
              "  'minority_class': 1,\n",
              "  'minority_class_count': 104,\n",
              "  'total_classes': array([1])},\n",
              " {'K': 2,\n",
              "  'centroid': array([0.81767523, 0.28229368, 0.73889449, 0.69932584, 0.55989041,\n",
              "         0.49116761, 0.31451827, 0.75706503, 0.36177892, 0.23678911,\n",
              "         0.64159275, 0.60641854, 0.31824171]),\n",
              "  'classifier': None,\n",
              "  'minority_class': 2,\n",
              "  'minority_class_count': 41,\n",
              "  'total_classes': array([2])},\n",
              " {'K': 3,\n",
              "  'centroid': array([0.89549874, 0.52700866, 0.76028306, 0.72569787, 0.63528553,\n",
              "         0.43970596, 0.18405997, 0.60314972, 0.37441176, 0.68902235,\n",
              "         0.37043759, 0.39971675, 0.37444288]),\n",
              "  'classifier': None,\n",
              "  'minority_class': 3,\n",
              "  'minority_class_count': 57,\n",
              "  'total_classes': array([3])},\n",
              " {'K': 4,\n",
              "  'centroid': array([0.83546864, 0.26184226, 0.65753586, 0.6343714 , 0.58622752,\n",
              "         0.59061642, 0.41252077, 0.42906574, 0.44988498, 0.24367314,\n",
              "         0.61901293, 0.7133564 , 0.29957159]),\n",
              "  'classifier': None,\n",
              "  'minority_class': 2,\n",
              "  'minority_class_count': 40,\n",
              "  'total_classes': array([2])},\n",
              " {'K': 5,\n",
              "  'centroid': array([0.85438505, 0.61607889, 0.76341589, 0.6895202 , 0.63388515,\n",
              "         0.69921509, 0.54554402, 0.515955  , 0.57000169, 0.27411422,\n",
              "         0.55258728, 0.80193182, 0.37390422]),\n",
              "  'classifier': None,\n",
              "  'minority_class': 1,\n",
              "  'minority_class_count': 8,\n",
              "  'total_classes': array([1])},\n",
              " {'K': 6,\n",
              "  'centroid': array([0.87671271, 0.665615  , 0.74365644, 0.70498282, 0.57350134,\n",
              "         0.42596185, 0.13737925, 0.76913465, 0.27272073, 0.42436162,\n",
              "         0.43154277, 0.46551546, 0.36383468]),\n",
              "  'classifier': None,\n",
              "  'minority_class': 3,\n",
              "  'minority_class_count': 40,\n",
              "  'total_classes': array([3])}]"
            ]
          },
          "metadata": {},
          "execution_count": 37
        }
      ],
      "source": [
        "cluster_details"
      ]
    },
    {
      "cell_type": "code",
      "execution_count": null,
      "metadata": {
        "id": "u9XnZbPm4x2s",
        "colab": {
          "base_uri": "https://localhost:8080/",
          "height": 133
        },
        "outputId": "8164b931-d6cd-4c6c-f35b-27ddf8be4191"
      },
      "outputs": [
        {
          "output_type": "error",
          "ename": "SyntaxError",
          "evalue": "ignored",
          "traceback": [
            "\u001b[0;36m  File \u001b[0;32m\"<ipython-input-39-b91e77774597>\"\u001b[0;36m, line \u001b[0;32m3\u001b[0m\n\u001b[0;31m    \u001b[0m\n\u001b[0m    ^\u001b[0m\n\u001b[0;31mSyntaxError\u001b[0m\u001b[0;31m:\u001b[0m unexpected EOF while parsing\n"
          ]
        }
      ],
      "source": [
        "for cluster in cluster_details:\n",
        "    if len(cluster[\"total_classes\"]) > 1:\n",
        "        "
      ]
    },
    {
      "cell_type": "code",
      "execution_count": null,
      "metadata": {
        "id": "dGCW1nEi4x2s"
      },
      "outputs": [],
      "source": [
        "def tRandomForestCLassifier(features, labels):\n",
        "    classifier = RandomForestClassifier(n_estimators=10, criterion='gini', max_depth=6)\n",
        "    return classifier.fit(features, labels)"
      ]
    },
    {
      "cell_type": "code",
      "execution_count": null,
      "metadata": {
        "id": "lQJqhGPr4x2t"
      },
      "outputs": [],
      "source": [
        "unseen_features_fold = features.iloc[unseen_fold_train_indexes]\n",
        "unseen_labels_fold = labels.iloc[unseen_fold_train_indexes]"
      ]
    },
    {
      "cell_type": "code",
      "execution_count": null,
      "metadata": {
        "colab": {
          "base_uri": "https://localhost:8080/",
          "height": 1000
        },
        "id": "XGC48Hjl4x2t",
        "outputId": "d5324b8f-7efd-4b81-c544-757ce7795d6e"
      },
      "outputs": [
        {
          "output_type": "display_data",
          "data": {
            "text/plain": [
              "[(0, array([0.28912752]))]"
            ]
          },
          "metadata": {}
        },
        {
          "output_type": "display_data",
          "data": {
            "text/plain": [
              "[]"
            ]
          },
          "metadata": {}
        },
        {
          "output_type": "display_data",
          "data": {
            "text/plain": [
              "[(4, array([0.28360437]))]"
            ]
          },
          "metadata": {}
        },
        {
          "output_type": "display_data",
          "data": {
            "text/plain": [
              "[(0, array([0.27882429]))]"
            ]
          },
          "metadata": {}
        },
        {
          "output_type": "display_data",
          "data": {
            "text/plain": [
              "[(0, array([0.23568364]))]"
            ]
          },
          "metadata": {}
        },
        {
          "output_type": "display_data",
          "data": {
            "text/plain": [
              "[(0, array([0.30325166]))]"
            ]
          },
          "metadata": {}
        },
        {
          "output_type": "display_data",
          "data": {
            "text/plain": [
              "[(0, array([0.19144365]))]"
            ]
          },
          "metadata": {}
        },
        {
          "output_type": "display_data",
          "data": {
            "text/plain": [
              "[(0, array([0.23689734]))]"
            ]
          },
          "metadata": {}
        },
        {
          "output_type": "display_data",
          "data": {
            "text/plain": [
              "[(0, array([0.30902078]))]"
            ]
          },
          "metadata": {}
        },
        {
          "output_type": "display_data",
          "data": {
            "text/plain": [
              "[(0, array([0.2007083]))]"
            ]
          },
          "metadata": {}
        },
        {
          "output_type": "display_data",
          "data": {
            "text/plain": [
              "[]"
            ]
          },
          "metadata": {}
        },
        {
          "output_type": "display_data",
          "data": {
            "text/plain": [
              "[]"
            ]
          },
          "metadata": {}
        },
        {
          "output_type": "display_data",
          "data": {
            "text/plain": [
              "[(0, array([0.27214785]))]"
            ]
          },
          "metadata": {}
        },
        {
          "output_type": "display_data",
          "data": {
            "text/plain": [
              "[(0, array([0.23797504]))]"
            ]
          },
          "metadata": {}
        },
        {
          "output_type": "display_data",
          "data": {
            "text/plain": [
              "[]"
            ]
          },
          "metadata": {}
        },
        {
          "output_type": "display_data",
          "data": {
            "text/plain": [
              "[(0, array([0.37061528]))]"
            ]
          },
          "metadata": {}
        },
        {
          "output_type": "display_data",
          "data": {
            "text/plain": [
              "[(0, array([0.30327361]))]"
            ]
          },
          "metadata": {}
        },
        {
          "output_type": "display_data",
          "data": {
            "text/plain": [
              "[(4, array([0.24714907]))]"
            ]
          },
          "metadata": {}
        },
        {
          "output_type": "display_data",
          "data": {
            "text/plain": [
              "[(0, array([0.28509763]))]"
            ]
          },
          "metadata": {}
        },
        {
          "output_type": "display_data",
          "data": {
            "text/plain": [
              "[(0, array([0.30587579]))]"
            ]
          },
          "metadata": {}
        },
        {
          "output_type": "display_data",
          "data": {
            "text/plain": [
              "[(0, array([0.34920067]))]"
            ]
          },
          "metadata": {}
        },
        {
          "output_type": "display_data",
          "data": {
            "text/plain": [
              "[]"
            ]
          },
          "metadata": {}
        },
        {
          "output_type": "display_data",
          "data": {
            "text/plain": [
              "[(0, array([0.22945754]))]"
            ]
          },
          "metadata": {}
        },
        {
          "output_type": "display_data",
          "data": {
            "text/plain": [
              "[(0, array([0.34389127]))]"
            ]
          },
          "metadata": {}
        },
        {
          "output_type": "display_data",
          "data": {
            "text/plain": [
              "[(0, array([0.27757392]))]"
            ]
          },
          "metadata": {}
        },
        {
          "output_type": "display_data",
          "data": {
            "text/plain": [
              "[(0, array([0.23605151]))]"
            ]
          },
          "metadata": {}
        },
        {
          "output_type": "display_data",
          "data": {
            "text/plain": [
              "[(0, array([0.29216479]))]"
            ]
          },
          "metadata": {}
        },
        {
          "output_type": "display_data",
          "data": {
            "text/plain": [
              "[(0, array([0.28741238]))]"
            ]
          },
          "metadata": {}
        },
        {
          "output_type": "display_data",
          "data": {
            "text/plain": [
              "[(0, array([0.31260565]))]"
            ]
          },
          "metadata": {}
        },
        {
          "output_type": "display_data",
          "data": {
            "text/plain": [
              "[]"
            ]
          },
          "metadata": {}
        },
        {
          "output_type": "display_data",
          "data": {
            "text/plain": [
              "[(0, array([0.25659033]))]"
            ]
          },
          "metadata": {}
        },
        {
          "output_type": "display_data",
          "data": {
            "text/plain": [
              "[(0, array([0.21066596]))]"
            ]
          },
          "metadata": {}
        },
        {
          "output_type": "display_data",
          "data": {
            "text/plain": [
              "[(0, array([0.31708448]))]"
            ]
          },
          "metadata": {}
        },
        {
          "output_type": "display_data",
          "data": {
            "text/plain": [
              "[(0, array([0.29885095]))]"
            ]
          },
          "metadata": {}
        },
        {
          "output_type": "display_data",
          "data": {
            "text/plain": [
              "[(0, array([0.32901491])), (3, array([0.36901127]))]"
            ]
          },
          "metadata": {}
        },
        {
          "output_type": "display_data",
          "data": {
            "text/plain": [
              "[]"
            ]
          },
          "metadata": {}
        },
        {
          "output_type": "display_data",
          "data": {
            "text/plain": [
              "[(4, array([0.36305121]))]"
            ]
          },
          "metadata": {}
        },
        {
          "output_type": "display_data",
          "data": {
            "text/plain": [
              "[(4, array([0.21627249]))]"
            ]
          },
          "metadata": {}
        },
        {
          "output_type": "display_data",
          "data": {
            "text/plain": [
              "[(0, array([0.23350053]))]"
            ]
          },
          "metadata": {}
        },
        {
          "output_type": "display_data",
          "data": {
            "text/plain": [
              "[]"
            ]
          },
          "metadata": {}
        },
        {
          "output_type": "display_data",
          "data": {
            "text/plain": [
              "[(0, array([0.35836468]))]"
            ]
          },
          "metadata": {}
        },
        {
          "output_type": "display_data",
          "data": {
            "text/plain": [
              "[(0, array([0.24299047]))]"
            ]
          },
          "metadata": {}
        },
        {
          "output_type": "display_data",
          "data": {
            "text/plain": [
              "[(0, array([0.19857359]))]"
            ]
          },
          "metadata": {}
        },
        {
          "output_type": "display_data",
          "data": {
            "text/plain": [
              "[(0, array([0.30024622]))]"
            ]
          },
          "metadata": {}
        },
        {
          "output_type": "display_data",
          "data": {
            "text/plain": [
              "[]"
            ]
          },
          "metadata": {}
        },
        {
          "output_type": "display_data",
          "data": {
            "text/plain": [
              "[(0, array([0.24247816]))]"
            ]
          },
          "metadata": {}
        },
        {
          "output_type": "display_data",
          "data": {
            "text/plain": [
              "[(0, array([0.34437819]))]"
            ]
          },
          "metadata": {}
        },
        {
          "output_type": "display_data",
          "data": {
            "text/plain": [
              "[(0, array([0.26425828]))]"
            ]
          },
          "metadata": {}
        },
        {
          "output_type": "display_data",
          "data": {
            "text/plain": [
              "[(0, array([0.21671538]))]"
            ]
          },
          "metadata": {}
        },
        {
          "output_type": "display_data",
          "data": {
            "text/plain": [
              "[(0, array([0.25091996]))]"
            ]
          },
          "metadata": {}
        },
        {
          "output_type": "display_data",
          "data": {
            "text/plain": [
              "[(0, array([0.19919669]))]"
            ]
          },
          "metadata": {}
        },
        {
          "output_type": "display_data",
          "data": {
            "text/plain": [
              "[(0, array([0.1806746]))]"
            ]
          },
          "metadata": {}
        },
        {
          "output_type": "display_data",
          "data": {
            "text/plain": [
              "[(0, array([0.30808437]))]"
            ]
          },
          "metadata": {}
        },
        {
          "output_type": "display_data",
          "data": {
            "text/plain": [
              "[]"
            ]
          },
          "metadata": {}
        },
        {
          "output_type": "display_data",
          "data": {
            "text/plain": [
              "[]"
            ]
          },
          "metadata": {}
        },
        {
          "output_type": "display_data",
          "data": {
            "text/plain": [
              "[]"
            ]
          },
          "metadata": {}
        },
        {
          "output_type": "display_data",
          "data": {
            "text/plain": [
              "[(3, array([0.33504314]))]"
            ]
          },
          "metadata": {}
        },
        {
          "output_type": "display_data",
          "data": {
            "text/plain": [
              "[]"
            ]
          },
          "metadata": {}
        },
        {
          "output_type": "display_data",
          "data": {
            "text/plain": [
              "[(1, array([0.287554]))]"
            ]
          },
          "metadata": {}
        },
        {
          "output_type": "display_data",
          "data": {
            "text/plain": [
              "[(3, array([0.34335375]))]"
            ]
          },
          "metadata": {}
        },
        {
          "output_type": "display_data",
          "data": {
            "text/plain": [
              "[]"
            ]
          },
          "metadata": {}
        },
        {
          "output_type": "display_data",
          "data": {
            "text/plain": [
              "[(3, array([0.2943712]))]"
            ]
          },
          "metadata": {}
        },
        {
          "output_type": "display_data",
          "data": {
            "text/plain": [
              "[]"
            ]
          },
          "metadata": {}
        },
        {
          "output_type": "display_data",
          "data": {
            "text/plain": [
              "[]"
            ]
          },
          "metadata": {}
        },
        {
          "output_type": "display_data",
          "data": {
            "text/plain": [
              "[]"
            ]
          },
          "metadata": {}
        },
        {
          "output_type": "display_data",
          "data": {
            "text/plain": [
              "[]"
            ]
          },
          "metadata": {}
        },
        {
          "output_type": "display_data",
          "data": {
            "text/plain": [
              "[(3, array([0.28715023]))]"
            ]
          },
          "metadata": {}
        },
        {
          "output_type": "display_data",
          "data": {
            "text/plain": [
              "[]"
            ]
          },
          "metadata": {}
        },
        {
          "output_type": "display_data",
          "data": {
            "text/plain": [
              "[]"
            ]
          },
          "metadata": {}
        },
        {
          "output_type": "display_data",
          "data": {
            "text/plain": [
              "[(3, array([0.36389731])), (1, array([0.37004165]))]"
            ]
          },
          "metadata": {}
        },
        {
          "output_type": "display_data",
          "data": {
            "text/plain": [
              "[(1, array([0.33277009]))]"
            ]
          },
          "metadata": {}
        },
        {
          "output_type": "display_data",
          "data": {
            "text/plain": [
              "[]"
            ]
          },
          "metadata": {}
        },
        {
          "output_type": "display_data",
          "data": {
            "text/plain": [
              "[(3, array([0.28570239]))]"
            ]
          },
          "metadata": {}
        },
        {
          "output_type": "display_data",
          "data": {
            "text/plain": [
              "[(3, array([0.21294237]))]"
            ]
          },
          "metadata": {}
        },
        {
          "output_type": "display_data",
          "data": {
            "text/plain": [
              "[(1, array([0.27993187])), (3, array([0.37727394]))]"
            ]
          },
          "metadata": {}
        },
        {
          "output_type": "display_data",
          "data": {
            "text/plain": [
              "[(5, array([0.32177644]))]"
            ]
          },
          "metadata": {}
        },
        {
          "output_type": "display_data",
          "data": {
            "text/plain": [
              "[(3, array([0.3394415]))]"
            ]
          },
          "metadata": {}
        },
        {
          "output_type": "display_data",
          "data": {
            "text/plain": [
              "[(3, array([0.1862876]))]"
            ]
          },
          "metadata": {}
        },
        {
          "output_type": "display_data",
          "data": {
            "text/plain": [
              "[(1, array([0.21316099])), (3, array([0.37982329]))]"
            ]
          },
          "metadata": {}
        },
        {
          "output_type": "display_data",
          "data": {
            "text/plain": [
              "[(1, array([0.34819749]))]"
            ]
          },
          "metadata": {}
        },
        {
          "output_type": "display_data",
          "data": {
            "text/plain": [
              "[(1, array([0.16842507]))]"
            ]
          },
          "metadata": {}
        },
        {
          "output_type": "display_data",
          "data": {
            "text/plain": [
              "[(1, array([0.31712683])), (3, array([0.36647856]))]"
            ]
          },
          "metadata": {}
        },
        {
          "output_type": "display_data",
          "data": {
            "text/plain": [
              "[(1, array([0.19479132]))]"
            ]
          },
          "metadata": {}
        },
        {
          "output_type": "display_data",
          "data": {
            "text/plain": [
              "[(3, array([0.33015593])), (4, array([0.37483604]))]"
            ]
          },
          "metadata": {}
        },
        {
          "output_type": "display_data",
          "data": {
            "text/plain": [
              "[(3, array([0.31195402]))]"
            ]
          },
          "metadata": {}
        },
        {
          "output_type": "display_data",
          "data": {
            "text/plain": [
              "[]"
            ]
          },
          "metadata": {}
        },
        {
          "output_type": "display_data",
          "data": {
            "text/plain": [
              "[]"
            ]
          },
          "metadata": {}
        },
        {
          "output_type": "display_data",
          "data": {
            "text/plain": [
              "[(3, array([0.2062293]))]"
            ]
          },
          "metadata": {}
        },
        {
          "output_type": "display_data",
          "data": {
            "text/plain": [
              "[]"
            ]
          },
          "metadata": {}
        },
        {
          "output_type": "display_data",
          "data": {
            "text/plain": [
              "[]"
            ]
          },
          "metadata": {}
        },
        {
          "output_type": "display_data",
          "data": {
            "text/plain": [
              "[(3, array([0.25728275]))]"
            ]
          },
          "metadata": {}
        },
        {
          "output_type": "display_data",
          "data": {
            "text/plain": [
              "[(3, array([0.29386984]))]"
            ]
          },
          "metadata": {}
        },
        {
          "output_type": "display_data",
          "data": {
            "text/plain": [
              "[(3, array([0.32098578])), (4, array([0.35271137]))]"
            ]
          },
          "metadata": {}
        },
        {
          "output_type": "display_data",
          "data": {
            "text/plain": [
              "[(3, array([0.26127445])), (1, array([0.33393108]))]"
            ]
          },
          "metadata": {}
        },
        {
          "output_type": "display_data",
          "data": {
            "text/plain": [
              "[(3, array([0.24157179]))]"
            ]
          },
          "metadata": {}
        },
        {
          "output_type": "display_data",
          "data": {
            "text/plain": [
              "[]"
            ]
          },
          "metadata": {}
        },
        {
          "output_type": "display_data",
          "data": {
            "text/plain": [
              "[(3, array([0.25013816])), (1, array([0.33684784]))]"
            ]
          },
          "metadata": {}
        },
        {
          "output_type": "display_data",
          "data": {
            "text/plain": [
              "[(1, array([0.23141144]))]"
            ]
          },
          "metadata": {}
        },
        {
          "output_type": "display_data",
          "data": {
            "text/plain": [
              "[(3, array([0.28026405]))]"
            ]
          },
          "metadata": {}
        },
        {
          "output_type": "display_data",
          "data": {
            "text/plain": [
              "[]"
            ]
          },
          "metadata": {}
        },
        {
          "output_type": "display_data",
          "data": {
            "text/plain": [
              "[]"
            ]
          },
          "metadata": {}
        },
        {
          "output_type": "display_data",
          "data": {
            "text/plain": [
              "[(3, array([0.27953121]))]"
            ]
          },
          "metadata": {}
        },
        {
          "output_type": "display_data",
          "data": {
            "text/plain": [
              "[(1, array([0.33911529]))]"
            ]
          },
          "metadata": {}
        },
        {
          "output_type": "display_data",
          "data": {
            "text/plain": [
              "[(1, array([0.27731257])), (3, array([0.33284877]))]"
            ]
          },
          "metadata": {}
        },
        {
          "output_type": "display_data",
          "data": {
            "text/plain": [
              "[(1, array([0.35320049])), (3, array([0.36289344]))]"
            ]
          },
          "metadata": {}
        },
        {
          "output_type": "display_data",
          "data": {
            "text/plain": [
              "[]"
            ]
          },
          "metadata": {}
        },
        {
          "output_type": "display_data",
          "data": {
            "text/plain": [
              "[(3, array([0.23227251]))]"
            ]
          },
          "metadata": {}
        },
        {
          "output_type": "display_data",
          "data": {
            "text/plain": [
              "[(3, array([0.22454367])), (1, array([0.36265528]))]"
            ]
          },
          "metadata": {}
        },
        {
          "output_type": "display_data",
          "data": {
            "text/plain": [
              "[(5, array([0.37071535]))]"
            ]
          },
          "metadata": {}
        },
        {
          "output_type": "display_data",
          "data": {
            "text/plain": [
              "[]"
            ]
          },
          "metadata": {}
        },
        {
          "output_type": "display_data",
          "data": {
            "text/plain": [
              "[]"
            ]
          },
          "metadata": {}
        },
        {
          "output_type": "display_data",
          "data": {
            "text/plain": [
              "[]"
            ]
          },
          "metadata": {}
        },
        {
          "output_type": "display_data",
          "data": {
            "text/plain": [
              "[(3, array([0.30530846]))]"
            ]
          },
          "metadata": {}
        },
        {
          "output_type": "display_data",
          "data": {
            "text/plain": [
              "[]"
            ]
          },
          "metadata": {}
        },
        {
          "output_type": "display_data",
          "data": {
            "text/plain": [
              "[(1, array([0.37908928]))]"
            ]
          },
          "metadata": {}
        },
        {
          "output_type": "display_data",
          "data": {
            "text/plain": [
              "[(3, array([0.32750014])), (1, array([0.37708142]))]"
            ]
          },
          "metadata": {}
        },
        {
          "output_type": "display_data",
          "data": {
            "text/plain": [
              "[]"
            ]
          },
          "metadata": {}
        },
        {
          "output_type": "display_data",
          "data": {
            "text/plain": [
              "[]"
            ]
          },
          "metadata": {}
        },
        {
          "output_type": "display_data",
          "data": {
            "text/plain": [
              "[]"
            ]
          },
          "metadata": {}
        },
        {
          "output_type": "display_data",
          "data": {
            "text/plain": [
              "[]"
            ]
          },
          "metadata": {}
        },
        {
          "output_type": "display_data",
          "data": {
            "text/plain": [
              "[]"
            ]
          },
          "metadata": {}
        },
        {
          "output_type": "display_data",
          "data": {
            "text/plain": [
              "[]"
            ]
          },
          "metadata": {}
        },
        {
          "output_type": "display_data",
          "data": {
            "text/plain": [
              "[(5, array([0.35738125]))]"
            ]
          },
          "metadata": {}
        },
        {
          "output_type": "display_data",
          "data": {
            "text/plain": [
              "[(5, array([0.2829703]))]"
            ]
          },
          "metadata": {}
        },
        {
          "output_type": "display_data",
          "data": {
            "text/plain": [
              "[]"
            ]
          },
          "metadata": {}
        },
        {
          "output_type": "display_data",
          "data": {
            "text/plain": [
              "[(5, array([0.16911389]))]"
            ]
          },
          "metadata": {}
        },
        {
          "output_type": "display_data",
          "data": {
            "text/plain": [
              "[(5, array([0.29750461]))]"
            ]
          },
          "metadata": {}
        },
        {
          "output_type": "display_data",
          "data": {
            "text/plain": [
              "[(5, array([0.25913294]))]"
            ]
          },
          "metadata": {}
        },
        {
          "output_type": "display_data",
          "data": {
            "text/plain": [
              "[]"
            ]
          },
          "metadata": {}
        },
        {
          "output_type": "display_data",
          "data": {
            "text/plain": [
              "[(5, array([0.26357276]))]"
            ]
          },
          "metadata": {}
        },
        {
          "output_type": "display_data",
          "data": {
            "text/plain": [
              "[(5, array([0.26764233]))]"
            ]
          },
          "metadata": {}
        },
        {
          "output_type": "display_data",
          "data": {
            "text/plain": [
              "[(2, array([0.34023705]))]"
            ]
          },
          "metadata": {}
        },
        {
          "output_type": "display_data",
          "data": {
            "text/plain": [
              "[(5, array([0.27465805]))]"
            ]
          },
          "metadata": {}
        },
        {
          "output_type": "display_data",
          "data": {
            "text/plain": [
              "[(5, array([0.25347771])), (2, array([0.36596794]))]"
            ]
          },
          "metadata": {}
        },
        {
          "output_type": "display_data",
          "data": {
            "text/plain": [
              "[(2, array([0.14763327])), (5, array([0.31144282]))]"
            ]
          },
          "metadata": {}
        },
        {
          "output_type": "display_data",
          "data": {
            "text/plain": [
              "[(2, array([0.2452532]))]"
            ]
          },
          "metadata": {}
        },
        {
          "output_type": "display_data",
          "data": {
            "text/plain": [
              "[(2, array([0.36329887]))]"
            ]
          },
          "metadata": {}
        },
        {
          "output_type": "display_data",
          "data": {
            "text/plain": [
              "[(2, array([0.33780929]))]"
            ]
          },
          "metadata": {}
        },
        {
          "output_type": "display_data",
          "data": {
            "text/plain": [
              "[]"
            ]
          },
          "metadata": {}
        },
        {
          "output_type": "display_data",
          "data": {
            "text/plain": [
              "[]"
            ]
          },
          "metadata": {}
        },
        {
          "output_type": "display_data",
          "data": {
            "text/plain": [
              "[]"
            ]
          },
          "metadata": {}
        },
        {
          "output_type": "display_data",
          "data": {
            "text/plain": [
              "[]"
            ]
          },
          "metadata": {}
        },
        {
          "output_type": "display_data",
          "data": {
            "text/plain": [
              "[]"
            ]
          },
          "metadata": {}
        },
        {
          "output_type": "display_data",
          "data": {
            "text/plain": [
              "[]"
            ]
          },
          "metadata": {}
        },
        {
          "output_type": "display_data",
          "data": {
            "text/plain": [
              "[]"
            ]
          },
          "metadata": {}
        },
        {
          "output_type": "display_data",
          "data": {
            "text/plain": [
              "[(5, array([0.28063937])), (2, array([0.31912473]))]"
            ]
          },
          "metadata": {}
        },
        {
          "output_type": "display_data",
          "data": {
            "text/plain": [
              "[(5, array([0.22034413]))]"
            ]
          },
          "metadata": {}
        },
        {
          "output_type": "display_data",
          "data": {
            "text/plain": [
              "[(5, array([0.22640137]))]"
            ]
          },
          "metadata": {}
        },
        {
          "output_type": "display_data",
          "data": {
            "text/plain": [
              "[(5, array([0.23365753])), (2, array([0.35015848]))]"
            ]
          },
          "metadata": {}
        },
        {
          "output_type": "display_data",
          "data": {
            "text/plain": [
              "[(2, array([0.18859105]))]"
            ]
          },
          "metadata": {}
        },
        {
          "output_type": "display_data",
          "data": {
            "text/plain": [
              "[(5, array([0.20047852]))]"
            ]
          },
          "metadata": {}
        },
        {
          "output_type": "display_data",
          "data": {
            "text/plain": [
              "[(2, array([0.23936972]))]"
            ]
          },
          "metadata": {}
        },
        {
          "output_type": "display_data",
          "data": {
            "text/plain": [
              "[(2, array([0.22933008]))]"
            ]
          },
          "metadata": {}
        },
        {
          "output_type": "display_data",
          "data": {
            "text/plain": [
              "[(2, array([0.1954647]))]"
            ]
          },
          "metadata": {}
        },
        {
          "output_type": "display_data",
          "data": {
            "text/plain": [
              "[]"
            ]
          },
          "metadata": {}
        },
        {
          "output_type": "display_data",
          "data": {
            "text/plain": [
              "[(2, array([0.34200307]))]"
            ]
          },
          "metadata": {}
        },
        {
          "output_type": "display_data",
          "data": {
            "text/plain": [
              "[(5, array([0.3712972]))]"
            ]
          },
          "metadata": {}
        },
        {
          "output_type": "display_data",
          "data": {
            "text/plain": [
              "[(2, array([0.22616898])), (5, array([0.26499086]))]"
            ]
          },
          "metadata": {}
        },
        {
          "output_type": "display_data",
          "data": {
            "text/plain": [
              "[(2, array([0.30534797]))]"
            ]
          },
          "metadata": {}
        },
        {
          "output_type": "display_data",
          "data": {
            "text/plain": [
              "[(2, array([0.35349047]))]"
            ]
          },
          "metadata": {}
        }
      ],
      "source": [
        "predicted_labels = []\n",
        "for feature in unseen_features_fold.to_numpy():\n",
        "    cluster_distances = pairwise_distances(cluster_labels_wine.cluster_centers_, feature.reshape(1,-1))\n",
        "    close_clusters = {}\n",
        "    for cluster in range(len(cluster_distances)):\n",
        "        if cluster_distances[cluster] <= 0.38:\n",
        "            close_clusters[cluster] = cluster_distances[cluster]\n",
        "            \n",
        "    choosen_cluster = sorted(close_clusters.items(), key=lambda x:x[1])\n",
        "    display(choosen_cluster)\n",
        "    # print(cluster_details[choosen_cluster])\n",
        "    if len(choosen_cluster) > 0:\n",
        "      if len(cluster_details[choosen_cluster[0][0]][\"total_classes\"]) > 1:\n",
        "          predicted_labels.append(cluster_details[choosen_cluster[0][0]][\"classifier\"].predict(feature.reshape(1,-1)))\n",
        "      else:\n",
        "          predicted_labels.append(cluster_details[choosen_cluster[0][0]][\"minority_class\"])\n",
        "    "
      ]
    },
    {
      "cell_type": "code",
      "execution_count": null,
      "metadata": {
        "colab": {
          "base_uri": "https://localhost:8080/"
        },
        "id": "AgeON0Ou4x2u",
        "outputId": "f94df1b8-b0d4-4eb4-8aae-a76f70a144e3"
      },
      "outputs": [
        {
          "output_type": "execute_result",
          "data": {
            "text/plain": [
              "[1,\n",
              " 1,\n",
              " 1,\n",
              " 1,\n",
              " 1,\n",
              " 1,\n",
              " 1,\n",
              " 1,\n",
              " 1,\n",
              " 1,\n",
              " 1,\n",
              " 1,\n",
              " 1,\n",
              " 1,\n",
              " 1,\n",
              " 1,\n",
              " 1,\n",
              " 1,\n",
              " 1,\n",
              " 1,\n",
              " 1,\n",
              " 1,\n",
              " 1,\n",
              " 1,\n",
              " 1,\n",
              " 1,\n",
              " 1,\n",
              " 1,\n",
              " 1,\n",
              " 1,\n",
              " 1,\n",
              " 1,\n",
              " 1,\n",
              " 1,\n",
              " 1,\n",
              " 1,\n",
              " 1,\n",
              " 1,\n",
              " 1,\n",
              " 1,\n",
              " 1,\n",
              " 1,\n",
              " 1,\n",
              " 1,\n",
              " 2,\n",
              " 2,\n",
              " 2,\n",
              " 2,\n",
              " 2,\n",
              " 2,\n",
              " 2,\n",
              " 2,\n",
              " 2,\n",
              " 2,\n",
              " 3,\n",
              " 2,\n",
              " 2,\n",
              " 2,\n",
              " 2,\n",
              " 2,\n",
              " 2,\n",
              " 2,\n",
              " 2,\n",
              " 2,\n",
              " 2,\n",
              " 2,\n",
              " 2,\n",
              " 2,\n",
              " 2,\n",
              " 2,\n",
              " 2,\n",
              " 2,\n",
              " 2,\n",
              " 2,\n",
              " 2,\n",
              " 2,\n",
              " 2,\n",
              " 2,\n",
              " 2,\n",
              " 3,\n",
              " 2,\n",
              " 2,\n",
              " 2,\n",
              " 3,\n",
              " 3,\n",
              " 3,\n",
              " 3,\n",
              " 3,\n",
              " 3,\n",
              " 3,\n",
              " 3,\n",
              " 3,\n",
              " 3,\n",
              " 3,\n",
              " 3,\n",
              " 3,\n",
              " 3,\n",
              " 3,\n",
              " 3,\n",
              " 3,\n",
              " 3,\n",
              " 3,\n",
              " 3,\n",
              " 3,\n",
              " 3,\n",
              " 3,\n",
              " 3,\n",
              " 3,\n",
              " 3,\n",
              " 3,\n",
              " 3]"
            ]
          },
          "metadata": {},
          "execution_count": 46
        }
      ],
      "source": [
        "predicted_labels"
      ]
    },
    {
      "cell_type": "code",
      "execution_count": null,
      "metadata": {
        "id": "KwmN36AI4x2v"
      },
      "outputs": [],
      "source": [
        ""
      ]
    },
    {
      "cell_type": "code",
      "execution_count": null,
      "metadata": {
        "id": "o8GFh5pc4x2v"
      },
      "outputs": [],
      "source": [
        ""
      ]
    },
    {
      "cell_type": "code",
      "execution_count": null,
      "metadata": {
        "id": "NOFxdxyY4x2w"
      },
      "outputs": [],
      "source": [
        ""
      ]
    },
    {
      "cell_type": "code",
      "execution_count": null,
      "metadata": {
        "id": "aHQ1Rkz-4x2w"
      },
      "outputs": [],
      "source": [
        ""
      ]
    },
    {
      "cell_type": "code",
      "execution_count": null,
      "metadata": {
        "id": "GZ604aee4x2x"
      },
      "outputs": [],
      "source": [
        ""
      ]
    },
    {
      "cell_type": "code",
      "execution_count": null,
      "metadata": {
        "id": "RzXfWJPX4x2x"
      },
      "outputs": [],
      "source": [
        ""
      ]
    },
    {
      "cell_type": "code",
      "execution_count": null,
      "metadata": {
        "id": "suh0IwjP4x2y"
      },
      "outputs": [],
      "source": [
        ""
      ]
    }
  ],
  "metadata": {
    "kernelspec": {
      "display_name": "Python 3 (ipykernel)",
      "language": "python",
      "name": "python3"
    },
    "language_info": {
      "codemirror_mode": {
        "name": "ipython",
        "version": 3
      },
      "file_extension": ".py",
      "mimetype": "text/x-python",
      "name": "python",
      "nbconvert_exporter": "python",
      "pygments_lexer": "ipython3",
      "version": "3.8.10"
    },
    "colab": {
      "name": "python1234.ipynb",
      "provenance": [],
      "collapsed_sections": [],
      "include_colab_link": true
    }
  },
  "nbformat": 4,
  "nbformat_minor": 0
}